{
 "cells": [
  {
   "cell_type": "markdown",
   "metadata": {},
   "source": [
    "# Health Related Federal Grant Tracking\n",
    "----------------------------------------------------------------\n",
    "\n",
    "The US government invests billions each year into the health research. The \"open government\" initiative provides more transparency into the governmental activities in the health related sector. Grant application data from NIH, ACF, AHRQ, CDC, HRSA, FDA, and VA are now easily accessible. With that large amount of data, we can now track the trend of the health research according to the amount of grant money. What research topics/areaes get more attractive? How have they been changing over the years? What area in the health sector will likely be the next breakthrough? I will try to explore those questions from the grant application database. \n",
    "\n",
    "First of all, the database called NIH ExPORTER is accesible [here](https://exporter.nih.gov/ExPORTER_Catalog.aspx). A total of 7.3 GB data were downloaded. "
   ]
  },
  {
   "cell_type": "code",
   "execution_count": 1,
   "metadata": {},
   "outputs": [],
   "source": [
    "%matplotlib inline\n",
    "import matplotlib\n",
    "import numpy as np\n",
    "import pandas as pd\n",
    "from datetime import datetime\n",
    "import seaborn as sns\n",
    "import os\n",
    "import dill\n",
    "from tqdm import tqdm_notebook\n",
    "import gensim\n",
    "import pickle\n",
    "sns.set()\n",
    "matplotlib.rcParams['figure.dpi'] = 144"
   ]
  },
  {
   "cell_type": "code",
   "execution_count": 22,
   "metadata": {},
   "outputs": [
    {
     "data": {
      "application/vnd.jupyter.widget-view+json": {
       "model_id": "43ce0f211c934009b0a7e4b42d64542d",
       "version_major": 2,
       "version_minor": 0
      },
      "text/html": [
       "<p>Failed to display Jupyter Widget of type <code>HBox</code>.</p>\n",
       "<p>\n",
       "  If you're reading this message in the Jupyter Notebook or JupyterLab Notebook, it may mean\n",
       "  that the widgets JavaScript is still loading. If this message persists, it\n",
       "  likely means that the widgets JavaScript library is either not installed or\n",
       "  not enabled. See the <a href=\"https://ipywidgets.readthedocs.io/en/stable/user_install.html\">Jupyter\n",
       "  Widgets Documentation</a> for setup instructions.\n",
       "</p>\n",
       "<p>\n",
       "  If you're reading this message in another frontend (for example, a static\n",
       "  rendering on GitHub or <a href=\"https://nbviewer.jupyter.org/\">NBViewer</a>),\n",
       "  it may mean that your frontend doesn't currently support widgets.\n",
       "</p>\n"
      ],
      "text/plain": [
       "HBox(children=(IntProgress(value=0, max=33), HTML(value='')))"
      ]
     },
     "metadata": {},
     "output_type": "display_data"
    }
   ],
   "source": [
    "from tqdm import tqdm_notebook\n",
    "fns = os.listdir('./Data/PRJABS/')\n",
    "fns.sort()\n",
    "fns = ['./Data/PRJABS/'+x for x in fns]\n",
    "proj_ABS = [pd.read_csv(fn,header = 0,dtype = {'APPLICATION_ID': str,'ABSTRACT_TEXT': str},engine = 'python') for fn in tqdm_notebook(fns)]\n"
   ]
  },
  {
   "cell_type": "code",
   "execution_count": 58,
   "metadata": {},
   "outputs": [],
   "source": [
    "#add fiscal year number,fix the data type\n",
    "for i in range(len(proj_ABS)):\n",
    "    proj_ABS[i]['FY'] = i + 1985\n",
    "    proj_ABS[i].apply(str)\n",
    "#concate the whole table\n",
    "proj_ABS = pd.concat(proj_ABS)"
   ]
  },
  {
   "cell_type": "code",
   "execution_count": 90,
   "metadata": {},
   "outputs": [],
   "source": [
    "#all the non-missing entries\n",
    "proj_ABS = proj_ABS[proj_ABS['ABSTRACT_TEXT']!= 'nan']"
   ]
  },
  {
   "cell_type": "code",
   "execution_count": 93,
   "metadata": {},
   "outputs": [],
   "source": [
    "dill.dump(proj_ABS,open('abstracts.dill','wb'))"
   ]
  },
  {
   "cell_type": "code",
   "execution_count": 2,
   "metadata": {},
   "outputs": [],
   "source": [
    "proj_ABS = dill.load(open('abstracts.dill','rb'))"
   ]
  },
  {
   "cell_type": "markdown",
   "metadata": {},
   "source": [
    "# Unsupervised topic modeling with the abstracts\n",
    "With all the non-missing text files in the dataset, I will start the NLP to extract some basic labels. I will try to set the number of topics ahead of time to evaluate what is the best number of topics. I will mainly use the Latent Dirichlet Allocation (LDA) topic modeling technique."
   ]
  },
  {
   "cell_type": "markdown",
   "metadata": {},
   "source": [
    "The abstracts will first be cleaned. Steps include parsing and tokenization, whitespace striping, lowering the words, word lemmatizing, and stop-words cleaning. The bags of word tokens will then be ready for the next step.  "
   ]
  },
  {
   "cell_type": "code",
   "execution_count": 3,
   "metadata": {},
   "outputs": [],
   "source": [
    "text = proj_ABS['ABSTRACT_TEXT']"
   ]
  },
  {
   "cell_type": "code",
   "execution_count": 5,
   "metadata": {},
   "outputs": [
    {
     "data": {
      "text/plain": [
       "['The aim of this proposal is an understanding of the mechanisms of antiviral action of interferons (IFN) at the molecular level.  Since different mechanisms are apparently activated against distinct viruses, I propose to investigate how treatment with IFN prevents the replication of the following viruses:  Encephalomyocarditis, reo, sindbis, vesicular stomatitis, influenza and SV40.  The first two viruses were shown in preliminary experiments to promote synthesis of (2 feet-5 feet)oligo(A) and activation of an endoribonuclease in interferon treated cells.  Sensitive assays to measure the (2 feet-5 feet)oligo(A) concentration and the formation of double -stranded RNA of viral origin in infected cells were developed and will be used in the present investigation.  In addition, synthesis and catabolism of viral RNA in IFN-treated cells will be studied by fractionation of viral RNA by gel electrophoresis and hybridization to specific radioactive probes (Northern blot analysis).  Another antiviral mechanisms which results in the synthesis of inactive viral mRNA unmethylated in the guanosine residue of the cap will also be investigated.  Changes in the cellular level of S-adenosylhomocysteine may explain this IFN effect.  In another line of research, the binding of iodinated IFN to cellular receptors will be studied.  Interferon produced in E. coli by recombinant DNA technology will be used in these experiments, which will investigate whether IFN undergoes a temperature-dependent change after binding to cells, whether it is internalized or is released from cell receptors after the initial binding.  The receptors level in cells unresponsive to IFN will be also investigated.  The long-range objective of these studies is an understanding of the mechanism of action of IFN, from their interaction with receptors to the induction of the synthesis of specific enzymes and their activation in infected cells. ']"
      ]
     },
     "execution_count": 5,
     "metadata": {},
     "output_type": "execute_result"
    }
   ],
   "source": [
    "list(text)[:1]"
   ]
  },
  {
   "cell_type": "code",
   "execution_count": 2,
   "metadata": {},
   "outputs": [],
   "source": [
    "#Text Cleaning\n",
    "import spacy\n",
    "spacy.load('en')\n",
    "from spacy.lang.en import English\n",
    "parser = English()\n",
    "def tokenize(text):\n",
    "    lda_tokens = []\n",
    "    tokens = parser(text)\n",
    "    for token in tokens:\n",
    "        if token.orth_.isspace():\n",
    "            continue\n",
    "        else:\n",
    "            lda_tokens.append(token.lower_)\n",
    "    return lda_tokens\n",
    "\n",
    "#word lemmatize to get the root word\n",
    "import nltk\n",
    "#nltk.download('wordnet')\n",
    "from nltk.corpus import wordnet as wn\n",
    "def get_lemma(word):\n",
    "    lemma = wn.morphy(word)\n",
    "    if lemma is None:\n",
    "        return word\n",
    "    else:\n",
    "        return lemma\n",
    "    \n",
    "from nltk.stem.wordnet import WordNetLemmatizer\n",
    "def get_lemma2(word):\n",
    "    return WordNetLemmatizer().lemmatize(word)\n",
    "\n",
    "#clean stop words\n",
    "#nltk.download('stopwords')\n",
    "en_stop = set(nltk.corpus.stopwords.words('english'))\n",
    "\n",
    "#ensemble function\n",
    "def prepare_text_for_lda(text):\n",
    "    tokens = tokenize(text)\n",
    "    tokens = [token for token in tokens if len(token) > 4]\n",
    "    tokens = [token for token in tokens if token not in en_stop]\n",
    "    tokens = [get_lemma(token) for token in tokens]\n",
    "    return tokens"
   ]
  },
  {
   "cell_type": "code",
   "execution_count": 8,
   "metadata": {},
   "outputs": [
    {
     "data": {
      "text/plain": [
       "(180658, 1806580, 361316)"
      ]
     },
     "execution_count": 8,
     "metadata": {},
     "output_type": "execute_result"
    }
   ],
   "source": [
    "n = len(text)//10\n",
    "n,len(text),2*n"
   ]
  },
  {
   "cell_type": "code",
   "execution_count": 13,
   "metadata": {},
   "outputs": [
    {
     "data": {
      "application/vnd.jupyter.widget-view+json": {
       "model_id": "80da5b5e35404f17958c23b3c8eb371a",
       "version_major": 2,
       "version_minor": 0
      },
      "text/html": [
       "<p>Failed to display Jupyter Widget of type <code>HBox</code>.</p>\n",
       "<p>\n",
       "  If you're reading this message in the Jupyter Notebook or JupyterLab Notebook, it may mean\n",
       "  that the widgets JavaScript is still loading. If this message persists, it\n",
       "  likely means that the widgets JavaScript library is either not installed or\n",
       "  not enabled. See the <a href=\"https://ipywidgets.readthedocs.io/en/stable/user_install.html\">Jupyter\n",
       "  Widgets Documentation</a> for setup instructions.\n",
       "</p>\n",
       "<p>\n",
       "  If you're reading this message in another frontend (for example, a static\n",
       "  rendering on GitHub or <a href=\"https://nbviewer.jupyter.org/\">NBViewer</a>),\n",
       "  it may mean that your frontend doesn't currently support widgets.\n",
       "</p>\n"
      ],
      "text/plain": [
       "HBox(children=(IntProgress(value=0, max=180658), HTML(value='')))"
      ]
     },
     "metadata": {},
     "output_type": "display_data"
    },
    {
     "name": "stdout",
     "output_type": "stream",
     "text": [
      "\n"
     ]
    }
   ],
   "source": [
    "n = len(text)//10\n",
    "text_data1 = [prepare_text_for_lda(abs) for abs in tqdm_notebook(list(text)[:n])]"
   ]
  },
  {
   "cell_type": "code",
   "execution_count": 14,
   "metadata": {},
   "outputs": [],
   "source": [
    "dill.dump(text_data1,open('abs_tokens1.dill','wb'))"
   ]
  },
  {
   "cell_type": "code",
   "execution_count": 5,
   "metadata": {},
   "outputs": [],
   "source": [
    "text_data1 = dill.load(open('abs_tokens1.dill','rb'))"
   ]
  },
  {
   "cell_type": "code",
   "execution_count": 16,
   "metadata": {},
   "outputs": [
    {
     "data": {
      "application/vnd.jupyter.widget-view+json": {
       "model_id": "0dd7ff1314e44c8eb128e07823842a93",
       "version_major": 2,
       "version_minor": 0
      },
      "text/html": [
       "<p>Failed to display Jupyter Widget of type <code>HBox</code>.</p>\n",
       "<p>\n",
       "  If you're reading this message in the Jupyter Notebook or JupyterLab Notebook, it may mean\n",
       "  that the widgets JavaScript is still loading. If this message persists, it\n",
       "  likely means that the widgets JavaScript library is either not installed or\n",
       "  not enabled. See the <a href=\"https://ipywidgets.readthedocs.io/en/stable/user_install.html\">Jupyter\n",
       "  Widgets Documentation</a> for setup instructions.\n",
       "</p>\n",
       "<p>\n",
       "  If you're reading this message in another frontend (for example, a static\n",
       "  rendering on GitHub or <a href=\"https://nbviewer.jupyter.org/\">NBViewer</a>),\n",
       "  it may mean that your frontend doesn't currently support widgets.\n",
       "</p>\n"
      ],
      "text/plain": [
       "HBox(children=(IntProgress(value=0, max=180658), HTML(value='')))"
      ]
     },
     "metadata": {},
     "output_type": "display_data"
    },
    {
     "name": "stdout",
     "output_type": "stream",
     "text": [
      "\n"
     ]
    }
   ],
   "source": [
    "text_data2 = [prepare_text_for_lda(abs) for abs in tqdm_notebook(list(text)[n:2*n])]"
   ]
  },
  {
   "cell_type": "code",
   "execution_count": 17,
   "metadata": {},
   "outputs": [],
   "source": [
    "dill.dump(text_data2,open('abs_tokens2.dill','wb'))"
   ]
  },
  {
   "cell_type": "code",
   "execution_count": 8,
   "metadata": {},
   "outputs": [],
   "source": [
    "text_data2 = dill.load(open('abs_tokens2.dill','rb'))"
   ]
  },
  {
   "cell_type": "code",
   "execution_count": 10,
   "metadata": {},
   "outputs": [
    {
     "data": {
      "application/vnd.jupyter.widget-view+json": {
       "model_id": "3bc4a24e33e64c1899f6d904c5847a1d",
       "version_major": 2,
       "version_minor": 0
      },
      "text/html": [
       "<p>Failed to display Jupyter Widget of type <code>HBox</code>.</p>\n",
       "<p>\n",
       "  If you're reading this message in the Jupyter Notebook or JupyterLab Notebook, it may mean\n",
       "  that the widgets JavaScript is still loading. If this message persists, it\n",
       "  likely means that the widgets JavaScript library is either not installed or\n",
       "  not enabled. See the <a href=\"https://ipywidgets.readthedocs.io/en/stable/user_install.html\">Jupyter\n",
       "  Widgets Documentation</a> for setup instructions.\n",
       "</p>\n",
       "<p>\n",
       "  If you're reading this message in another frontend (for example, a static\n",
       "  rendering on GitHub or <a href=\"https://nbviewer.jupyter.org/\">NBViewer</a>),\n",
       "  it may mean that your frontend doesn't currently support widgets.\n",
       "</p>\n"
      ],
      "text/plain": [
       "HBox(children=(IntProgress(value=0, max=180658), HTML(value='')))"
      ]
     },
     "metadata": {},
     "output_type": "display_data"
    },
    {
     "name": "stdout",
     "output_type": "stream",
     "text": [
      "\n"
     ]
    }
   ],
   "source": [
    "text_data3 = [prepare_text_for_lda(abs) for abs in tqdm_notebook(list(text)[2*n:3*n])]"
   ]
  },
  {
   "cell_type": "code",
   "execution_count": 11,
   "metadata": {},
   "outputs": [],
   "source": [
    "dill.dump(text_data3,open('abs_tokens3.dill','wb'))"
   ]
  },
  {
   "cell_type": "code",
   "execution_count": 9,
   "metadata": {},
   "outputs": [],
   "source": [
    "text_data3 = dill.load(open('abs_tokens3.dill','rb'))"
   ]
  },
  {
   "cell_type": "code",
   "execution_count": 13,
   "metadata": {},
   "outputs": [
    {
     "data": {
      "application/vnd.jupyter.widget-view+json": {
       "model_id": "165e8538df1f4a8699703e663422fe58",
       "version_major": 2,
       "version_minor": 0
      },
      "text/html": [
       "<p>Failed to display Jupyter Widget of type <code>HBox</code>.</p>\n",
       "<p>\n",
       "  If you're reading this message in the Jupyter Notebook or JupyterLab Notebook, it may mean\n",
       "  that the widgets JavaScript is still loading. If this message persists, it\n",
       "  likely means that the widgets JavaScript library is either not installed or\n",
       "  not enabled. See the <a href=\"https://ipywidgets.readthedocs.io/en/stable/user_install.html\">Jupyter\n",
       "  Widgets Documentation</a> for setup instructions.\n",
       "</p>\n",
       "<p>\n",
       "  If you're reading this message in another frontend (for example, a static\n",
       "  rendering on GitHub or <a href=\"https://nbviewer.jupyter.org/\">NBViewer</a>),\n",
       "  it may mean that your frontend doesn't currently support widgets.\n",
       "</p>\n"
      ],
      "text/plain": [
       "HBox(children=(IntProgress(value=0, max=180658), HTML(value='')))"
      ]
     },
     "metadata": {},
     "output_type": "display_data"
    },
    {
     "name": "stdout",
     "output_type": "stream",
     "text": [
      "\n"
     ]
    }
   ],
   "source": [
    "text_data4 = [prepare_text_for_lda(abs) for abs in tqdm_notebook(list(text)[3*n:4*n])]"
   ]
  },
  {
   "cell_type": "code",
   "execution_count": 14,
   "metadata": {},
   "outputs": [],
   "source": [
    "dill.dump(text_data4,open('abs_tokens4.dill','wb'))"
   ]
  },
  {
   "cell_type": "code",
   "execution_count": null,
   "metadata": {},
   "outputs": [],
   "source": [
    "text_data4 = dill.load(open('abs_tokens4.dill','rb'))"
   ]
  },
  {
   "cell_type": "code",
   "execution_count": 9,
   "metadata": {},
   "outputs": [
    {
     "data": {
      "application/vnd.jupyter.widget-view+json": {
       "model_id": "5790aa1b92214d0893134e744267816c",
       "version_major": 2,
       "version_minor": 0
      },
      "text/html": [
       "<p>Failed to display Jupyter Widget of type <code>HBox</code>.</p>\n",
       "<p>\n",
       "  If you're reading this message in the Jupyter Notebook or JupyterLab Notebook, it may mean\n",
       "  that the widgets JavaScript is still loading. If this message persists, it\n",
       "  likely means that the widgets JavaScript library is either not installed or\n",
       "  not enabled. See the <a href=\"https://ipywidgets.readthedocs.io/en/stable/user_install.html\">Jupyter\n",
       "  Widgets Documentation</a> for setup instructions.\n",
       "</p>\n",
       "<p>\n",
       "  If you're reading this message in another frontend (for example, a static\n",
       "  rendering on GitHub or <a href=\"https://nbviewer.jupyter.org/\">NBViewer</a>),\n",
       "  it may mean that your frontend doesn't currently support widgets.\n",
       "</p>\n"
      ],
      "text/plain": [
       "HBox(children=(IntProgress(value=0, max=180658), HTML(value='')))"
      ]
     },
     "metadata": {},
     "output_type": "display_data"
    },
    {
     "name": "stdout",
     "output_type": "stream",
     "text": [
      "\n"
     ]
    }
   ],
   "source": [
    "text_data5 = [prepare_text_for_lda(abs) for abs in tqdm_notebook(list(text)[4*n:5*n])]"
   ]
  },
  {
   "cell_type": "code",
   "execution_count": 10,
   "metadata": {},
   "outputs": [],
   "source": [
    "dill.dump(text_data5,open('abs_tokens5.dill','wb'))"
   ]
  },
  {
   "cell_type": "code",
   "execution_count": 11,
   "metadata": {},
   "outputs": [
    {
     "data": {
      "application/vnd.jupyter.widget-view+json": {
       "model_id": "6bc648e84c7942efa357bb64c89a6b73",
       "version_major": 2,
       "version_minor": 0
      },
      "text/html": [
       "<p>Failed to display Jupyter Widget of type <code>HBox</code>.</p>\n",
       "<p>\n",
       "  If you're reading this message in the Jupyter Notebook or JupyterLab Notebook, it may mean\n",
       "  that the widgets JavaScript is still loading. If this message persists, it\n",
       "  likely means that the widgets JavaScript library is either not installed or\n",
       "  not enabled. See the <a href=\"https://ipywidgets.readthedocs.io/en/stable/user_install.html\">Jupyter\n",
       "  Widgets Documentation</a> for setup instructions.\n",
       "</p>\n",
       "<p>\n",
       "  If you're reading this message in another frontend (for example, a static\n",
       "  rendering on GitHub or <a href=\"https://nbviewer.jupyter.org/\">NBViewer</a>),\n",
       "  it may mean that your frontend doesn't currently support widgets.\n",
       "</p>\n"
      ],
      "text/plain": [
       "HBox(children=(IntProgress(value=0, max=180658), HTML(value='')))"
      ]
     },
     "metadata": {},
     "output_type": "display_data"
    },
    {
     "name": "stdout",
     "output_type": "stream",
     "text": [
      "\n"
     ]
    }
   ],
   "source": [
    "text_data6 = [prepare_text_for_lda(abs) for abs in tqdm_notebook(list(text)[5*n:6*n])]"
   ]
  },
  {
   "cell_type": "code",
   "execution_count": 12,
   "metadata": {},
   "outputs": [],
   "source": [
    "dill.dump(text_data6,open('abs_tokens6.dill','wb'))"
   ]
  },
  {
   "cell_type": "code",
   "execution_count": 9,
   "metadata": {},
   "outputs": [
    {
     "data": {
      "application/vnd.jupyter.widget-view+json": {
       "model_id": "7148c51186544a33867c0d6bce83b527",
       "version_major": 2,
       "version_minor": 0
      },
      "text/html": [
       "<p>Failed to display Jupyter Widget of type <code>HBox</code>.</p>\n",
       "<p>\n",
       "  If you're reading this message in the Jupyter Notebook or JupyterLab Notebook, it may mean\n",
       "  that the widgets JavaScript is still loading. If this message persists, it\n",
       "  likely means that the widgets JavaScript library is either not installed or\n",
       "  not enabled. See the <a href=\"https://ipywidgets.readthedocs.io/en/stable/user_install.html\">Jupyter\n",
       "  Widgets Documentation</a> for setup instructions.\n",
       "</p>\n",
       "<p>\n",
       "  If you're reading this message in another frontend (for example, a static\n",
       "  rendering on GitHub or <a href=\"https://nbviewer.jupyter.org/\">NBViewer</a>),\n",
       "  it may mean that your frontend doesn't currently support widgets.\n",
       "</p>\n"
      ],
      "text/plain": [
       "HBox(children=(IntProgress(value=0, max=180658), HTML(value='')))"
      ]
     },
     "metadata": {},
     "output_type": "display_data"
    },
    {
     "name": "stdout",
     "output_type": "stream",
     "text": [
      "\n"
     ]
    }
   ],
   "source": [
    "text_data7 = [prepare_text_for_lda(abs) for abs in tqdm_notebook(list(text)[6*n:7*n])]"
   ]
  },
  {
   "cell_type": "code",
   "execution_count": 10,
   "metadata": {},
   "outputs": [],
   "source": [
    "dill.dump(text_data7,open('abs_tokens7.dill','wb'))"
   ]
  },
  {
   "cell_type": "code",
   "execution_count": 9,
   "metadata": {},
   "outputs": [
    {
     "data": {
      "application/vnd.jupyter.widget-view+json": {
       "model_id": "5abef718be4e472faf0dbe282f562e48",
       "version_major": 2,
       "version_minor": 0
      },
      "text/html": [
       "<p>Failed to display Jupyter Widget of type <code>HBox</code>.</p>\n",
       "<p>\n",
       "  If you're reading this message in the Jupyter Notebook or JupyterLab Notebook, it may mean\n",
       "  that the widgets JavaScript is still loading. If this message persists, it\n",
       "  likely means that the widgets JavaScript library is either not installed or\n",
       "  not enabled. See the <a href=\"https://ipywidgets.readthedocs.io/en/stable/user_install.html\">Jupyter\n",
       "  Widgets Documentation</a> for setup instructions.\n",
       "</p>\n",
       "<p>\n",
       "  If you're reading this message in another frontend (for example, a static\n",
       "  rendering on GitHub or <a href=\"https://nbviewer.jupyter.org/\">NBViewer</a>),\n",
       "  it may mean that your frontend doesn't currently support widgets.\n",
       "</p>\n"
      ],
      "text/plain": [
       "HBox(children=(IntProgress(value=0, max=180658), HTML(value='')))"
      ]
     },
     "metadata": {},
     "output_type": "display_data"
    },
    {
     "name": "stdout",
     "output_type": "stream",
     "text": [
      "\n"
     ]
    }
   ],
   "source": [
    "text_data8 = [prepare_text_for_lda(abs) for abs in tqdm_notebook(list(text)[7*n:8*n])]"
   ]
  },
  {
   "cell_type": "code",
   "execution_count": 10,
   "metadata": {},
   "outputs": [],
   "source": [
    "dill.dump(text_data8,open('abs_tokens8.dill','wb'))"
   ]
  },
  {
   "cell_type": "code",
   "execution_count": 9,
   "metadata": {},
   "outputs": [
    {
     "data": {
      "application/vnd.jupyter.widget-view+json": {
       "model_id": "e8d4921b1e2c4cae86b1c26ed3f13308",
       "version_major": 2,
       "version_minor": 0
      },
      "text/html": [
       "<p>Failed to display Jupyter Widget of type <code>HBox</code>.</p>\n",
       "<p>\n",
       "  If you're reading this message in the Jupyter Notebook or JupyterLab Notebook, it may mean\n",
       "  that the widgets JavaScript is still loading. If this message persists, it\n",
       "  likely means that the widgets JavaScript library is either not installed or\n",
       "  not enabled. See the <a href=\"https://ipywidgets.readthedocs.io/en/stable/user_install.html\">Jupyter\n",
       "  Widgets Documentation</a> for setup instructions.\n",
       "</p>\n",
       "<p>\n",
       "  If you're reading this message in another frontend (for example, a static\n",
       "  rendering on GitHub or <a href=\"https://nbviewer.jupyter.org/\">NBViewer</a>),\n",
       "  it may mean that your frontend doesn't currently support widgets.\n",
       "</p>\n"
      ],
      "text/plain": [
       "HBox(children=(IntProgress(value=0, max=180658), HTML(value='')))"
      ]
     },
     "metadata": {},
     "output_type": "display_data"
    },
    {
     "name": "stdout",
     "output_type": "stream",
     "text": [
      "\n"
     ]
    }
   ],
   "source": [
    "text_data9 = [prepare_text_for_lda(abs) for abs in tqdm_notebook(list(text)[8*n:9*n])]"
   ]
  },
  {
   "cell_type": "code",
   "execution_count": 10,
   "metadata": {},
   "outputs": [],
   "source": [
    "dill.dump(text_data9,open('abs_tokens9.dill','wb'))"
   ]
  },
  {
   "cell_type": "code",
   "execution_count": 17,
   "metadata": {},
   "outputs": [
    {
     "data": {
      "application/vnd.jupyter.widget-view+json": {
       "model_id": "801b6924911b434a874b6b8ea642e62b",
       "version_major": 2,
       "version_minor": 0
      },
      "text/html": [
       "<p>Failed to display Jupyter Widget of type <code>HBox</code>.</p>\n",
       "<p>\n",
       "  If you're reading this message in the Jupyter Notebook or JupyterLab Notebook, it may mean\n",
       "  that the widgets JavaScript is still loading. If this message persists, it\n",
       "  likely means that the widgets JavaScript library is either not installed or\n",
       "  not enabled. See the <a href=\"https://ipywidgets.readthedocs.io/en/stable/user_install.html\">Jupyter\n",
       "  Widgets Documentation</a> for setup instructions.\n",
       "</p>\n",
       "<p>\n",
       "  If you're reading this message in another frontend (for example, a static\n",
       "  rendering on GitHub or <a href=\"https://nbviewer.jupyter.org/\">NBViewer</a>),\n",
       "  it may mean that your frontend doesn't currently support widgets.\n",
       "</p>\n"
      ],
      "text/plain": [
       "HBox(children=(IntProgress(value=0, max=137620), HTML(value='')))"
      ]
     },
     "metadata": {},
     "output_type": "display_data"
    }
   ],
   "source": [
    "text_data10 = [prepare_text_for_lda(abs) for abs in tqdm_notebook(list(text)[9*n:9*n+137620])]"
   ]
  },
  {
   "cell_type": "code",
   "execution_count": 23,
   "metadata": {},
   "outputs": [
    {
     "data": {
      "text/plain": [
       "(1763542, 1763549)"
      ]
     },
     "execution_count": 23,
     "metadata": {},
     "output_type": "execute_result"
    }
   ],
   "source": [
    "9*n+137620,9*n+137627"
   ]
  },
  {
   "cell_type": "code",
   "execution_count": 22,
   "metadata": {},
   "outputs": [
    {
     "data": {
      "text/plain": [
       "['DESCRIPTION (provided by applicant): Clefts of lip and palate are among the most common birth defects, occurring in approximately every 700 live births. Although treatable by reconstructive surgery, oral clefts cause complications early in life ranging from feeding problems to hearing and speech defects. In addition, many of these patients also show mental retardation or other neurodevelopmental problems. In a forward genetic screen carried out in mice we recovered a novel line named manta-ray (mray), which displays severe developmental defects including a median cleft of the upper jaw and secondary palate as well as abnormal brain development. We identified the causative recessive mutation in the Pak1ip1 gene, which encodes a preribosomal factor required for ribosome biogenesis. Loss of Pak1ip1 activates the tumor suppressor and cell cycle control factor Tp53, which leads to cell cycle arrest and cell death. This pathway appears to be a critical mediator of many of the clinical features of ribosomopathies including their craniofacial anomalies. Our current understanding of Pak1ip1 function strongly supports the hypothesis that Pak1ip1- deficiency in homozygous mray mutants activates the Tp53 pathway and leads to Tp53-mediated loss of cranial neural crest cells, which results in midline clefting. The experiments we propose here, will uncover the mechanisms that cause the craniofacial anomalies of homozygous mray mutants by providing a detailed analysis of neuroepithelial cell death, proliferation, and specification of neural crest-derived tissues. In second set of experiments, we will attempt to ameliorate or even rescue the midline cleft in affected mutants by inhibiting Tp53 response either through pharmacological or genetic means. Finally, we will examine the way the mray mutation affects the process of ribosome biogenesis in general and in particular, by analyzing specific deficits in the translation of midface-specific growth factors. In summary, our study will provide substantial new insight into the mechanisms by which defects in ribosome biogenesis can lead to craniofacial birth defects, which are common and clinically important and will explore treatment options by interfering with the Tp53 pathway.',\n",
       " '?    DESCRIPTION (provided by applicant): Misrepair of DNA damage is a hallmark of tumor cells. DNA damage can occur from many endogenous and exogenous sources including environmental toxicants. Alkylation damage caused by a myriad of industrial and consumer based sources is pervasive in the environment. DNA alkylation leads to replication stress and DNA damage. If DNA is alkylated during replication, then the replication fork can collapse and many repair mechanisms can be utilized to repair the damaged DNA. How a cell commits to a specific repair pathway is not completely understood. In budding yeast, the Shu complex is critical in the repair of DNA double-strand breaks (DSB) created by processing of replication forks damaged by DNA alkylating agents. This complex is highly conserved throughout eukaryotes and contains the Rad51 paralogues, proteins that are structurally similar to the central DNA repair protein Rad51. In this study, the investigators aim to elucidate the role of the yeast and human Shu complexes in repair of DNA alkylation damage at a replication fork. They are testing the hypothesis that the Shu complex is a critical key regulator of error-free DNA repair by shuttling DNA intermediates into homologous recombination pathway through its unique protein-protein interactions. Consistent with this hypothesis, mutation of the Shu complex proteins leads to repair by alternative error-prone repair mechanisms. The investigators will test the model that the Shu complex plays an essential role in the DNA repair pathway choice by 1) characterizing the association of the Shu complex with a damaged replication fork and the importance of its protein-protein interactions at the fork and 2) solving the structure of the Shu complex DNA binding subunits while bound to a replication fork-like substrate. These studies will elucidate how the Shu complex interactions with DNA and its protein-protein interactions direct these DNA intermediates into distinct repair mechanisms. Using what is learned in yeast to quickly and efficiently identify key substrates, residues, and protein targets, the investigators will expand their studies into human cell lines where they will investigate the role of the human Shu complex and RAD51 paralogues in repair of alkylation damage caused by environmental toxicants. The investigators will specifically characterize mutations and small nucleotide polymorphisms in the hRAD51 paralogues, which may make these individuals hypersensitive to DNA alkylators and could therefore increase cancer risk. Collectively, these studies will provide key insights into the role of the Shu complex in repair of DNA alkylation damage and elucidate how this complex promotes error-free DNA repair to prevent genetic instability. In addition, the investigators will identify at-risk individuals harboing mutations in these important genes that may be more sensitive to DNA alkylation damage and therefore susceptible to human disease.',\n",
       " '?    DESCRIPTION (provided by applicant): We wish to develop a new paradigm for the selective oxidation of complex molecules. Our approach will extend the development of the now-validated paradigm of aspartic acid catalysis. We will also develop additional catalysis paradigms based on catalytic ketones and metal complexes. All of the catalytic centers to be developed will be incorporated into peptides. The peptide-based scaffolds will provide the molecular environment that will be responsible for selectivity. Enantioselective reactions, as well as those that deal wih regio-, chemo- and site-selectivity will be explored. This project began with previously unknown catalytic cycles for olefin epoxidation and the Baeyer-Villiger oxidation, wherein a carboxylic acid functions as a catalytic moiety. We are now poised to explore this unique catalytic strategy for these two venerable processes, each of which engages an intermediate peracid moiety for a mechanistically distinct function: in epoxidation, the peracid functions as an electrophile; in the Baeyer-Villiger oxidation, the peracid functions as a nucleophile. Our specific goals include development of ever-more active and selective catalysts for each process. We intend to push the frontiers for epoxidations wherein venerable catalysts fail, including applications to problems involving remote olefin functionalization when several alkenes are present. We will also examine these catalysts for site- and enantioselective oxidations of conjugated polyenes, so commonly found in complex natural products. We will also continue our studies of selective epoxidations of highly substituted, electron-rich arenes, such as indoles, furans and pyrroles; the products of these reactions will be relevant to natural product synthesis, as well as for the synthesis of natural product analogs. We plan to expand greatly our study of enantioselective Baeyer-Villiger oxidations, a class of catalytic reactions that are truly under-developed from the standpoint of enantioselective catalysis. These studies will also lead to explorations of site-selective Baeyer-Villiger oxidations performed on natural products containing multiple ketone sites. This work will enable an aggressive set of applications involving the catalyst-dependent diversification of biologically active natural products. All the while, this work will be conducted in an environment where mechanistic studies will be performed to enhance our understanding of the selective reactions we discover. So too, collaborations and plans are in place so that the impact of our studies will extend beyond our own laboratory, assisting colleagues engaged in complex molecule synthesis, and in the biological evaluation of the new natural product analogs we obtain.',\n",
       " 'DESCRIPTION (provided by applicant): This proposal documents the contributions of the University of Virginia (UVA) to the NHLBI/NINDS sponsored Network for Cardiothoracic Surgical Investigations in Cardiovascular Medicine (Network) and supports participation of the site as a Core Clinical Center within the Network going forward. A Skills Development Program is included with this proposal. UVA performs 1,050 adult cardiovascular surgeries procedures annually which are available for recruitment as the highest priority for clinical research. Our team demonstrates innovative approaches to patient recruitment and retention for a wide variety of challenging cardiothoracic surgical trials. The UVA investigative group is led by Department Chairman Dr. Irving L. Kron, a cardiothoracic and vascular surgeon. He has served in multiple national leadership roles with NHLBI. NINDS funded Dr. Karen C. Johnston, a nationally recognized vascular certified neurologist with significant expertise in clinical trials, neuroprotection, and outcomes research, plays a key role for the site in the development and conduct of challenging clinical trials. During the first funding period of the Network, cardiothoracic surgeon Dr. Gorav Ailawadi played a key role in successful screening and recruitment for UVA, and provides innovative ideas for research hypotheses and trial development. Additionally, Dr. John Dent, a nationally known cardiologist, provides specific expertise in echocardiography as it applies to valvular heart disease. Interventional cardiologist Dr. Michael Ragosta, Director of the UVA Cardiac Catheterization Laboratory, rounds out the leadership team. Experienced Registered Nurse clinical coordinators provide trial management; and compliance records from previous Network trials document superior trial performance. This unique blend of cardiac surgery, stroke neurology/neurological outcomes, and cardiology guarantee that UVA will continue to make substantive contributions to the Network. Our specific aim: To describe the experience, expertise and collaborative nature at UVA, among Thoracic and Cardiovascular Surgery, Cardiology, Neurology, and Public Health Sciences, that will substantially contribute to the success of the Network for Cardiothoracic Surgical Investigations in Cardiovascular Medicine.',\n",
       " '?    DESCRIPTION (provided by applicant): This new T32 application from the University of Washington (UW) focuses on a novel and important area of research - palliative care research for heart, lung, and blood diseases. Our aging population and advances in chronic disease management have combined to create an enormous need for improved palliative care research across diverse diseases. Heart, lung, and blood diseases encompass leading causes of death and disability in the US, and represent areas where palliative care research has lagged behind compared to cancer. This application differs from any existing T32 programs at UW or elsewhere by focusing on training in palliative care research for patients with heart, lung, and blood diseases. Additionally, because health disparities in palliative care have been well documented, this innovative training program focuses on understanding and eliminating these disparities. This proposal capitalizes on the exceptional faculty and academic environment across multiple schools (Medicine, Nursing, Public Health, and Social Work) and multiple Divisions within the School of Medicine; it also builds upon a close working relationship with our NIH Clinical and Translational Science Award (CTSA) that will support research training. Dr. J. Randall Curtis, the program director, is a national leader in palliative care research and has been the recipient of a K24 Award for mentoring from NHLBI for 10 years. He is also the Director of the new UW Palliative Care Center of Excellence which will support this proposed T32. We have developed a rigorous research training program built on four core principles to prepare new researchers for independent careers: 1) Trainees must master a defined set of research and writing skills necessary to advance to independent, yet collaborative investigators; 2) Structured and comprehensive research mentoring is critical to retaining trainees in science; 3) Research projects must be tailored to each trainee and designed to be successful training vehicles that facilitate early academic productivity; 4) Training in palliative care research shoul provide opportunities for interdisciplinary interactions and promote team science. To continuously improve our training program, we will assess the effectiveness of our methods for training and mentoring using well-defined metrics, and adjust our methods as necessary. We are requesting 4 post-doctoral training slots and trainees will complete a two-year training program. This application represents an important opportunity to advance palliative care research concerning heart, lung, and blood diseases, and to create a research workforce for the future.',\n",
       " '?    DESCRIPTION (provided by applicant): This new T32 application from the University of Washington (UW) focuses on a novel and important area of research - palliative care research for heart, lung, and blood diseases. Our aging population and advances in chronic disease management have combined to create an enormous need for improved palliative care research across diverse diseases. Heart, lung, and blood diseases encompass leading causes of death and disability in the US, and represent areas where palliative care research has lagged behind compared to cancer. This application differs from any existing T32 programs at UW or elsewhere by focusing on training in palliative care research for patients with heart, lung, and blood diseases. Additionally, because health disparities in palliative care have been well documented, this innovative training program focuses on understanding and eliminating these disparities. This proposal capitalizes on the exceptional faculty and academic environment across multiple schools (Medicine, Nursing, Public Health, and Social Work) and multiple Divisions within the School of Medicine; it also builds upon a close working relationship with our NIH Clinical and Translational Science Award (CTSA) that will support research training. Dr. J. Randall Curtis, the program director, is a national leader in palliative care research and has been the recipient of a K24 Award for mentoring from NHLBI for 10 years. He is also the Director of the new UW Palliative Care Center of Excellence which will support this proposed T32. We have developed a rigorous research training program built on four core principles to prepare new researchers for independent careers: 1) Trainees must master a defined set of research and writing skills necessary to advance to independent, yet collaborative investigators; 2) Structured and comprehensive research mentoring is critical to retaining trainees in science; 3) Research projects must be tailored to each trainee and designed to be successful training vehicles that facilitate early academic productivity; 4) Training in palliative care research shoul provide opportunities for interdisciplinary interactions and promote team science. To continuously improve our training program, we will assess the effectiveness of our methods for training and mentoring using well-defined metrics, and adjust our methods as necessary. We are requesting 4 post-doctoral training slots and trainees will complete a two-year training program. This application represents an important opportunity to advance palliative care research concerning heart, lung, and blood diseases, and to create a research workforce for the future.',\n",
       " 'Project(Summary( BACKGROUND: HIV.continues.to.be.a.pressing.public.health.challenge.in.the.United.States..Investment in HIV prevention research has resulted in several waves of evidence-based interventions. As.more.effective.interventions. emerge,.it.is.important.to.de-implement,.or.discontinue,.less.effective.interventions..Yet,.interventions.may.persist.if. they.are.well.integrated.into.the.organizations.that.provide.them..HIV.prevention.policy.revisions.by.the.Centers.for. Disease.Control.and.Prevention.(CDC),.which.have.recommended.different.evidence-based.interventions.over.time,. provide.an.ideal.context.to.examine.the.de-implementation.or.persistence.of.less.effective.interventions..Based.on. revisions.in.CDC.policy,.we.have.identified.20.interventions.that.are.less.effective.than.more.current.available. interventions..GOAL:.This.proposal.seeks.to.understand.the.extent.to.which.less.effective.interventions.are.de- implemented.in.practice.and.describe.the.processes.involved.when.de-implementing.an.intervention...AIMS.AND. METHODS:.This.is.a.two-stage.mixed-methods.study.that.integrates.quantitative.and.qualitative.approaches...Aim.1:.The. first.phase.seeks.to.assess.the.extent.to.which.less.effective.interventions.are.de-implemented.among.public.health. organizations.that.implemented.one.or.more.interventions.recommended.by.the.CDC...This.will.involve.a.survey.of.800. practitioners.in.public.health.organizations..Aim.2:.The.second.phase.seeks.to.describe.the.process.of.de- implementation.among.public.health.organizations.that.de-implemented.an.intervention..This.will.involve.12.in-depth. case.studies.with.a.variety.of.public.health.organizations.and.interventions...Organizations.that.report.having.de- implemented.an.intervention.will.be.recruited.and.will.involve.interviews.with.four.organizational.staff.and.archival. document.collection.from.each.organization..Data.from.each.stage.will.be.analyzed.separately.and.then.synthesized.to. provide.complementary.insight.into.de-implementation..The.project.will.convene.a.strong.interdisciplinary.research. team.and.be.guided.by.an.External.Advisory.Board.with.the.scope.of.expertise.needed.to.successfully.complete.the. project..INNOVATION.AND.IMPACT:.This.study.is.innovative.and.impactful.because:.1).It.will.be.one.of.the.first.research. projects.addressing.intervention.de-implementation.in.public.health.and.perhaps.the.first.in.HIV.prevention,.key. priorities.for.the.National.Institutes.of.Mental.Health..2).This.work.has.the.potential.to.inform.successful.de- implementation.of.less.effective.HIV.prevention.interventions.?.freeing.limited.resources.and.infrastructure.to.support. more.effective.HIV.prevention.interventions.?.with.potential.application.to.other.areas.of.public.health.where.less. effective.interventions.persist.in.practice..3).The.mixed-methods.approach.and.empirical.data.will.provide.a.foundation. for.continued.research.in.this.area..']"
      ]
     },
     "execution_count": 22,
     "metadata": {},
     "output_type": "execute_result"
    }
   ],
   "source": [
    "list(text)[9*n+137620:9*n+137627]"
   ]
  },
  {
   "cell_type": "code",
   "execution_count": 18,
   "metadata": {},
   "outputs": [],
   "source": [
    "dill.dump(text_data10,open('abs_tokens10.dill','wb'))"
   ]
  },
  {
   "cell_type": "code",
   "execution_count": 21,
   "metadata": {},
   "outputs": [
    {
     "data": {
      "application/vnd.jupyter.widget-view+json": {
       "model_id": "c3ea56d8d651472a851a417787fdf4e9",
       "version_major": 2,
       "version_minor": 0
      },
      "text/html": [
       "<p>Failed to display Jupyter Widget of type <code>HBox</code>.</p>\n",
       "<p>\n",
       "  If you're reading this message in the Jupyter Notebook or JupyterLab Notebook, it may mean\n",
       "  that the widgets JavaScript is still loading. If this message persists, it\n",
       "  likely means that the widgets JavaScript library is either not installed or\n",
       "  not enabled. See the <a href=\"https://ipywidgets.readthedocs.io/en/stable/user_install.html\">Jupyter\n",
       "  Widgets Documentation</a> for setup instructions.\n",
       "</p>\n",
       "<p>\n",
       "  If you're reading this message in another frontend (for example, a static\n",
       "  rendering on GitHub or <a href=\"https://nbviewer.jupyter.org/\">NBViewer</a>),\n",
       "  it may mean that your frontend doesn't currently support widgets.\n",
       "</p>\n"
      ],
      "text/plain": [
       "HBox(children=(IntProgress(value=0, max=38), HTML(value='')))"
      ]
     },
     "metadata": {},
     "output_type": "display_data"
    }
   ],
   "source": [
    "text_data11 = [prepare_text_for_lda(abs) for abs in tqdm_notebook(list(text)[9*n+137627:9*n+137665])]"
   ]
  },
  {
   "cell_type": "code",
   "execution_count": 24,
   "metadata": {},
   "outputs": [],
   "source": [
    "dill.dump(text_data11,open('abs_tokens11.dill','wb'))"
   ]
  },
  {
   "cell_type": "code",
   "execution_count": 11,
   "metadata": {},
   "outputs": [
    {
     "data": {
      "application/vnd.jupyter.widget-view+json": {
       "model_id": "3c91026f47d84aae972a6d90378a9925",
       "version_major": 2,
       "version_minor": 0
      },
      "text/html": [
       "<p>Failed to display Jupyter Widget of type <code>HBox</code>.</p>\n",
       "<p>\n",
       "  If you're reading this message in the Jupyter Notebook or JupyterLab Notebook, it may mean\n",
       "  that the widgets JavaScript is still loading. If this message persists, it\n",
       "  likely means that the widgets JavaScript library is either not installed or\n",
       "  not enabled. See the <a href=\"https://ipywidgets.readthedocs.io/en/stable/user_install.html\">Jupyter\n",
       "  Widgets Documentation</a> for setup instructions.\n",
       "</p>\n",
       "<p>\n",
       "  If you're reading this message in another frontend (for example, a static\n",
       "  rendering on GitHub or <a href=\"https://nbviewer.jupyter.org/\">NBViewer</a>),\n",
       "  it may mean that your frontend doesn't currently support widgets.\n",
       "</p>\n"
      ],
      "text/plain": [
       "HBox(children=(IntProgress(value=0, max=42993), HTML(value='')))"
      ]
     },
     "metadata": {},
     "output_type": "display_data"
    }
   ],
   "source": [
    "text_data12 = [prepare_text_for_lda(abs) for abs in tqdm_notebook(list(text)[9*n+137665:])]"
   ]
  },
  {
   "cell_type": "code",
   "execution_count": 12,
   "metadata": {},
   "outputs": [],
   "source": [
    "dill.dump(text_data12,open('abs_tokens12.dill','wb'))"
   ]
  },
  {
   "cell_type": "code",
   "execution_count": 25,
   "metadata": {},
   "outputs": [
    {
     "data": {
      "text/plain": [
       "1806580"
      ]
     },
     "execution_count": 25,
     "metadata": {},
     "output_type": "execute_result"
    }
   ],
   "source": [
    "len(text)"
   ]
  },
  {
   "cell_type": "code",
   "execution_count": 6,
   "metadata": {},
   "outputs": [],
   "source": [
    "text_update = text[:1763542].append(text[1763549:]) #delete those entries that cause a lot of troubles"
   ]
  },
  {
   "cell_type": "code",
   "execution_count": 27,
   "metadata": {},
   "outputs": [
    {
     "data": {
      "text/plain": [
       "1806573"
      ]
     },
     "execution_count": 27,
     "metadata": {},
     "output_type": "execute_result"
    }
   ],
   "source": [
    "len(text_update)"
   ]
  },
  {
   "cell_type": "code",
   "execution_count": null,
   "metadata": {},
   "outputs": [
    {
     "data": {
      "application/vnd.jupyter.widget-view+json": {
       "model_id": "4dc3c06b3b3e4e769ac0e7929a892454",
       "version_major": 2,
       "version_minor": 0
      },
      "text/html": [
       "<p>Failed to display Jupyter Widget of type <code>HBox</code>.</p>\n",
       "<p>\n",
       "  If you're reading this message in the Jupyter Notebook or JupyterLab Notebook, it may mean\n",
       "  that the widgets JavaScript is still loading. If this message persists, it\n",
       "  likely means that the widgets JavaScript library is either not installed or\n",
       "  not enabled. See the <a href=\"https://ipywidgets.readthedocs.io/en/stable/user_install.html\">Jupyter\n",
       "  Widgets Documentation</a> for setup instructions.\n",
       "</p>\n",
       "<p>\n",
       "  If you're reading this message in another frontend (for example, a static\n",
       "  rendering on GitHub or <a href=\"https://nbviewer.jupyter.org/\">NBViewer</a>),\n",
       "  it may mean that your frontend doesn't currently support widgets.\n",
       "</p>\n"
      ],
      "text/plain": [
       "HBox(children=(IntProgress(value=0, max=1806573), HTML(value='')))"
      ]
     },
     "metadata": {},
     "output_type": "display_data"
    }
   ],
   "source": [
    "text_data = [prepare_text_for_lda(abs) for abs in tqdm_notebook(list(text_update))]"
   ]
  },
  {
   "cell_type": "code",
   "execution_count": null,
   "metadata": {},
   "outputs": [],
   "source": [
    "dill.dump(text_data,open('abs_tokens.dill','wb'))"
   ]
  },
  {
   "cell_type": "markdown",
   "metadata": {},
   "source": [
    "Now that, the bags of words are ready. We can start getting the topics out of them. "
   ]
  },
  {
   "cell_type": "code",
   "execution_count": 9,
   "metadata": {},
   "outputs": [
    {
     "data": {
      "text/plain": [
       "[['proposal',\n",
       "  'understanding',\n",
       "  'mechanism',\n",
       "  'antiviral',\n",
       "  'action',\n",
       "  'interferon',\n",
       "  'molecular',\n",
       "  'level',\n",
       "  'since',\n",
       "  'different',\n",
       "  'mechanism',\n",
       "  'apparently',\n",
       "  'activate',\n",
       "  'distinct',\n",
       "  'virus',\n",
       "  'propose',\n",
       "  'investigate',\n",
       "  'treatment',\n",
       "  'prevent',\n",
       "  'replication',\n",
       "  'following',\n",
       "  'virus',\n",
       "  'encephalomyocarditis',\n",
       "  'sindbis',\n",
       "  'vesicular',\n",
       "  'stomatitis',\n",
       "  'influenza',\n",
       "  'first',\n",
       "  'virus',\n",
       "  'show',\n",
       "  'preliminary',\n",
       "  'experiment',\n",
       "  'promote',\n",
       "  'synthesis',\n",
       "  'feet-5',\n",
       "  'feet)oligo(a',\n",
       "  'activation',\n",
       "  'endoribonuclease',\n",
       "  'interferon',\n",
       "  'treat',\n",
       "  'cell',\n",
       "  'sensitive',\n",
       "  'assay',\n",
       "  'measure',\n",
       "  'feet-5',\n",
       "  'feet)oligo(a',\n",
       "  'concentration',\n",
       "  'formation',\n",
       "  'double',\n",
       "  '-stranded',\n",
       "  'viral',\n",
       "  'origin',\n",
       "  'infect',\n",
       "  'cell',\n",
       "  'develop',\n",
       "  'present',\n",
       "  'investigation',\n",
       "  'addition',\n",
       "  'synthesis',\n",
       "  'catabolism',\n",
       "  'viral',\n",
       "  'treat',\n",
       "  'cell',\n",
       "  'study',\n",
       "  'fractionation',\n",
       "  'viral',\n",
       "  'electrophoresis',\n",
       "  'hybridization',\n",
       "  'specific',\n",
       "  'radioactive',\n",
       "  'probe',\n",
       "  'northern',\n",
       "  'analysis',\n",
       "  'another',\n",
       "  'antiviral',\n",
       "  'mechanism',\n",
       "  'result',\n",
       "  'synthesis',\n",
       "  'inactive',\n",
       "  'viral',\n",
       "  'unmethylated',\n",
       "  'guanosine',\n",
       "  'residue',\n",
       "  'investigate',\n",
       "  'change',\n",
       "  'cellular',\n",
       "  'level',\n",
       "  'adenosylhomocysteine',\n",
       "  'explain',\n",
       "  'effect',\n",
       "  'another',\n",
       "  'research',\n",
       "  'binding',\n",
       "  'iodinate',\n",
       "  'cellular',\n",
       "  'receptor',\n",
       "  'study',\n",
       "  'interferon',\n",
       "  'produce',\n",
       "  'recombinant',\n",
       "  'technology',\n",
       "  'experiment',\n",
       "  'investigate',\n",
       "  'whether',\n",
       "  'undergo',\n",
       "  'temperature',\n",
       "  'dependent',\n",
       "  'change',\n",
       "  'binding',\n",
       "  'cell',\n",
       "  'whether',\n",
       "  'internalize',\n",
       "  'release',\n",
       "  'receptor',\n",
       "  'initial',\n",
       "  'binding',\n",
       "  'receptor',\n",
       "  'level',\n",
       "  'cell',\n",
       "  'unresponsive',\n",
       "  'investigate',\n",
       "  'range',\n",
       "  'objective',\n",
       "  'study',\n",
       "  'understanding',\n",
       "  'mechanism',\n",
       "  'action',\n",
       "  'interaction',\n",
       "  'receptor',\n",
       "  'induction',\n",
       "  'synthesis',\n",
       "  'specific',\n",
       "  'enzyme',\n",
       "  'activation',\n",
       "  'infect',\n",
       "  'cell'],\n",
       " ['alternative',\n",
       "  'pathway',\n",
       "  'complement',\n",
       "  'activation',\n",
       "  'provide',\n",
       "  'nonimmune',\n",
       "  'recognition',\n",
       "  'microorganism',\n",
       "  'alter',\n",
       "  'mammalian',\n",
       "  'cell',\n",
       "  'leading',\n",
       "  'defense',\n",
       "  'reaction',\n",
       "  'opsonization',\n",
       "  'cytolysis',\n",
       "  'inflammation',\n",
       "  'human',\n",
       "  'serum',\n",
       "  'alternative',\n",
       "  'pathway',\n",
       "  'activate',\n",
       "  'bacterial',\n",
       "  'fungal',\n",
       "  'material',\n",
       "  'virus',\n",
       "  'infect',\n",
       "  'human',\n",
       "  'cell',\n",
       "  'mammalian',\n",
       "  'erythrocyte',\n",
       "  'although',\n",
       "  'chemical',\n",
       "  'characteristic',\n",
       "  'require',\n",
       "  'activation',\n",
       "  'define',\n",
       "  'particulate',\n",
       "  'activator',\n",
       "  'share',\n",
       "  'ability',\n",
       "  'provide',\n",
       "  'site',\n",
       "  'formation',\n",
       "  'alternative',\n",
       "  'pathway',\n",
       "  'convertase',\n",
       "  'protect',\n",
       "  'serum',\n",
       "  'regulatory',\n",
       "  'protein',\n",
       "  'change',\n",
       "  'mammalian',\n",
       "  'surface',\n",
       "  'removal',\n",
       "  'sialic',\n",
       "  'erythrocyte',\n",
       "  'influence',\n",
       "  'ability',\n",
       "  'serve',\n",
       "  'protective',\n",
       "  'function',\n",
       "  'found',\n",
       "  'model',\n",
       "  'lipid',\n",
       "  'membrane',\n",
       "  'liposome',\n",
       "  'activate',\n",
       "  'complement',\n",
       "  'alternative',\n",
       "  'pathway',\n",
       "  'change',\n",
       "  'composition',\n",
       "  'affect',\n",
       "  'ability',\n",
       "  'since',\n",
       "  'composition',\n",
       "  'liposome',\n",
       "  'define',\n",
       "  'easily',\n",
       "  'modify',\n",
       "  'provide',\n",
       "  'simple',\n",
       "  'model',\n",
       "  'study',\n",
       "  'membrane',\n",
       "  'lipid',\n",
       "  'alternative',\n",
       "  'pathway',\n",
       "  'activation',\n",
       "  'propose',\n",
       "  'model',\n",
       "  'study',\n",
       "  'influence',\n",
       "  'particular',\n",
       "  'membrane',\n",
       "  'lipid',\n",
       "  'glycolipids',\n",
       "  'formation',\n",
       "  'regulation',\n",
       "  'convertase',\n",
       "  'determine',\n",
       "  'lipid',\n",
       "  'provide',\n",
       "  'binding',\n",
       "  'site',\n",
       "  'interact',\n",
       "  'control',\n",
       "  'protein',\n",
       "  'beta1h',\n",
       "  'inactivator',\n",
       "  'study',\n",
       "  'viral',\n",
       "  'glycoprotein',\n",
       "  'activation',\n",
       "  'measles',\n",
       "  'infect',\n",
       "  'cell',\n",
       "  'incorporate',\n",
       "  'purify',\n",
       "  'viral',\n",
       "  'membrane',\n",
       "  'glycoprotein',\n",
       "  'liposome',\n",
       "  'measuring',\n",
       "  'alternative',\n",
       "  'pathway',\n",
       "  'activation',\n",
       "  'study',\n",
       "  'increase',\n",
       "  'knowledge',\n",
       "  'membrane',\n",
       "  'determinant',\n",
       "  'alternative',\n",
       "  'pathway',\n",
       "  'recognition',\n",
       "  'system',\n",
       "  'findings',\n",
       "  'understanding',\n",
       "  'defense',\n",
       "  'bacterial',\n",
       "  'viral',\n",
       "  'infection']]"
      ]
     },
     "execution_count": 9,
     "metadata": {},
     "output_type": "execute_result"
    }
   ],
   "source": [
    "len(text_data1)\n",
    "text_data1[:2]"
   ]
  },
  {
   "cell_type": "code",
   "execution_count": 10,
   "metadata": {},
   "outputs": [
    {
     "data": {
      "application/vnd.jupyter.widget-view+json": {
       "model_id": "2118d4c0799c4c4eaa64a186501c24d4",
       "version_major": 2,
       "version_minor": 0
      },
      "text/html": [
       "<p>Failed to display Jupyter Widget of type <code>HBox</code>.</p>\n",
       "<p>\n",
       "  If you're reading this message in the Jupyter Notebook or JupyterLab Notebook, it may mean\n",
       "  that the widgets JavaScript is still loading. If this message persists, it\n",
       "  likely means that the widgets JavaScript library is either not installed or\n",
       "  not enabled. See the <a href=\"https://ipywidgets.readthedocs.io/en/stable/user_install.html\">Jupyter\n",
       "  Widgets Documentation</a> for setup instructions.\n",
       "</p>\n",
       "<p>\n",
       "  If you're reading this message in another frontend (for example, a static\n",
       "  rendering on GitHub or <a href=\"https://nbviewer.jupyter.org/\">NBViewer</a>),\n",
       "  it may mean that your frontend doesn't currently support widgets.\n",
       "</p>\n"
      ],
      "text/plain": [
       "HBox(children=(IntProgress(value=0, max=180658), HTML(value='')))"
      ]
     },
     "metadata": {},
     "output_type": "display_data"
    },
    {
     "name": "stdout",
     "output_type": "stream",
     "text": [
      "\n"
     ]
    }
   ],
   "source": [
    "from gensim import corpora\n",
    "dictionary = corpora.Dictionary(text_data1)\n",
    "corpus = [dictionary.doc2bow(text) for text in tqdm_notebook(text_data1)]"
   ]
  },
  {
   "cell_type": "code",
   "execution_count": 30,
   "metadata": {},
   "outputs": [],
   "source": [
    "pickle.dump(corpus, open('corpus1.pkl', 'wb'))\n",
    "dictionary.save('dictionary.gensim')"
   ]
  },
  {
   "cell_type": "code",
   "execution_count": 11,
   "metadata": {},
   "outputs": [
    {
     "name": "stdout",
     "output_type": "stream",
     "text": [
      "(0, '0.026*\"cell\" + 0.014*\"study\" + 0.010*\"tumor\" + 0.010*\"human\" + 0.010*\"antibody\" + 0.009*\"antigen\" + 0.008*\"response\" + 0.008*\"disease\" + 0.008*\"infection\" + 0.008*\"determine\"')\n",
      "(1, '0.028*\"protein\" + 0.012*\"study\" + 0.011*\"sequence\" + 0.011*\"gene\" + 0.009*\"expression\" + 0.009*\"specific\" + 0.008*\"molecular\" + 0.008*\"receptor\" + 0.008*\"structure\" + 0.008*\"binding\"')\n",
      "(2, '0.016*\"study\" + 0.013*\"research\" + 0.011*\"patient\" + 0.008*\"clinical\" + 0.008*\"program\" + 0.007*\"project\" + 0.007*\"cancer\" + 0.007*\"treatment\" + 0.007*\"group\" + 0.006*\"provide\"')\n",
      "(3, '0.015*\"study\" + 0.010*\"brain\" + 0.009*\"receptor\" + 0.009*\"system\" + 0.009*\"neuron\" + 0.008*\"effects\" + 0.007*\"determine\" + 0.006*\"response\" + 0.006*\"mechanism\" + 0.006*\"change\"')\n",
      "(4, '0.016*\"study\" + 0.008*\"determine\" + 0.007*\"mechanism\" + 0.006*\"effects\" + 0.006*\"metabolism\" + 0.005*\"change\" + 0.005*\"increase\" + 0.005*\"tissue\" + 0.005*\"blood\" + 0.004*\"muscle\"')\n"
     ]
    }
   ],
   "source": [
    "import gensim\n",
    "NUM_TOPICS = 5\n",
    "ldamodel = gensim.models.ldamodel.LdaModel(corpus, num_topics = NUM_TOPICS, id2word=dictionary, passes=15)\n",
    "ldamodel.save('model5.gensim')\n",
    "topics = ldamodel.print_topics(num_words=10)\n",
    "for topic in topics:\n",
    "    print(topic)"
   ]
  },
  {
   "cell_type": "code",
   "execution_count": 18,
   "metadata": {},
   "outputs": [
    {
     "data": {
      "text/plain": [
       "[(2, 0.99246734)]"
      ]
     },
     "execution_count": 18,
     "metadata": {},
     "output_type": "execute_result"
    }
   ],
   "source": [
    "ldamodel.get_document_topics(corpus[10])"
   ]
  },
  {
   "cell_type": "code",
   "execution_count": 2,
   "metadata": {},
   "outputs": [
    {
     "ename": "ModuleNotFoundError",
     "evalue": "No module named 'pyLDAvis'",
     "output_type": "error",
     "traceback": [
      "\u001b[0;31m---------------------------------------------------------------------------\u001b[0m",
      "\u001b[0;31mModuleNotFoundError\u001b[0m                       Traceback (most recent call last)",
      "\u001b[0;32m<ipython-input-2-8dac3984fcf0>\u001b[0m in \u001b[0;36m<module>\u001b[0;34m()\u001b[0m\n\u001b[1;32m      2\u001b[0m \u001b[0mcorpus\u001b[0m \u001b[0;34m=\u001b[0m \u001b[0mpickle\u001b[0m\u001b[0;34m.\u001b[0m\u001b[0mload\u001b[0m\u001b[0;34m(\u001b[0m\u001b[0mopen\u001b[0m\u001b[0;34m(\u001b[0m\u001b[0;34m'corpus1.pkl'\u001b[0m\u001b[0;34m,\u001b[0m \u001b[0;34m'rb'\u001b[0m\u001b[0;34m)\u001b[0m\u001b[0;34m)\u001b[0m\u001b[0;34m\u001b[0m\u001b[0m\n\u001b[1;32m      3\u001b[0m \u001b[0mlda\u001b[0m \u001b[0;34m=\u001b[0m \u001b[0mgensim\u001b[0m\u001b[0;34m.\u001b[0m\u001b[0mmodels\u001b[0m\u001b[0;34m.\u001b[0m\u001b[0mldamodel\u001b[0m\u001b[0;34m.\u001b[0m\u001b[0mLdaModel\u001b[0m\u001b[0;34m.\u001b[0m\u001b[0mload\u001b[0m\u001b[0;34m(\u001b[0m\u001b[0;34m'model5.gensim'\u001b[0m\u001b[0;34m)\u001b[0m\u001b[0;34m\u001b[0m\u001b[0m\n\u001b[0;32m----> 4\u001b[0;31m \u001b[0;32mimport\u001b[0m \u001b[0mpyLDAvis\u001b[0m\u001b[0;34m.\u001b[0m\u001b[0mgensim\u001b[0m\u001b[0;34m\u001b[0m\u001b[0m\n\u001b[0m\u001b[1;32m      5\u001b[0m \u001b[0mlda_display\u001b[0m \u001b[0;34m=\u001b[0m \u001b[0mpyLDAvis\u001b[0m\u001b[0;34m.\u001b[0m\u001b[0mgensim\u001b[0m\u001b[0;34m.\u001b[0m\u001b[0mprepare\u001b[0m\u001b[0;34m(\u001b[0m\u001b[0mlda\u001b[0m\u001b[0;34m,\u001b[0m \u001b[0mcorpus\u001b[0m\u001b[0;34m,\u001b[0m \u001b[0mdictionary\u001b[0m\u001b[0;34m,\u001b[0m \u001b[0msort_topics\u001b[0m\u001b[0;34m=\u001b[0m\u001b[0;32mFalse\u001b[0m\u001b[0;34m)\u001b[0m\u001b[0;34m\u001b[0m\u001b[0m\n\u001b[1;32m      6\u001b[0m \u001b[0mpyLDAvis\u001b[0m\u001b[0;34m.\u001b[0m\u001b[0mdisplay\u001b[0m\u001b[0;34m(\u001b[0m\u001b[0mlda_display\u001b[0m\u001b[0;34m)\u001b[0m\u001b[0;34m\u001b[0m\u001b[0m\n",
      "\u001b[0;31mModuleNotFoundError\u001b[0m: No module named 'pyLDAvis'"
     ]
    }
   ],
   "source": [
    "dictionary = gensim.corpora.Dictionary.load('dictionary.gensim')\n",
    "corpus = pickle.load(open('corpus1.pkl', 'rb'))\n",
    "lda = gensim.models.ldamodel.LdaModel.load('model5.gensim')\n",
    "import pyLDAvis.gensim\n",
    "lda_display = pyLDAvis.gensim.prepare(lda, corpus, dictionary, sort_topics=False)\n",
    "pyLDAvis.display(lda_display)"
   ]
  },
  {
   "cell_type": "code",
   "execution_count": 4,
   "metadata": {},
   "outputs": [
    {
     "ename": "ModuleNotFoundError",
     "evalue": "No module named 'pyLDAvis'",
     "output_type": "error",
     "traceback": [
      "\u001b[0;31m---------------------------------------------------------------------------\u001b[0m",
      "\u001b[0;31mModuleNotFoundError\u001b[0m                       Traceback (most recent call last)",
      "\u001b[0;32m<ipython-input-4-3d63172572fc>\u001b[0m in \u001b[0;36m<module>\u001b[0;34m()\u001b[0m\n\u001b[0;32m----> 1\u001b[0;31m \u001b[0;32mimport\u001b[0m \u001b[0mpyLDAvis\u001b[0m\u001b[0;34m\u001b[0m\u001b[0m\n\u001b[0m",
      "\u001b[0;31mModuleNotFoundError\u001b[0m: No module named 'pyLDAvis'"
     ]
    }
   ],
   "source": [
    "import pyLDAvis"
   ]
  },
  {
   "cell_type": "code",
   "execution_count": 5,
   "metadata": {},
   "outputs": [
    {
     "name": "stdout",
     "output_type": "stream",
     "text": [
      "sudo: conda: command not found\r\n"
     ]
    }
   ],
   "source": [
    "!sudo conda install -c memex pyldavis"
   ]
  }
 ],
 "metadata": {
  "kernelspec": {
   "display_name": "Python 3",
   "language": "python",
   "name": "python3"
  },
  "language_info": {
   "codemirror_mode": {
    "name": "ipython",
    "version": 3
   },
   "file_extension": ".py",
   "mimetype": "text/x-python",
   "name": "python",
   "nbconvert_exporter": "python",
   "pygments_lexer": "ipython3",
   "version": "3.6.2"
  }
 },
 "nbformat": 4,
 "nbformat_minor": 2
}
