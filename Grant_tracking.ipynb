{
 "cells": [
  {
   "cell_type": "markdown",
   "metadata": {},
   "source": [
    "# Health Related Federal Grant Tracking\n",
    "----------------------------------------------------------------\n",
    "\n",
    "The US government invests billions each year into the health research. The \"open government\" initiative provides more transparency into the governmental activities in the health related sector. Grant application data from NIH, ACF, AHRQ, CDC, HRSA, FDA, and VA are now easily accessible. With that large amount of data, we can now track the trend of the health research according to the amount of grant money. What research topics/areaes get more attractive? How have they been changing over the years? What area in the health sector will likely be the next breakthrough? I will try to explore those questions from the grant application database. \n",
    "\n",
    "First of all, the database called NIH ExPORTER is accesible [here](https://exporter.nih.gov/ExPORTER_Catalog.aspx). A total of 7.3 GB data were downloaded. "
   ]
  },
  {
   "cell_type": "code",
   "execution_count": 2,
   "metadata": {},
   "outputs": [],
   "source": [
    "%matplotlib inline\n",
    "import matplotlib\n",
    "import numpy as np\n",
    "import pandas as pd\n",
    "from datetime import datetime\n",
    "import seaborn as sns\n",
    "import os\n",
    "import dill\n",
    "from tqdm import tqdm_notebook\n",
    "import gensim\n",
    "import pickle\n",
    "import pyLDAvis.gensim\n",
    "sns.set()\n",
    "matplotlib.rcParams['figure.dpi'] = 144"
   ]
  },
  {
   "cell_type": "code",
   "execution_count": 22,
   "metadata": {},
   "outputs": [
    {
     "data": {
      "application/vnd.jupyter.widget-view+json": {
       "model_id": "43ce0f211c934009b0a7e4b42d64542d",
       "version_major": 2,
       "version_minor": 0
      },
      "text/html": [
       "<p>Failed to display Jupyter Widget of type <code>HBox</code>.</p>\n",
       "<p>\n",
       "  If you're reading this message in the Jupyter Notebook or JupyterLab Notebook, it may mean\n",
       "  that the widgets JavaScript is still loading. If this message persists, it\n",
       "  likely means that the widgets JavaScript library is either not installed or\n",
       "  not enabled. See the <a href=\"https://ipywidgets.readthedocs.io/en/stable/user_install.html\">Jupyter\n",
       "  Widgets Documentation</a> for setup instructions.\n",
       "</p>\n",
       "<p>\n",
       "  If you're reading this message in another frontend (for example, a static\n",
       "  rendering on GitHub or <a href=\"https://nbviewer.jupyter.org/\">NBViewer</a>),\n",
       "  it may mean that your frontend doesn't currently support widgets.\n",
       "</p>\n"
      ],
      "text/plain": [
       "HBox(children=(IntProgress(value=0, max=33), HTML(value='')))"
      ]
     },
     "metadata": {},
     "output_type": "display_data"
    }
   ],
   "source": [
    "from tqdm import tqdm_notebook\n",
    "fns = os.listdir('./Data/PRJABS/')\n",
    "fns.sort()\n",
    "fns = ['./Data/PRJABS/'+x for x in fns]\n",
    "proj_ABS = [pd.read_csv(fn,header = 0,dtype = {'APPLICATION_ID': str,'ABSTRACT_TEXT': str},engine = 'python') for fn in tqdm_notebook(fns)]\n"
   ]
  },
  {
   "cell_type": "code",
   "execution_count": 58,
   "metadata": {},
   "outputs": [],
   "source": [
    "#add fiscal year number,fix the data type\n",
    "for i in range(len(proj_ABS)):\n",
    "    proj_ABS[i]['FY'] = i + 1985\n",
    "    proj_ABS[i].apply(str)\n",
    "#concate the whole table\n",
    "proj_ABS = pd.concat(proj_ABS)"
   ]
  },
  {
   "cell_type": "code",
   "execution_count": 90,
   "metadata": {},
   "outputs": [],
   "source": [
    "#all the non-missing entries\n",
    "proj_ABS = proj_ABS[proj_ABS['ABSTRACT_TEXT']!= 'nan']"
   ]
  },
  {
   "cell_type": "code",
   "execution_count": 93,
   "metadata": {},
   "outputs": [],
   "source": [
    "dill.dump(proj_ABS,open('abstracts.dill','wb'))"
   ]
  },
  {
   "cell_type": "code",
   "execution_count": 3,
   "metadata": {},
   "outputs": [],
   "source": [
    "proj_ABS = dill.load(open('abstracts.dill','rb'))"
   ]
  },
  {
   "cell_type": "markdown",
   "metadata": {},
   "source": [
    "# Unsupervised topic modeling with the abstracts\n",
    "With all the non-missing text files in the dataset, I will start the NLP to extract some basic labels. I will try to set the number of topics ahead of time to evaluate what is the best number of topics. I will mainly use the Latent Dirichlet Allocation (LDA) topic modeling technique."
   ]
  },
  {
   "cell_type": "markdown",
   "metadata": {},
   "source": [
    "The abstracts will first be cleaned. Steps include parsing and tokenization, whitespace striping, lowering the words, word lemmatizing, and stop-words cleaning. The bags of word tokens will then be ready for the next step.  "
   ]
  },
  {
   "cell_type": "code",
   "execution_count": 3,
   "metadata": {},
   "outputs": [],
   "source": [
    "text = proj_ABS['ABSTRACT_TEXT']\n",
    "text_update = text[:1763542].append(text[1763549:]) #delete those entries that cause a lot of troubles"
   ]
  },
  {
   "cell_type": "code",
   "execution_count": 54,
   "metadata": {
    "scrolled": true
   },
   "outputs": [
    {
     "data": {
      "application/vnd.jupyter.widget-view+json": {
       "model_id": "8397dda4b6d74fdc941ebea01a87d945",
       "version_major": 2,
       "version_minor": 0
      },
      "text/html": [
       "<p>Failed to display Jupyter Widget of type <code>HBox</code>.</p>\n",
       "<p>\n",
       "  If you're reading this message in the Jupyter Notebook or JupyterLab Notebook, it may mean\n",
       "  that the widgets JavaScript is still loading. If this message persists, it\n",
       "  likely means that the widgets JavaScript library is either not installed or\n",
       "  not enabled. See the <a href=\"https://ipywidgets.readthedocs.io/en/stable/user_install.html\">Jupyter\n",
       "  Widgets Documentation</a> for setup instructions.\n",
       "</p>\n",
       "<p>\n",
       "  If you're reading this message in another frontend (for example, a static\n",
       "  rendering on GitHub or <a href=\"https://nbviewer.jupyter.org/\">NBViewer</a>),\n",
       "  it may mean that your frontend doesn't currently support widgets.\n",
       "</p>\n"
      ],
      "text/plain": [
       "HBox(children=(IntProgress(value=0, max=72410), HTML(value='')))"
      ]
     },
     "metadata": {},
     "output_type": "display_data"
    }
   ],
   "source": [
    "t_2017 = proj_ABS.query('FY == 2017')[['ABSTRACT_TEXT']]\n",
    "t_2017[29384:29391] = 'nan' #need to update this and the followin line to pd.drop\n",
    "t_2017 = t_2017[t_2017['ABSTRACT_TEXT'] != 'nan']\n",
    "t_2017 = [prepare_text_for_lda(x) for x in tqdm_notebook(t_2017['ABSTRACT_TEXT'])]"
   ]
  },
  {
   "cell_type": "code",
   "execution_count": 69,
   "metadata": {},
   "outputs": [],
   "source": [
    "#Text Cleaning\n",
    "import spacy\n",
    "spacy.load('en')\n",
    "from spacy.lang.en import English\n",
    "parser = English()\n",
    "def tokenize(text):\n",
    "    lda_tokens = []\n",
    "    tokens = parser(text)\n",
    "    for token in tokens:\n",
    "        if token.orth_.isspace():\n",
    "            continue\n",
    "        else:\n",
    "            lda_tokens.append(token.lower_)\n",
    "    return lda_tokens\n",
    "\n",
    "#word lemmatize to get the root word\n",
    "import nltk\n",
    "#nltk.download('wordnet')\n",
    "from nltk.corpus import wordnet as wn\n",
    "def get_lemma(word):\n",
    "    lemma = wn.morphy(word)\n",
    "    if lemma is None:\n",
    "        return word\n",
    "    else:\n",
    "        return lemma\n",
    "    \n",
    "from nltk.stem.wordnet import WordNetLemmatizer\n",
    "def get_lemma2(word):\n",
    "    return WordNetLemmatizer().lemmatize(word)\n",
    "\n",
    "#clean stop words\n",
    "#nltk.download('stopwords')\n",
    "en_stop = set(nltk.corpus.stopwords.words('english'))\n",
    "\n",
    "#ensemble function\n",
    "def prepare_text_for_lda(text):\n",
    "    tokens = tokenize(text)\n",
    "    tokens = [token for token in tokens if len(token) > 4]\n",
    "    tokens = [token for token in tokens if token not in en_stop]\n",
    "    tokens = [get_lemma(token) for token in tokens]\n",
    "    return tokens"
   ]
  },
  {
   "cell_type": "code",
   "execution_count": 8,
   "metadata": {},
   "outputs": [
    {
     "data": {
      "text/plain": [
       "(180658, 1806580, 361316)"
      ]
     },
     "execution_count": 8,
     "metadata": {},
     "output_type": "execute_result"
    }
   ],
   "source": [
    "n = len(text)//10\n",
    "n,len(text),2*n"
   ]
  },
  {
   "cell_type": "code",
   "execution_count": 13,
   "metadata": {},
   "outputs": [
    {
     "data": {
      "application/vnd.jupyter.widget-view+json": {
       "model_id": "80da5b5e35404f17958c23b3c8eb371a",
       "version_major": 2,
       "version_minor": 0
      },
      "text/html": [
       "<p>Failed to display Jupyter Widget of type <code>HBox</code>.</p>\n",
       "<p>\n",
       "  If you're reading this message in the Jupyter Notebook or JupyterLab Notebook, it may mean\n",
       "  that the widgets JavaScript is still loading. If this message persists, it\n",
       "  likely means that the widgets JavaScript library is either not installed or\n",
       "  not enabled. See the <a href=\"https://ipywidgets.readthedocs.io/en/stable/user_install.html\">Jupyter\n",
       "  Widgets Documentation</a> for setup instructions.\n",
       "</p>\n",
       "<p>\n",
       "  If you're reading this message in another frontend (for example, a static\n",
       "  rendering on GitHub or <a href=\"https://nbviewer.jupyter.org/\">NBViewer</a>),\n",
       "  it may mean that your frontend doesn't currently support widgets.\n",
       "</p>\n"
      ],
      "text/plain": [
       "HBox(children=(IntProgress(value=0, max=180658), HTML(value='')))"
      ]
     },
     "metadata": {},
     "output_type": "display_data"
    },
    {
     "name": "stdout",
     "output_type": "stream",
     "text": [
      "\n"
     ]
    }
   ],
   "source": [
    "n = len(text)//10\n",
    "text_data1 = [prepare_text_for_lda(abs) for abs in tqdm_notebook(list(text)[:n])]"
   ]
  },
  {
   "cell_type": "code",
   "execution_count": 14,
   "metadata": {},
   "outputs": [],
   "source": [
    "dill.dump(text_data1,open('abs_tokens1.dill','wb'))"
   ]
  },
  {
   "cell_type": "code",
   "execution_count": 5,
   "metadata": {},
   "outputs": [],
   "source": [
    "text_data1 = dill.load(open('abs_tokens1.dill','rb'))"
   ]
  },
  {
   "cell_type": "code",
   "execution_count": 16,
   "metadata": {},
   "outputs": [
    {
     "data": {
      "application/vnd.jupyter.widget-view+json": {
       "model_id": "0dd7ff1314e44c8eb128e07823842a93",
       "version_major": 2,
       "version_minor": 0
      },
      "text/html": [
       "<p>Failed to display Jupyter Widget of type <code>HBox</code>.</p>\n",
       "<p>\n",
       "  If you're reading this message in the Jupyter Notebook or JupyterLab Notebook, it may mean\n",
       "  that the widgets JavaScript is still loading. If this message persists, it\n",
       "  likely means that the widgets JavaScript library is either not installed or\n",
       "  not enabled. See the <a href=\"https://ipywidgets.readthedocs.io/en/stable/user_install.html\">Jupyter\n",
       "  Widgets Documentation</a> for setup instructions.\n",
       "</p>\n",
       "<p>\n",
       "  If you're reading this message in another frontend (for example, a static\n",
       "  rendering on GitHub or <a href=\"https://nbviewer.jupyter.org/\">NBViewer</a>),\n",
       "  it may mean that your frontend doesn't currently support widgets.\n",
       "</p>\n"
      ],
      "text/plain": [
       "HBox(children=(IntProgress(value=0, max=180658), HTML(value='')))"
      ]
     },
     "metadata": {},
     "output_type": "display_data"
    },
    {
     "name": "stdout",
     "output_type": "stream",
     "text": [
      "\n"
     ]
    }
   ],
   "source": [
    "text_data2 = [prepare_text_for_lda(abs) for abs in tqdm_notebook(list(text)[n:2*n])]"
   ]
  },
  {
   "cell_type": "code",
   "execution_count": 17,
   "metadata": {},
   "outputs": [],
   "source": [
    "dill.dump(text_data2,open('abs_tokens2.dill','wb'))"
   ]
  },
  {
   "cell_type": "code",
   "execution_count": 8,
   "metadata": {},
   "outputs": [],
   "source": [
    "text_data2 = dill.load(open('abs_tokens2.dill','rb'))"
   ]
  },
  {
   "cell_type": "code",
   "execution_count": 10,
   "metadata": {},
   "outputs": [
    {
     "data": {
      "application/vnd.jupyter.widget-view+json": {
       "model_id": "3bc4a24e33e64c1899f6d904c5847a1d",
       "version_major": 2,
       "version_minor": 0
      },
      "text/html": [
       "<p>Failed to display Jupyter Widget of type <code>HBox</code>.</p>\n",
       "<p>\n",
       "  If you're reading this message in the Jupyter Notebook or JupyterLab Notebook, it may mean\n",
       "  that the widgets JavaScript is still loading. If this message persists, it\n",
       "  likely means that the widgets JavaScript library is either not installed or\n",
       "  not enabled. See the <a href=\"https://ipywidgets.readthedocs.io/en/stable/user_install.html\">Jupyter\n",
       "  Widgets Documentation</a> for setup instructions.\n",
       "</p>\n",
       "<p>\n",
       "  If you're reading this message in another frontend (for example, a static\n",
       "  rendering on GitHub or <a href=\"https://nbviewer.jupyter.org/\">NBViewer</a>),\n",
       "  it may mean that your frontend doesn't currently support widgets.\n",
       "</p>\n"
      ],
      "text/plain": [
       "HBox(children=(IntProgress(value=0, max=180658), HTML(value='')))"
      ]
     },
     "metadata": {},
     "output_type": "display_data"
    },
    {
     "name": "stdout",
     "output_type": "stream",
     "text": [
      "\n"
     ]
    }
   ],
   "source": [
    "text_data3 = [prepare_text_for_lda(abs) for abs in tqdm_notebook(list(text)[2*n:3*n])]"
   ]
  },
  {
   "cell_type": "code",
   "execution_count": 11,
   "metadata": {},
   "outputs": [],
   "source": [
    "dill.dump(text_data3,open('abs_tokens3.dill','wb'))"
   ]
  },
  {
   "cell_type": "code",
   "execution_count": 9,
   "metadata": {},
   "outputs": [],
   "source": [
    "text_data3 = dill.load(open('abs_tokens3.dill','rb'))"
   ]
  },
  {
   "cell_type": "code",
   "execution_count": 13,
   "metadata": {},
   "outputs": [
    {
     "data": {
      "application/vnd.jupyter.widget-view+json": {
       "model_id": "165e8538df1f4a8699703e663422fe58",
       "version_major": 2,
       "version_minor": 0
      },
      "text/html": [
       "<p>Failed to display Jupyter Widget of type <code>HBox</code>.</p>\n",
       "<p>\n",
       "  If you're reading this message in the Jupyter Notebook or JupyterLab Notebook, it may mean\n",
       "  that the widgets JavaScript is still loading. If this message persists, it\n",
       "  likely means that the widgets JavaScript library is either not installed or\n",
       "  not enabled. See the <a href=\"https://ipywidgets.readthedocs.io/en/stable/user_install.html\">Jupyter\n",
       "  Widgets Documentation</a> for setup instructions.\n",
       "</p>\n",
       "<p>\n",
       "  If you're reading this message in another frontend (for example, a static\n",
       "  rendering on GitHub or <a href=\"https://nbviewer.jupyter.org/\">NBViewer</a>),\n",
       "  it may mean that your frontend doesn't currently support widgets.\n",
       "</p>\n"
      ],
      "text/plain": [
       "HBox(children=(IntProgress(value=0, max=180658), HTML(value='')))"
      ]
     },
     "metadata": {},
     "output_type": "display_data"
    },
    {
     "name": "stdout",
     "output_type": "stream",
     "text": [
      "\n"
     ]
    }
   ],
   "source": [
    "text_data4 = [prepare_text_for_lda(abs) for abs in tqdm_notebook(list(text)[3*n:4*n])]"
   ]
  },
  {
   "cell_type": "code",
   "execution_count": 14,
   "metadata": {},
   "outputs": [],
   "source": [
    "dill.dump(text_data4,open('abs_tokens4.dill','wb'))"
   ]
  },
  {
   "cell_type": "code",
   "execution_count": null,
   "metadata": {},
   "outputs": [],
   "source": [
    "text_data4 = dill.load(open('abs_tokens4.dill','rb'))"
   ]
  },
  {
   "cell_type": "code",
   "execution_count": 9,
   "metadata": {},
   "outputs": [
    {
     "data": {
      "application/vnd.jupyter.widget-view+json": {
       "model_id": "5790aa1b92214d0893134e744267816c",
       "version_major": 2,
       "version_minor": 0
      },
      "text/html": [
       "<p>Failed to display Jupyter Widget of type <code>HBox</code>.</p>\n",
       "<p>\n",
       "  If you're reading this message in the Jupyter Notebook or JupyterLab Notebook, it may mean\n",
       "  that the widgets JavaScript is still loading. If this message persists, it\n",
       "  likely means that the widgets JavaScript library is either not installed or\n",
       "  not enabled. See the <a href=\"https://ipywidgets.readthedocs.io/en/stable/user_install.html\">Jupyter\n",
       "  Widgets Documentation</a> for setup instructions.\n",
       "</p>\n",
       "<p>\n",
       "  If you're reading this message in another frontend (for example, a static\n",
       "  rendering on GitHub or <a href=\"https://nbviewer.jupyter.org/\">NBViewer</a>),\n",
       "  it may mean that your frontend doesn't currently support widgets.\n",
       "</p>\n"
      ],
      "text/plain": [
       "HBox(children=(IntProgress(value=0, max=180658), HTML(value='')))"
      ]
     },
     "metadata": {},
     "output_type": "display_data"
    },
    {
     "name": "stdout",
     "output_type": "stream",
     "text": [
      "\n"
     ]
    }
   ],
   "source": [
    "text_data5 = [prepare_text_for_lda(abs) for abs in tqdm_notebook(list(text)[4*n:5*n])]"
   ]
  },
  {
   "cell_type": "code",
   "execution_count": 10,
   "metadata": {},
   "outputs": [],
   "source": [
    "dill.dump(text_data5,open('abs_tokens5.dill','wb'))"
   ]
  },
  {
   "cell_type": "code",
   "execution_count": 11,
   "metadata": {},
   "outputs": [
    {
     "data": {
      "application/vnd.jupyter.widget-view+json": {
       "model_id": "6bc648e84c7942efa357bb64c89a6b73",
       "version_major": 2,
       "version_minor": 0
      },
      "text/html": [
       "<p>Failed to display Jupyter Widget of type <code>HBox</code>.</p>\n",
       "<p>\n",
       "  If you're reading this message in the Jupyter Notebook or JupyterLab Notebook, it may mean\n",
       "  that the widgets JavaScript is still loading. If this message persists, it\n",
       "  likely means that the widgets JavaScript library is either not installed or\n",
       "  not enabled. See the <a href=\"https://ipywidgets.readthedocs.io/en/stable/user_install.html\">Jupyter\n",
       "  Widgets Documentation</a> for setup instructions.\n",
       "</p>\n",
       "<p>\n",
       "  If you're reading this message in another frontend (for example, a static\n",
       "  rendering on GitHub or <a href=\"https://nbviewer.jupyter.org/\">NBViewer</a>),\n",
       "  it may mean that your frontend doesn't currently support widgets.\n",
       "</p>\n"
      ],
      "text/plain": [
       "HBox(children=(IntProgress(value=0, max=180658), HTML(value='')))"
      ]
     },
     "metadata": {},
     "output_type": "display_data"
    },
    {
     "name": "stdout",
     "output_type": "stream",
     "text": [
      "\n"
     ]
    }
   ],
   "source": [
    "text_data6 = [prepare_text_for_lda(abs) for abs in tqdm_notebook(list(text)[5*n:6*n])]"
   ]
  },
  {
   "cell_type": "code",
   "execution_count": 12,
   "metadata": {},
   "outputs": [],
   "source": [
    "dill.dump(text_data6,open('abs_tokens6.dill','wb'))"
   ]
  },
  {
   "cell_type": "code",
   "execution_count": 9,
   "metadata": {},
   "outputs": [
    {
     "data": {
      "application/vnd.jupyter.widget-view+json": {
       "model_id": "7148c51186544a33867c0d6bce83b527",
       "version_major": 2,
       "version_minor": 0
      },
      "text/html": [
       "<p>Failed to display Jupyter Widget of type <code>HBox</code>.</p>\n",
       "<p>\n",
       "  If you're reading this message in the Jupyter Notebook or JupyterLab Notebook, it may mean\n",
       "  that the widgets JavaScript is still loading. If this message persists, it\n",
       "  likely means that the widgets JavaScript library is either not installed or\n",
       "  not enabled. See the <a href=\"https://ipywidgets.readthedocs.io/en/stable/user_install.html\">Jupyter\n",
       "  Widgets Documentation</a> for setup instructions.\n",
       "</p>\n",
       "<p>\n",
       "  If you're reading this message in another frontend (for example, a static\n",
       "  rendering on GitHub or <a href=\"https://nbviewer.jupyter.org/\">NBViewer</a>),\n",
       "  it may mean that your frontend doesn't currently support widgets.\n",
       "</p>\n"
      ],
      "text/plain": [
       "HBox(children=(IntProgress(value=0, max=180658), HTML(value='')))"
      ]
     },
     "metadata": {},
     "output_type": "display_data"
    },
    {
     "name": "stdout",
     "output_type": "stream",
     "text": [
      "\n"
     ]
    }
   ],
   "source": [
    "text_data7 = [prepare_text_for_lda(abs) for abs in tqdm_notebook(list(text)[6*n:7*n])]"
   ]
  },
  {
   "cell_type": "code",
   "execution_count": 10,
   "metadata": {},
   "outputs": [],
   "source": [
    "dill.dump(text_data7,open('abs_tokens7.dill','wb'))"
   ]
  },
  {
   "cell_type": "code",
   "execution_count": 9,
   "metadata": {},
   "outputs": [
    {
     "data": {
      "application/vnd.jupyter.widget-view+json": {
       "model_id": "5abef718be4e472faf0dbe282f562e48",
       "version_major": 2,
       "version_minor": 0
      },
      "text/html": [
       "<p>Failed to display Jupyter Widget of type <code>HBox</code>.</p>\n",
       "<p>\n",
       "  If you're reading this message in the Jupyter Notebook or JupyterLab Notebook, it may mean\n",
       "  that the widgets JavaScript is still loading. If this message persists, it\n",
       "  likely means that the widgets JavaScript library is either not installed or\n",
       "  not enabled. See the <a href=\"https://ipywidgets.readthedocs.io/en/stable/user_install.html\">Jupyter\n",
       "  Widgets Documentation</a> for setup instructions.\n",
       "</p>\n",
       "<p>\n",
       "  If you're reading this message in another frontend (for example, a static\n",
       "  rendering on GitHub or <a href=\"https://nbviewer.jupyter.org/\">NBViewer</a>),\n",
       "  it may mean that your frontend doesn't currently support widgets.\n",
       "</p>\n"
      ],
      "text/plain": [
       "HBox(children=(IntProgress(value=0, max=180658), HTML(value='')))"
      ]
     },
     "metadata": {},
     "output_type": "display_data"
    },
    {
     "name": "stdout",
     "output_type": "stream",
     "text": [
      "\n"
     ]
    }
   ],
   "source": [
    "text_data8 = [prepare_text_for_lda(abs) for abs in tqdm_notebook(list(text)[7*n:8*n])]"
   ]
  },
  {
   "cell_type": "code",
   "execution_count": 10,
   "metadata": {},
   "outputs": [],
   "source": [
    "dill.dump(text_data8,open('abs_tokens8.dill','wb'))"
   ]
  },
  {
   "cell_type": "code",
   "execution_count": 9,
   "metadata": {},
   "outputs": [
    {
     "data": {
      "application/vnd.jupyter.widget-view+json": {
       "model_id": "e8d4921b1e2c4cae86b1c26ed3f13308",
       "version_major": 2,
       "version_minor": 0
      },
      "text/html": [
       "<p>Failed to display Jupyter Widget of type <code>HBox</code>.</p>\n",
       "<p>\n",
       "  If you're reading this message in the Jupyter Notebook or JupyterLab Notebook, it may mean\n",
       "  that the widgets JavaScript is still loading. If this message persists, it\n",
       "  likely means that the widgets JavaScript library is either not installed or\n",
       "  not enabled. See the <a href=\"https://ipywidgets.readthedocs.io/en/stable/user_install.html\">Jupyter\n",
       "  Widgets Documentation</a> for setup instructions.\n",
       "</p>\n",
       "<p>\n",
       "  If you're reading this message in another frontend (for example, a static\n",
       "  rendering on GitHub or <a href=\"https://nbviewer.jupyter.org/\">NBViewer</a>),\n",
       "  it may mean that your frontend doesn't currently support widgets.\n",
       "</p>\n"
      ],
      "text/plain": [
       "HBox(children=(IntProgress(value=0, max=180658), HTML(value='')))"
      ]
     },
     "metadata": {},
     "output_type": "display_data"
    },
    {
     "name": "stdout",
     "output_type": "stream",
     "text": [
      "\n"
     ]
    }
   ],
   "source": [
    "text_data9 = [prepare_text_for_lda(abs) for abs in tqdm_notebook(list(text)[8*n:9*n])]"
   ]
  },
  {
   "cell_type": "code",
   "execution_count": 10,
   "metadata": {},
   "outputs": [],
   "source": [
    "dill.dump(text_data9,open('abs_tokens9.dill','wb'))"
   ]
  },
  {
   "cell_type": "code",
   "execution_count": 17,
   "metadata": {},
   "outputs": [
    {
     "data": {
      "application/vnd.jupyter.widget-view+json": {
       "model_id": "801b6924911b434a874b6b8ea642e62b",
       "version_major": 2,
       "version_minor": 0
      },
      "text/html": [
       "<p>Failed to display Jupyter Widget of type <code>HBox</code>.</p>\n",
       "<p>\n",
       "  If you're reading this message in the Jupyter Notebook or JupyterLab Notebook, it may mean\n",
       "  that the widgets JavaScript is still loading. If this message persists, it\n",
       "  likely means that the widgets JavaScript library is either not installed or\n",
       "  not enabled. See the <a href=\"https://ipywidgets.readthedocs.io/en/stable/user_install.html\">Jupyter\n",
       "  Widgets Documentation</a> for setup instructions.\n",
       "</p>\n",
       "<p>\n",
       "  If you're reading this message in another frontend (for example, a static\n",
       "  rendering on GitHub or <a href=\"https://nbviewer.jupyter.org/\">NBViewer</a>),\n",
       "  it may mean that your frontend doesn't currently support widgets.\n",
       "</p>\n"
      ],
      "text/plain": [
       "HBox(children=(IntProgress(value=0, max=137620), HTML(value='')))"
      ]
     },
     "metadata": {},
     "output_type": "display_data"
    }
   ],
   "source": [
    "text_data10 = [prepare_text_for_lda(abs) for abs in tqdm_notebook(list(text)[9*n:9*n+137620])]"
   ]
  },
  {
   "cell_type": "code",
   "execution_count": 23,
   "metadata": {},
   "outputs": [
    {
     "data": {
      "text/plain": [
       "(1763542, 1763549)"
      ]
     },
     "execution_count": 23,
     "metadata": {},
     "output_type": "execute_result"
    }
   ],
   "source": [
    "9*n+137620,9*n+137627"
   ]
  },
  {
   "cell_type": "code",
   "execution_count": 77,
   "metadata": {},
   "outputs": [],
   "source": [
    "#list(text)[9*n+137620:9*n+137627]"
   ]
  },
  {
   "cell_type": "code",
   "execution_count": 18,
   "metadata": {},
   "outputs": [],
   "source": [
    "dill.dump(text_data10,open('abs_tokens10.dill','wb'))"
   ]
  },
  {
   "cell_type": "code",
   "execution_count": 21,
   "metadata": {},
   "outputs": [
    {
     "data": {
      "application/vnd.jupyter.widget-view+json": {
       "model_id": "c3ea56d8d651472a851a417787fdf4e9",
       "version_major": 2,
       "version_minor": 0
      },
      "text/html": [
       "<p>Failed to display Jupyter Widget of type <code>HBox</code>.</p>\n",
       "<p>\n",
       "  If you're reading this message in the Jupyter Notebook or JupyterLab Notebook, it may mean\n",
       "  that the widgets JavaScript is still loading. If this message persists, it\n",
       "  likely means that the widgets JavaScript library is either not installed or\n",
       "  not enabled. See the <a href=\"https://ipywidgets.readthedocs.io/en/stable/user_install.html\">Jupyter\n",
       "  Widgets Documentation</a> for setup instructions.\n",
       "</p>\n",
       "<p>\n",
       "  If you're reading this message in another frontend (for example, a static\n",
       "  rendering on GitHub or <a href=\"https://nbviewer.jupyter.org/\">NBViewer</a>),\n",
       "  it may mean that your frontend doesn't currently support widgets.\n",
       "</p>\n"
      ],
      "text/plain": [
       "HBox(children=(IntProgress(value=0, max=38), HTML(value='')))"
      ]
     },
     "metadata": {},
     "output_type": "display_data"
    }
   ],
   "source": [
    "text_data11 = [prepare_text_for_lda(abs) for abs in tqdm_notebook(list(text)[9*n+137627:9*n+137665])]"
   ]
  },
  {
   "cell_type": "code",
   "execution_count": 24,
   "metadata": {},
   "outputs": [],
   "source": [
    "dill.dump(text_data11,open('abs_tokens11.dill','wb'))"
   ]
  },
  {
   "cell_type": "code",
   "execution_count": 11,
   "metadata": {},
   "outputs": [
    {
     "data": {
      "application/vnd.jupyter.widget-view+json": {
       "model_id": "3c91026f47d84aae972a6d90378a9925",
       "version_major": 2,
       "version_minor": 0
      },
      "text/html": [
       "<p>Failed to display Jupyter Widget of type <code>HBox</code>.</p>\n",
       "<p>\n",
       "  If you're reading this message in the Jupyter Notebook or JupyterLab Notebook, it may mean\n",
       "  that the widgets JavaScript is still loading. If this message persists, it\n",
       "  likely means that the widgets JavaScript library is either not installed or\n",
       "  not enabled. See the <a href=\"https://ipywidgets.readthedocs.io/en/stable/user_install.html\">Jupyter\n",
       "  Widgets Documentation</a> for setup instructions.\n",
       "</p>\n",
       "<p>\n",
       "  If you're reading this message in another frontend (for example, a static\n",
       "  rendering on GitHub or <a href=\"https://nbviewer.jupyter.org/\">NBViewer</a>),\n",
       "  it may mean that your frontend doesn't currently support widgets.\n",
       "</p>\n"
      ],
      "text/plain": [
       "HBox(children=(IntProgress(value=0, max=42993), HTML(value='')))"
      ]
     },
     "metadata": {},
     "output_type": "display_data"
    }
   ],
   "source": [
    "text_data12 = [prepare_text_for_lda(abs) for abs in tqdm_notebook(list(text)[9*n+137665:])]"
   ]
  },
  {
   "cell_type": "code",
   "execution_count": 12,
   "metadata": {},
   "outputs": [],
   "source": [
    "dill.dump(text_data12,open('abs_tokens12.dill','wb'))"
   ]
  },
  {
   "cell_type": "code",
   "execution_count": 78,
   "metadata": {},
   "outputs": [],
   "source": [
    "#len(text)"
   ]
  },
  {
   "cell_type": "code",
   "execution_count": 5,
   "metadata": {},
   "outputs": [
    {
     "ename": "NameError",
     "evalue": "name 'text' is not defined",
     "output_type": "error",
     "traceback": [
      "\u001b[0;31m---------------------------------------------------------------------------\u001b[0m",
      "\u001b[0;31mNameError\u001b[0m                                 Traceback (most recent call last)",
      "\u001b[0;32m<ipython-input-5-bd2853885bf0>\u001b[0m in \u001b[0;36m<module>\u001b[0;34m()\u001b[0m\n\u001b[0;32m----> 1\u001b[0;31m \u001b[0mtext_update\u001b[0m \u001b[0;34m=\u001b[0m \u001b[0mtext\u001b[0m\u001b[0;34m[\u001b[0m\u001b[0;34m:\u001b[0m\u001b[0;36m1763542\u001b[0m\u001b[0;34m]\u001b[0m\u001b[0;34m.\u001b[0m\u001b[0mappend\u001b[0m\u001b[0;34m(\u001b[0m\u001b[0mtext\u001b[0m\u001b[0;34m[\u001b[0m\u001b[0;36m1763549\u001b[0m\u001b[0;34m:\u001b[0m\u001b[0;34m]\u001b[0m\u001b[0;34m)\u001b[0m \u001b[0;31m#delete those entries that cause a lot of troubles\u001b[0m\u001b[0;34m\u001b[0m\u001b[0m\n\u001b[0m",
      "\u001b[0;31mNameError\u001b[0m: name 'text' is not defined"
     ]
    }
   ],
   "source": [
    "text_update = text[:1763542].append(text[1763549:]) #delete those entries that cause a lot of troubles"
   ]
  },
  {
   "cell_type": "code",
   "execution_count": 27,
   "metadata": {},
   "outputs": [
    {
     "data": {
      "text/plain": [
       "1806573"
      ]
     },
     "execution_count": 27,
     "metadata": {},
     "output_type": "execute_result"
    }
   ],
   "source": [
    "len(text_update)"
   ]
  },
  {
   "cell_type": "code",
   "execution_count": null,
   "metadata": {},
   "outputs": [
    {
     "data": {
      "application/vnd.jupyter.widget-view+json": {
       "model_id": "4dc3c06b3b3e4e769ac0e7929a892454",
       "version_major": 2,
       "version_minor": 0
      },
      "text/html": [
       "<p>Failed to display Jupyter Widget of type <code>HBox</code>.</p>\n",
       "<p>\n",
       "  If you're reading this message in the Jupyter Notebook or JupyterLab Notebook, it may mean\n",
       "  that the widgets JavaScript is still loading. If this message persists, it\n",
       "  likely means that the widgets JavaScript library is either not installed or\n",
       "  not enabled. See the <a href=\"https://ipywidgets.readthedocs.io/en/stable/user_install.html\">Jupyter\n",
       "  Widgets Documentation</a> for setup instructions.\n",
       "</p>\n",
       "<p>\n",
       "  If you're reading this message in another frontend (for example, a static\n",
       "  rendering on GitHub or <a href=\"https://nbviewer.jupyter.org/\">NBViewer</a>),\n",
       "  it may mean that your frontend doesn't currently support widgets.\n",
       "</p>\n"
      ],
      "text/plain": [
       "HBox(children=(IntProgress(value=0, max=1806573), HTML(value='')))"
      ]
     },
     "metadata": {},
     "output_type": "display_data"
    }
   ],
   "source": [
    "text_data = [prepare_text_for_lda(abs) for abs in tqdm_notebook(list(text_update))]"
   ]
  },
  {
   "cell_type": "code",
   "execution_count": null,
   "metadata": {},
   "outputs": [],
   "source": [
    "dill.dump(text_data,open('abs_tokens.dill','wb'))"
   ]
  },
  {
   "cell_type": "markdown",
   "metadata": {},
   "source": [
    "Now that, the bags of words are ready. We can start getting the topics out of them. "
   ]
  },
  {
   "cell_type": "code",
   "execution_count": 1,
   "metadata": {},
   "outputs": [
    {
     "ename": "NameError",
     "evalue": "name 'text_data1' is not defined",
     "output_type": "error",
     "traceback": [
      "\u001b[0;31m---------------------------------------------------------------------------\u001b[0m",
      "\u001b[0;31mNameError\u001b[0m                                 Traceback (most recent call last)",
      "\u001b[0;32m<ipython-input-1-c00a19727479>\u001b[0m in \u001b[0;36m<module>\u001b[0;34m()\u001b[0m\n\u001b[0;32m----> 1\u001b[0;31m \u001b[0mlen\u001b[0m\u001b[0;34m(\u001b[0m\u001b[0mtext_data1\u001b[0m\u001b[0;34m)\u001b[0m\u001b[0;34m\u001b[0m\u001b[0m\n\u001b[0m\u001b[1;32m      2\u001b[0m \u001b[0;31m#text_data1[:2]\u001b[0m\u001b[0;34m\u001b[0m\u001b[0;34m\u001b[0m\u001b[0m\n",
      "\u001b[0;31mNameError\u001b[0m: name 'text_data1' is not defined"
     ]
    }
   ],
   "source": [
    "len(text_data1)\n",
    "#text_data1[:2]"
   ]
  },
  {
   "cell_type": "code",
   "execution_count": 10,
   "metadata": {},
   "outputs": [
    {
     "data": {
      "application/vnd.jupyter.widget-view+json": {
       "model_id": "2118d4c0799c4c4eaa64a186501c24d4",
       "version_major": 2,
       "version_minor": 0
      },
      "text/html": [
       "<p>Failed to display Jupyter Widget of type <code>HBox</code>.</p>\n",
       "<p>\n",
       "  If you're reading this message in the Jupyter Notebook or JupyterLab Notebook, it may mean\n",
       "  that the widgets JavaScript is still loading. If this message persists, it\n",
       "  likely means that the widgets JavaScript library is either not installed or\n",
       "  not enabled. See the <a href=\"https://ipywidgets.readthedocs.io/en/stable/user_install.html\">Jupyter\n",
       "  Widgets Documentation</a> for setup instructions.\n",
       "</p>\n",
       "<p>\n",
       "  If you're reading this message in another frontend (for example, a static\n",
       "  rendering on GitHub or <a href=\"https://nbviewer.jupyter.org/\">NBViewer</a>),\n",
       "  it may mean that your frontend doesn't currently support widgets.\n",
       "</p>\n"
      ],
      "text/plain": [
       "HBox(children=(IntProgress(value=0, max=180658), HTML(value='')))"
      ]
     },
     "metadata": {},
     "output_type": "display_data"
    },
    {
     "name": "stdout",
     "output_type": "stream",
     "text": [
      "\n"
     ]
    }
   ],
   "source": [
    "from gensim import corpora\n",
    "dictionary = corpora.Dictionary(text_data1)\n",
    "corpus = [dictionary.doc2bow(text) for text in tqdm_notebook(text_data1)]"
   ]
  },
  {
   "cell_type": "code",
   "execution_count": 30,
   "metadata": {},
   "outputs": [],
   "source": [
    "pickle.dump(corpus, open('corpus1.pkl', 'wb'))\n",
    "dictionary.save('dictionary.gensim')"
   ]
  },
  {
   "cell_type": "code",
   "execution_count": 11,
   "metadata": {},
   "outputs": [
    {
     "name": "stdout",
     "output_type": "stream",
     "text": [
      "(0, '0.026*\"cell\" + 0.014*\"study\" + 0.010*\"tumor\" + 0.010*\"human\" + 0.010*\"antibody\" + 0.009*\"antigen\" + 0.008*\"response\" + 0.008*\"disease\" + 0.008*\"infection\" + 0.008*\"determine\"')\n",
      "(1, '0.028*\"protein\" + 0.012*\"study\" + 0.011*\"sequence\" + 0.011*\"gene\" + 0.009*\"expression\" + 0.009*\"specific\" + 0.008*\"molecular\" + 0.008*\"receptor\" + 0.008*\"structure\" + 0.008*\"binding\"')\n",
      "(2, '0.016*\"study\" + 0.013*\"research\" + 0.011*\"patient\" + 0.008*\"clinical\" + 0.008*\"program\" + 0.007*\"project\" + 0.007*\"cancer\" + 0.007*\"treatment\" + 0.007*\"group\" + 0.006*\"provide\"')\n",
      "(3, '0.015*\"study\" + 0.010*\"brain\" + 0.009*\"receptor\" + 0.009*\"system\" + 0.009*\"neuron\" + 0.008*\"effects\" + 0.007*\"determine\" + 0.006*\"response\" + 0.006*\"mechanism\" + 0.006*\"change\"')\n",
      "(4, '0.016*\"study\" + 0.008*\"determine\" + 0.007*\"mechanism\" + 0.006*\"effects\" + 0.006*\"metabolism\" + 0.005*\"change\" + 0.005*\"increase\" + 0.005*\"tissue\" + 0.005*\"blood\" + 0.004*\"muscle\"')\n"
     ]
    }
   ],
   "source": [
    "import gensim\n",
    "NUM_TOPICS = 5\n",
    "ldamodel = gensim.models.ldamodel.LdaModel(corpus, num_topics = NUM_TOPICS, id2word=dictionary, passes=15)\n",
    "ldamodel.save('model5.gensim')\n",
    "topics = ldamodel.print_topics(num_words=10)\n",
    "for topic in topics:\n",
    "    print(topic)"
   ]
  },
  {
   "cell_type": "code",
   "execution_count": 18,
   "metadata": {},
   "outputs": [
    {
     "data": {
      "text/plain": [
       "[(2, 0.99246734)]"
      ]
     },
     "execution_count": 18,
     "metadata": {},
     "output_type": "execute_result"
    }
   ],
   "source": [
    "ldamodel.get_document_topics(corpus[10])"
   ]
  },
  {
   "cell_type": "code",
   "execution_count": 4,
   "metadata": {},
   "outputs": [
    {
     "name": "stderr",
     "output_type": "stream",
     "text": [
      "/opt/conda/envs/data3/lib/python3.6/site-packages/pyLDAvis/_prepare.py:257: FutureWarning: Sorting because non-concatenation axis is not aligned. A future version\n",
      "of pandas will change to not sort by default.\n",
      "\n",
      "To accept the future behavior, pass 'sort=False'.\n",
      "\n",
      "To retain the current behavior and silence the warning, pass 'sort=True'.\n",
      "\n",
      "  return pd.concat([default_term_info] + list(topic_dfs))\n"
     ]
    },
    {
     "data": {
      "text/html": [
       "\n",
       "<link rel=\"stylesheet\" type=\"text/css\" href=\"https://cdn.rawgit.com/bmabey/pyLDAvis/files/ldavis.v1.0.0.css\">\n",
       "\n",
       "\n",
       "<div id=\"ldavis_el8891406428446938725110802904\"></div>\n",
       "<script type=\"text/javascript\">\n",
       "\n",
       "var ldavis_el8891406428446938725110802904_data = {\"mdsDat\": {\"x\": [-0.14171789286951017, -0.028488859119793215, 0.2343846559610011, -0.08034130936898887, 0.01616340539729123], \"y\": [-0.06783897897971312, 0.11431209168010205, -0.0693712533757011, -0.09877309485544315, 0.12167123553075541], \"topics\": [1, 2, 3, 4, 5], \"cluster\": [1, 1, 1, 1, 1], \"Freq\": [23.77704620361328, 21.359962463378906, 19.593059539794922, 18.814090728759766, 16.455833435058594]}, \"tinfo\": {\"Category\": [\"Default\", \"Default\", \"Default\", \"Default\", \"Default\", \"Default\", \"Default\", \"Default\", \"Default\", \"Default\", \"Default\", \"Default\", \"Default\", \"Default\", \"Default\", \"Default\", \"Default\", \"Default\", \"Default\", \"Default\", \"Default\", \"Default\", \"Default\", \"Default\", \"Default\", \"Default\", \"Default\", \"Default\", \"Default\", \"Default\", \"Topic1\", \"Topic1\", \"Topic1\", \"Topic1\", \"Topic1\", \"Topic1\", \"Topic1\", \"Topic1\", \"Topic1\", \"Topic1\", \"Topic1\", \"Topic1\", \"Topic1\", \"Topic1\", \"Topic1\", \"Topic1\", \"Topic1\", \"Topic1\", \"Topic1\", \"Topic1\", \"Topic1\", \"Topic1\", \"Topic1\", \"Topic1\", \"Topic1\", \"Topic1\", \"Topic1\", \"Topic1\", \"Topic1\", \"Topic1\", \"Topic1\", \"Topic1\", \"Topic1\", \"Topic1\", \"Topic1\", \"Topic1\", \"Topic1\", \"Topic1\", \"Topic1\", \"Topic1\", \"Topic1\", \"Topic1\", \"Topic1\", \"Topic1\", \"Topic1\", \"Topic1\", \"Topic1\", \"Topic1\", \"Topic1\", \"Topic1\", \"Topic1\", \"Topic1\", \"Topic1\", \"Topic1\", \"Topic1\", \"Topic1\", \"Topic1\", \"Topic1\", \"Topic1\", \"Topic1\", \"Topic1\", \"Topic1\", \"Topic1\", \"Topic1\", \"Topic1\", \"Topic1\", \"Topic1\", \"Topic1\", \"Topic1\", \"Topic1\", \"Topic1\", \"Topic1\", \"Topic1\", \"Topic2\", \"Topic2\", \"Topic2\", \"Topic2\", \"Topic2\", \"Topic2\", \"Topic2\", \"Topic2\", \"Topic2\", \"Topic2\", \"Topic2\", \"Topic2\", \"Topic2\", \"Topic2\", \"Topic2\", \"Topic2\", \"Topic2\", \"Topic2\", \"Topic2\", \"Topic2\", \"Topic2\", \"Topic2\", \"Topic2\", \"Topic2\", \"Topic2\", \"Topic2\", \"Topic2\", \"Topic2\", \"Topic2\", \"Topic2\", \"Topic2\", \"Topic2\", \"Topic2\", \"Topic2\", \"Topic2\", \"Topic2\", \"Topic2\", \"Topic2\", \"Topic2\", \"Topic2\", \"Topic2\", \"Topic2\", \"Topic2\", \"Topic2\", \"Topic2\", \"Topic2\", \"Topic2\", \"Topic2\", \"Topic2\", \"Topic2\", \"Topic2\", \"Topic2\", \"Topic2\", \"Topic2\", \"Topic2\", \"Topic2\", \"Topic2\", \"Topic2\", \"Topic2\", \"Topic2\", \"Topic2\", \"Topic2\", \"Topic2\", \"Topic2\", \"Topic2\", \"Topic2\", \"Topic2\", \"Topic2\", \"Topic2\", \"Topic2\", \"Topic2\", \"Topic2\", \"Topic2\", \"Topic2\", \"Topic2\", \"Topic2\", \"Topic2\", \"Topic2\", \"Topic2\", \"Topic2\", \"Topic2\", \"Topic2\", \"Topic2\", \"Topic2\", \"Topic2\", \"Topic3\", \"Topic3\", \"Topic3\", \"Topic3\", \"Topic3\", \"Topic3\", \"Topic3\", \"Topic3\", \"Topic3\", \"Topic3\", \"Topic3\", \"Topic3\", \"Topic3\", \"Topic3\", \"Topic3\", \"Topic3\", \"Topic3\", \"Topic3\", \"Topic3\", \"Topic3\", \"Topic3\", \"Topic3\", \"Topic3\", \"Topic3\", \"Topic3\", \"Topic3\", \"Topic3\", \"Topic3\", \"Topic3\", \"Topic3\", \"Topic3\", \"Topic3\", \"Topic3\", \"Topic3\", \"Topic3\", \"Topic3\", \"Topic3\", \"Topic3\", \"Topic3\", \"Topic3\", \"Topic3\", \"Topic3\", \"Topic3\", \"Topic3\", \"Topic3\", \"Topic3\", \"Topic3\", \"Topic3\", \"Topic3\", \"Topic3\", \"Topic3\", \"Topic3\", \"Topic3\", \"Topic3\", \"Topic3\", \"Topic3\", \"Topic3\", \"Topic3\", \"Topic3\", \"Topic3\", \"Topic3\", \"Topic3\", \"Topic3\", \"Topic3\", \"Topic3\", \"Topic3\", \"Topic3\", \"Topic3\", \"Topic3\", \"Topic3\", \"Topic3\", \"Topic3\", \"Topic3\", \"Topic4\", \"Topic4\", \"Topic4\", \"Topic4\", \"Topic4\", \"Topic4\", \"Topic4\", \"Topic4\", \"Topic4\", \"Topic4\", \"Topic4\", \"Topic4\", \"Topic4\", \"Topic4\", \"Topic4\", \"Topic4\", \"Topic4\", \"Topic4\", \"Topic4\", \"Topic4\", \"Topic4\", \"Topic4\", \"Topic4\", \"Topic4\", \"Topic4\", \"Topic4\", \"Topic4\", \"Topic4\", \"Topic4\", \"Topic4\", \"Topic4\", \"Topic4\", \"Topic4\", \"Topic4\", \"Topic4\", \"Topic4\", \"Topic4\", \"Topic4\", \"Topic4\", \"Topic4\", \"Topic4\", \"Topic4\", \"Topic4\", \"Topic4\", \"Topic4\", \"Topic4\", \"Topic4\", \"Topic4\", \"Topic4\", \"Topic4\", \"Topic4\", \"Topic4\", \"Topic4\", \"Topic4\", \"Topic4\", \"Topic4\", \"Topic4\", \"Topic4\", \"Topic4\", \"Topic4\", \"Topic4\", \"Topic4\", \"Topic4\", \"Topic4\", \"Topic4\", \"Topic4\", \"Topic4\", \"Topic4\", \"Topic4\", \"Topic4\", \"Topic4\", \"Topic4\", \"Topic4\", \"Topic4\", \"Topic4\", \"Topic5\", \"Topic5\", \"Topic5\", \"Topic5\", \"Topic5\", \"Topic5\", \"Topic5\", \"Topic5\", \"Topic5\", \"Topic5\", \"Topic5\", \"Topic5\", \"Topic5\", \"Topic5\", \"Topic5\", \"Topic5\", \"Topic5\", \"Topic5\", \"Topic5\", \"Topic5\", \"Topic5\", \"Topic5\", \"Topic5\", \"Topic5\", \"Topic5\", \"Topic5\", \"Topic5\", \"Topic5\", \"Topic5\", \"Topic5\", \"Topic5\", \"Topic5\", \"Topic5\", \"Topic5\", \"Topic5\", \"Topic5\", \"Topic5\", \"Topic5\", \"Topic5\", \"Topic5\", \"Topic5\", \"Topic5\", \"Topic5\", \"Topic5\", \"Topic5\", \"Topic5\", \"Topic5\", \"Topic5\", \"Topic5\", \"Topic5\", \"Topic5\", \"Topic5\", \"Topic5\", \"Topic5\", \"Topic5\", \"Topic5\", \"Topic5\", \"Topic5\", \"Topic5\", \"Topic5\", \"Topic5\", \"Topic5\", \"Topic5\", \"Topic5\", \"Topic5\", \"Topic5\", \"Topic5\", \"Topic5\", \"Topic5\", \"Topic5\", \"Topic5\", \"Topic5\", \"Topic5\", \"Topic5\"], \"Freq\": [174705.0, 187350.0, 65418.0, 63789.0, 48854.0, 41548.0, 61398.0, 80985.0, 41755.0, 34559.0, 75027.0, 97692.0, 37108.0, 42251.0, 101486.0, 43310.0, 47094.0, 25744.0, 62784.0, 52961.0, 32587.0, 80139.0, 26954.0, 55802.0, 22418.0, 59973.0, 47044.0, 83830.0, 26964.0, 36559.0, 65417.7578125, 20404.630859375, 19884.19921875, 13375.125, 12813.6201171875, 9368.41015625, 8772.5908203125, 8163.24853515625, 7648.1005859375, 7203.02734375, 7109.8837890625, 5874.09814453125, 5768.45654296875, 5664.60302734375, 5120.2236328125, 5096.673828125, 4532.70654296875, 4493.62158203125, 4426.54345703125, 3735.834228515625, 3714.987060546875, 3594.748291015625, 3592.72802734375, 3573.279052734375, 3407.857177734375, 3083.211181640625, 3019.57763671875, 3095.146240234375, 2746.435791015625, 2698.646240234375, 26801.26171875, 62631.65625, 160097.890625, 15374.9892578125, 18008.814453125, 11466.861328125, 5975.7724609375, 11558.251953125, 44364.27734375, 48817.42578125, 45947.08203125, 54921.359375, 17834.494140625, 8496.5224609375, 27316.62890625, 27547.224609375, 23435.740234375, 19676.25, 25389.16796875, 21779.994140625, 17923.51171875, 15422.87109375, 28869.66015625, 29803.548828125, 18149.640625, 46031.390625, 53006.59375, 36276.125, 28820.0078125, 21003.59765625, 37234.359375, 28416.51953125, 71424.46875, 42403.73828125, 35091.16015625, 27593.3203125, 39207.3203125, 24381.83203125, 28041.876953125, 28436.625, 25000.419921875, 22770.125, 23365.798828125, 11506.9951171875, 11310.345703125, 7685.0458984375, 7398.21240234375, 6886.31005859375, 6495.05322265625, 6326.9609375, 5035.900390625, 4907.9208984375, 4628.220703125, 4519.974609375, 3348.07470703125, 3232.501953125, 3126.40869140625, 3048.1337890625, 2981.73193359375, 2983.60498046875, 2842.9423828125, 2829.16845703125, 2632.87109375, 2622.44482421875, 2504.52392578125, 2333.420166015625, 2242.36669921875, 2211.966064453125, 2042.4232177734375, 1959.8251953125, 1905.8079833984375, 1870.12109375, 1780.8016357421875, 14118.783203125, 4628.435546875, 6726.24072265625, 5929.7529296875, 13273.33984375, 6725.01953125, 11166.7412109375, 17655.71875, 29879.017578125, 4964.25732421875, 4074.901611328125, 7652.95703125, 21166.623046875, 23149.654296875, 6295.9638671875, 11023.3076171875, 10562.8994140625, 5831.7060546875, 14926.5361328125, 12640.115234375, 14348.1806640625, 11358.3154296875, 7538.55029296875, 14747.6865234375, 23855.916015625, 19753.841796875, 23464.673828125, 13767.095703125, 13588.255859375, 14509.494140625, 12089.5341796875, 81891.21875, 24045.478515625, 30817.482421875, 23329.81640625, 24002.3046875, 40777.58984375, 34085.078125, 26517.9453125, 17895.4453125, 17881.19921875, 23176.525390625, 21971.62890625, 17717.63671875, 21804.41796875, 20773.853515625, 16404.33984375, 19945.33203125, 17427.8203125, 17753.447265625, 18796.486328125, 17070.099609375, 15956.474609375, 15841.3466796875, 15997.8291015625, 22417.404296875, 13691.4375, 10817.759765625, 10122.447265625, 9677.2060546875, 8717.009765625, 8020.142578125, 7816.77294921875, 7316.939453125, 6938.9013671875, 6867.72705078125, 6579.1318359375, 5990.748046875, 5764.64599609375, 5519.9580078125, 5514.42431640625, 5410.17822265625, 5288.068359375, 5261.52734375, 5066.66796875, 4479.97509765625, 4417.39111328125, 4387.3564453125, 4296.54833984375, 4174.36181640625, 4159.86083984375, 4126.50732421875, 4051.184326171875, 4086.84423828125, 3992.848876953125, 11790.2333984375, 24855.517578125, 9818.6572265625, 6906.3486328125, 5690.40380859375, 10894.3310546875, 37000.23828125, 18772.537109375, 14469.2587890625, 6062.564453125, 15612.7353515625, 7888.60888671875, 38724.3125, 9986.2763671875, 53106.4453125, 63557.47265625, 31672.056640625, 32434.849609375, 18568.994140625, 15693.2568359375, 13696.509765625, 12143.8076171875, 31793.017578125, 16646.71875, 35803.4609375, 74844.859375, 14491.0478515625, 30185.76171875, 15560.1259765625, 24614.478515625, 25677.662109375, 24418.8984375, 22621.876953125, 17707.287109375, 14943.232421875, 21632.123046875, 19415.3671875, 17910.484375, 15614.5478515625, 14845.5966796875, 15770.49609375, 15284.482421875, 14993.095703125, 41547.78515625, 25744.03125, 17585.57421875, 12899.404296875, 12052.0283203125, 8828.279296875, 7528.74560546875, 7297.0224609375, 6676.58984375, 5865.96435546875, 4491.8759765625, 4329.42041015625, 4291.5205078125, 3458.685791015625, 3406.243408203125, 3312.1513671875, 3272.14892578125, 3074.939697265625, 2645.8134765625, 2659.439453125, 2553.10546875, 2515.4736328125, 2446.6630859375, 2393.421142578125, 2177.15478515625, 2181.236572265625, 2143.805419921875, 2112.03857421875, 2033.3543701171875, 1950.280517578125, 47637.2890625, 35643.39453125, 15495.0908203125, 6200.3115234375, 4360.02197265625, 4888.060546875, 5239.853515625, 9921.2060546875, 6854.01318359375, 4196.03759765625, 33418.609375, 5754.23779296875, 7855.13720703125, 44329.74609375, 118626.8828125, 5447.1767578125, 6000.8427734375, 7005.564453125, 14093.3515625, 29067.25, 45857.97265625, 36485.859375, 12042.2109375, 36739.33984375, 19926.65625, 9250.6982421875, 12107.15234375, 14635.3779296875, 30618.873046875, 21052.5078125, 63468.140625, 34983.6015625, 19857.908203125, 11956.8017578125, 35604.85546875, 20588.064453125, 19542.33203125, 15078.462890625, 21279.365234375, 21657.427734375, 18708.814453125, 19229.34375, 18366.369140625, 15161.7568359375, 14691.44921875, 34558.34375, 13430.0068359375, 12562.3818359375, 12094.9501953125, 9418.5029296875, 9050.3583984375, 8610.0791015625, 8102.908203125, 7585.45849609375, 7487.3603515625, 7255.85791015625, 6970.16162109375, 6767.7568359375, 6626.03662109375, 6237.62060546875, 5307.02685546875, 5192.529296875, 4975.42626953125, 4501.453125, 4011.329345703125, 3853.88427734375, 3745.56201171875, 3445.44384765625, 3387.25048828125, 3235.38037109375, 3225.59375, 3205.65625, 3213.725830078125, 3116.568603515625, 3153.309326171875, 38934.734375, 11370.7724609375, 5998.12353515625, 4066.464111328125, 7238.22900390625, 13610.9072265625, 6133.17626953125, 6741.82275390625, 9383.201171875, 8794.37890625, 6996.27490234375, 6016.677734375, 10748.8642578125, 7954.9736328125, 8379.361328125, 35992.19921875, 11087.2236328125, 30934.80078125, 34840.6015625, 22296.25390625, 59474.93359375, 24684.1015625, 23176.646484375, 11038.111328125, 29647.51953125, 24359.10546875, 19705.1015625, 20490.333984375, 20886.38671875, 17552.849609375, 11583.0732421875, 14652.9970703125, 14697.474609375, 14257.4482421875, 18183.294921875, 15757.7646484375, 15959.8740234375, 13360.9111328125, 18306.705078125, 15328.7880859375, 13453.1171875, 13605.5234375, 13646.126953125, 13041.595703125], \"Term\": [\"protein\", \"cell\", \"sequence\", \"gene\", \"tumor\", \"antigen\", \"antibody\", \"patient\", \"brain\", \"neuron\", \"expression\", \"receptor\", \"infection\", \"virus\", \"research\", \"program\", \"cancer\", \"immune\", \"molecular\", \"clinical\", \"metabolism\", \"response\", \"mutant\", \"binding\", \"child\", \"structure\", \"enzyme\", \"human\", \"health\", \"clone\", \"sequence\", \"transcription\", \"mutation\", \"chromosome\", \"subunit\", \"mutagenesis\", \"polymerase\", \"transcriptional\", \"assembly\", \"genomic\", \"residue\", \"plasmid\", \"yeast\", \"actin\", \"recombination\", \"mrna\", \"transcript\", \"strand\", \"enhancer\", \"cdna\", \"eukaryotic\", \"filament\", \"translational\", \"conformation\", \"oligonucleotide\", \"oligosaccharide\", \"microtubule\", \"pertussis\", \"drosophila\", \"conformational\", \"mutant\", \"gene\", \"protein\", \"domain\", \"kinase\", \"promoter\", \"deletion\", \"phosphorylation\", \"binding\", \"molecular\", \"structure\", \"expression\", \"regulatory\", \"encode\", \"clone\", \"region\", \"genetic\", \"structural\", \"peptide\", \"molecule\", \"purify\", \"amino\", \"enzyme\", \"regulation\", \"probe\", \"receptor\", \"specific\", \"identify\", \"membrane\", \"complex\", \"function\", \"characterize\", \"study\", \"determine\", \"mechanism\", \"analysis\", \"cell\", \"interaction\", \"using\", \"system\", \"involve\", \"isolate\", \"activity\", \"oxygen\", \"glucose\", \"fatty\", \"radical\", \"sodium\", \"lipoprotein\", \"ischemia\", \"permeability\", \"arterial\", \"oxidation\", \"ischemic\", \"glutathione\", \"perfuse\", \"hypertrophy\", \"p-450\", \"angiotensin\", \"atherosclerosis\", \"hypertensive\", \"mineral\", \"reperfusion\", \"hypoxic\", \"folate\", \"renin\", \"edema\", \"surfactant\", \"myocardium\", \"enamel\", \"antioxidant\", \"redox\", \"metabolize\", \"cardiac\", \"absorption\", \"myocardial\", \"artery\", \"vascular\", \"cholesterol\", \"metabolite\", \"lipid\", \"metabolism\", \"diabetic\", \"oxidative\", \"hypertension\", \"compound\", \"calcium\", \"water\", \"energy\", \"renal\", \"hepatic\", \"metabolic\", \"pressure\", \"insulin\", \"heart\", \"smooth\", \"concentration\", \"blood\", \"transport\", \"muscle\", \"injury\", \"plasma\", \"measurement\", \"liver\", \"study\", \"increase\", \"effects\", \"membrane\", \"tissue\", \"determine\", \"mechanism\", \"change\", \"agent\", \"synthesis\", \"activity\", \"model\", \"enzyme\", \"propose\", \"using\", \"effect\", \"function\", \"technique\", \"level\", \"system\", \"result\", \"measure\", \"method\", \"examine\", \"child\", \"medical\", \"community\", \"university\", \"social\", \"facility\", \"resource\", \"hospital\", \"quality\", \"school\", \"services\", \"national\", \"interview\", \"science\", \"physician\", \"student\", \"statistical\", \"smoking\", \"institute\", \"education\", \"randomize\", \"scientist\", \"public\", \"oncology\", \"institution\", \"cohort\", \"department\", \"practice\", \"american\", \"adolescent\", \"woman\", \"health\", \"training\", \"elderly\", \"person\", \"outcome\", \"program\", \"center\", \"trial\", \"scientific\", \"intervention\", \"history\", \"clinical\", \"month\", \"patient\", \"research\", \"group\", \"cancer\", \"support\", \"years\", \"investigator\", \"sample\", \"treatment\", \"subject\", \"project\", \"study\", \"family\", \"provide\", \"population\", \"analysis\", \"include\", \"control\", \"develop\", \"design\", \"phase\", \"propose\", \"disease\", \"development\", \"information\", \"base\", \"model\", \"factor\", \"system\", \"antigen\", \"immune\", \"lymphocyte\", \"macrophage\", \"vaccine\", \"marrow\", \"cytokine\", \"hiv-1\", \"monocyte\", \"immunity\", \"autoimmune\", \"lymphokine\", \"interferon\", \"lymphoid\", \"helper\", \"immunization\", \"mammary\", \"hematopoietic\", \"autoantibody\", \"killing\", \"progenitor\", \"metastasis\", \"proliferative\", \"immunize\", \"leukemic\", \"mononuclear\", \"mitogen\", \"invasion\", \"autologous\", \"allograft\", \"tumor\", \"infection\", \"infect\", \"carcinoma\", \"immunologic\", \"lymphoma\", \"immunodeficiency\", \"proliferation\", \"leukemia\", \"virulence\", \"virus\", \"malignant\", \"murine\", \"antibody\", \"cell\", \"parasite\", \"inflammatory\", \"epitope\", \"monoclonal\", \"growth\", \"human\", \"disease\", \"strain\", \"response\", \"culture\", \"pathogenesis\", \"line\", \"viral\", \"factor\", \"induce\", \"study\", \"specific\", \"vitro\", \"differentiation\", \"determine\", \"tissue\", \"normal\", \"assay\", \"patient\", \"mechanism\", \"expression\", \"using\", \"model\", \"examine\", \"characterize\", \"neuron\", \"neuronal\", \"neural\", \"nerve\", \"synaptic\", \"motor\", \"opioid\", \"neurotransmitter\", \"auditory\", \"sensory\", \"dopamine\", \"cholinergic\", \"spinal\", \"cortex\", \"afferent\", \"opiate\", \"ganglion\", \"pituitary\", \"olfactory\", \"transmitter\", \"taste\", \"axon\", \"seizure\", \"morphine\", \"cochlear\", \"circadian\", \"hippocampal\", \"androgen\", \"reflex\", \"degeneration\", \"brain\", \"nervous\", \"recording\", \"electrophysiological\", \"speech\", \"cocaine\", \"sleep\", \"estrogen\", \"memory\", \"channels\", \"visual\", \"input\", \"stimulus\", \"antagonist\", \"agonist\", \"receptor\", \"behavioral\", \"effects\", \"system\", \"experiment\", \"study\", \"response\", \"change\", \"central\", \"determine\", \"mechanism\", \"examine\", \"function\", \"propose\", \"development\", \"hormone\", \"normal\", \"understanding\", \"whether\", \"specific\", \"control\", \"activity\", \"animal\", \"cell\", \"using\", \"information\", \"model\", \"provide\", \"level\"], \"Total\": [174705.0, 187350.0, 65418.0, 63789.0, 48854.0, 41548.0, 61398.0, 80985.0, 41755.0, 34559.0, 75027.0, 97692.0, 37108.0, 42251.0, 101486.0, 43310.0, 47094.0, 25744.0, 62784.0, 52961.0, 32587.0, 80139.0, 26954.0, 55802.0, 22418.0, 59973.0, 47044.0, 83830.0, 26964.0, 36559.0, 65418.58984375, 20405.455078125, 19885.0234375, 13375.951171875, 12814.4462890625, 9369.234375, 8773.4287109375, 8164.0732421875, 7648.92822265625, 7203.8525390625, 7110.708984375, 5874.92529296875, 5769.28076171875, 5665.4287109375, 5121.0458984375, 5097.5, 4533.53271484375, 4494.451171875, 4427.36865234375, 3736.656982421875, 3715.808349609375, 3595.57568359375, 3593.556640625, 3574.106689453125, 3408.684814453125, 3084.03955078125, 3020.40283203125, 3096.008056640625, 2747.255615234375, 2699.473876953125, 26954.326171875, 63789.35546875, 174705.625, 16199.5048828125, 19169.10546875, 12101.423828125, 6126.71142578125, 12600.5888671875, 55802.4921875, 62784.72265625, 59973.34765625, 75027.203125, 21396.8515625, 9267.689453125, 36559.95703125, 37600.62890625, 31278.77734375, 25895.453125, 36208.0703125, 30216.716796875, 23880.703125, 20009.28125, 47044.453125, 49763.234375, 25226.955078125, 97692.484375, 132045.578125, 74688.2265625, 56332.23828125, 33863.796875, 94842.109375, 59098.0625, 351103.625, 158309.515625, 116401.296875, 69115.03125, 187350.421875, 51155.171875, 93264.1328125, 110214.140625, 61316.1484375, 44216.23828125, 85279.890625, 11507.740234375, 11311.0966796875, 7685.791015625, 7398.9580078125, 6887.06201171875, 6495.80029296875, 6327.70361328125, 5036.65283203125, 4908.6650390625, 4628.96240234375, 4520.720703125, 3348.825439453125, 3233.24560546875, 3127.155517578125, 3048.876953125, 2982.4765625, 2984.354736328125, 2843.685791015625, 2829.92138671875, 2633.611083984375, 2623.197021484375, 2505.27099609375, 2334.160888671875, 2243.11083984375, 2212.711181640625, 2043.1636962890625, 1960.588623046875, 1906.5521240234375, 1870.8641357421875, 1781.5501708984375, 14233.640625, 4656.94580078125, 6794.86474609375, 6024.060546875, 13731.806640625, 6875.1904296875, 11695.109375, 18757.22265625, 32587.509765625, 5087.5830078125, 4146.0791015625, 8050.27587890625, 23568.201171875, 26095.115234375, 6598.96142578125, 11993.6806640625, 11506.7080078125, 6089.65576171875, 16926.5, 14310.689453125, 16603.9375, 12993.5986328125, 8212.615234375, 18938.1953125, 34548.0078125, 27478.869140625, 36783.29296875, 19003.49609375, 19166.591796875, 21345.896484375, 16477.708984375, 351103.625, 55237.25, 89016.5, 56332.23828125, 60635.28125, 158309.515625, 116401.296875, 74268.9609375, 37110.43359375, 39980.67578125, 85279.890625, 78664.2578125, 47044.453125, 100950.984375, 93264.1328125, 41102.87890625, 94842.109375, 53910.734375, 65694.921875, 110214.140625, 64078.17578125, 41541.546875, 50005.31640625, 75584.984375, 22418.2578125, 13692.2958984375, 10818.6044921875, 10123.2958984375, 9678.052734375, 8717.8603515625, 8020.99462890625, 7817.61962890625, 7317.7998046875, 6939.7451171875, 6868.5703125, 6579.9794921875, 5991.59130859375, 5765.50146484375, 5520.8037109375, 5515.2685546875, 5411.03369140625, 5288.916015625, 5262.38134765625, 5067.51318359375, 4480.8232421875, 4418.24267578125, 4388.2138671875, 4297.40478515625, 4175.20947265625, 4160.70947265625, 4127.3544921875, 4052.032470703125, 4087.703125, 3993.6943359375, 12156.3076171875, 26964.8515625, 10193.796875, 7116.42138671875, 5803.24169921875, 11602.6357421875, 43310.4375, 21054.71484375, 16004.35546875, 6247.66455078125, 18168.978515625, 8441.462890625, 52961.49609375, 11110.947265625, 80985.171875, 101486.8984375, 45252.1875, 47094.58984375, 24283.208984375, 19879.14453125, 16786.05078125, 14881.9033203125, 55083.046875, 25545.134765625, 81554.1328125, 351103.625, 22934.265625, 85329.640625, 27464.52734375, 69115.03125, 77038.234375, 77151.109375, 66783.9375, 41790.38671875, 29206.3984375, 100950.984375, 76601.796875, 71110.6796875, 51362.1875, 31707.3125, 78664.2578125, 79455.7734375, 110214.140625, 41548.6484375, 25744.89453125, 17586.4375, 12900.265625, 12052.8955078125, 8829.1416015625, 7529.60595703125, 7297.892578125, 6677.4482421875, 5866.8251953125, 4492.73876953125, 4330.27880859375, 4292.38232421875, 3459.548828125, 3407.10546875, 3313.017822265625, 3273.0166015625, 3075.800048828125, 2646.673583984375, 2660.309814453125, 2553.96484375, 2516.337158203125, 2447.532470703125, 2394.2822265625, 2178.017333984375, 2182.1025390625, 2144.66943359375, 2112.905517578125, 2034.2169189453125, 1951.1395263671875, 48854.99609375, 37108.62109375, 16041.650390625, 6312.75634765625, 4410.78369140625, 5008.87890625, 5381.12890625, 10565.8447265625, 7303.15380859375, 4352.8076171875, 42251.32421875, 6186.05126953125, 8738.3896484375, 61398.859375, 187350.421875, 5887.7783203125, 6613.1044921875, 7977.31396484375, 18678.64453125, 47124.51953125, 83830.8515625, 76601.796875, 17197.18359375, 80139.09375, 35554.18359375, 12121.802734375, 18294.66796875, 24667.986328125, 79455.7734375, 48795.90625, 351103.625, 132045.578125, 47604.03125, 19204.998046875, 158309.515625, 60635.28125, 55338.4140625, 32049.171875, 80985.171875, 116401.296875, 75027.203125, 93264.1328125, 78664.2578125, 75584.984375, 59098.0625, 34559.14453125, 13430.810546875, 12563.1884765625, 12095.755859375, 9419.3017578125, 9051.162109375, 8610.8828125, 8103.7109375, 7586.2578125, 7488.16357421875, 7256.66015625, 6970.96337890625, 6768.56103515625, 6626.83984375, 6238.42041015625, 5307.833984375, 5193.33251953125, 4976.2314453125, 4502.25341796875, 4012.128173828125, 3854.68701171875, 3746.360595703125, 3446.245849609375, 3388.0556640625, 3236.180908203125, 3226.395751953125, 3206.455078125, 3214.537841796875, 3117.369140625, 3154.120849609375, 41755.86328125, 11956.9140625, 6232.89404296875, 4124.4169921875, 7619.1015625, 15107.212890625, 6412.06494140625, 7254.349609375, 10668.859375, 10057.685546875, 7748.68115234375, 6528.05810546875, 13977.7861328125, 9689.80078125, 10619.029296875, 97692.484375, 16503.48046875, 89016.5, 110214.140625, 55192.56640625, 351103.625, 80139.09375, 74268.9609375, 18727.015625, 158309.515625, 116401.296875, 75584.984375, 94842.109375, 100950.984375, 71110.6796875, 24403.70703125, 55338.4140625, 56923.859375, 52160.609375, 132045.578125, 77151.109375, 85279.890625, 43093.80859375, 187350.421875, 93264.1328125, 51362.1875, 78664.2578125, 85329.640625, 65694.921875], \"loglift\": [30.0, 29.0, 28.0, 27.0, 26.0, 25.0, 24.0, 23.0, 22.0, 21.0, 20.0, 19.0, 18.0, 17.0, 16.0, 15.0, 14.0, 13.0, 12.0, 11.0, 10.0, 9.0, 8.0, 7.0, 6.0, 5.0, 4.0, 3.0, 2.0, 1.0, 1.436400055885315, 1.436400055885315, 1.436400055885315, 1.436400055885315, 1.436400055885315, 1.436400055885315, 1.436400055885315, 1.4363000392913818, 1.4363000392913818, 1.4363000392913818, 1.4363000392913818, 1.4363000392913818, 1.4363000392913818, 1.4363000392913818, 1.4363000392913818, 1.4363000392913818, 1.4363000392913818, 1.4363000392913818, 1.4363000392913818, 1.4362000226974487, 1.4362000226974487, 1.4362000226974487, 1.4362000226974487, 1.4362000226974487, 1.4362000226974487, 1.4362000226974487, 1.4362000226974487, 1.4362000226974487, 1.4362000226974487, 1.4361000061035156, 1.430799961090088, 1.4180999994277954, 1.3490999937057495, 1.3841999769210815, 1.3739999532699585, 1.382599949836731, 1.4114999771118164, 1.350100040435791, 1.2071000337600708, 1.1848000288009644, 1.1699999570846558, 1.124500036239624, 1.2542999982833862, 1.3495999574661255, 1.1449999809265137, 1.1253000497817993, 1.1477999687194824, 1.1618000268936157, 1.0815000534057617, 1.1089999675750732, 1.1495000123977661, 1.1761000156402588, 0.9480999708175659, 0.923799991607666, 1.107200026512146, 0.683899998664856, 0.5236999988555908, 0.7142999768257141, 0.7663000226020813, 0.9588000178337097, 0.5015000104904175, 0.704200029373169, -0.15600000321865082, 0.11909999698400497, 0.23739999532699585, 0.5182999968528748, -0.12770000100135803, 0.6953999996185303, 0.23469999432563782, 0.08169999718666077, 0.5393000245094299, 0.7728000283241272, 0.14180000126361847, 1.5435999631881714, 1.5435999631881714, 1.5435999631881714, 1.5435999631881714, 1.5434999465942383, 1.5434999465942383, 1.5434999465942383, 1.5434999465942383, 1.5434999465942383, 1.5434999465942383, 1.5434999465942383, 1.5434000492095947, 1.5434000492095947, 1.5434000492095947, 1.5434000492095947, 1.5434000492095947, 1.5434000492095947, 1.5434000492095947, 1.5434000492095947, 1.5434000492095947, 1.5434000492095947, 1.5434000492095947, 1.5433000326156616, 1.5433000326156616, 1.5433000326156616, 1.5433000326156616, 1.5433000326156616, 1.5433000326156616, 1.5433000326156616, 1.5432000160217285, 1.5355000495910645, 1.537500023841858, 1.5334999561309814, 1.527899980545044, 1.5096999406814575, 1.5216000080108643, 1.4974000453948975, 1.4831000566482544, 1.4569000005722046, 1.5190999507904053, 1.5262999534606934, 1.4930000305175781, 1.4362000226974487, 1.4239000082015991, 1.4966000318527222, 1.4593000411987305, 1.4580999612808228, 1.5003999471664429, 1.4178999662399292, 1.4194999933242798, 1.3976000547409058, 1.40910005569458, 1.4579999446868896, 1.2935999631881714, 1.17330002784729, 1.2136000394821167, 1.094099998474121, 1.2213000059127808, 1.1996999979019165, 1.1576000452041626, 1.2339999675750732, 0.08799999952316284, 0.7120000123977661, 0.4828999936580658, 0.6621000170707703, 0.6169000267982483, 0.18719999492168427, 0.3154999911785126, 0.5138000249862671, 0.814300000667572, 0.7390000224113464, 0.24089999496936798, 0.26820001006126404, 0.5670999884605408, 0.011099999770522118, 0.04190000146627426, 0.6251000165939331, -0.015599999576807022, 0.41440001130104065, 0.23520000278949738, -0.22509999573230743, 0.22089999914169312, 0.5867999792098999, 0.39410001039505005, -0.009200000204145908, 1.6299999952316284, 1.6298999786376953, 1.6298999786376953, 1.6298999786376953, 1.6298999786376953, 1.6298999786376953, 1.6298999786376953, 1.6298999786376953, 1.6298999786376953, 1.6298999786376953, 1.6298999786376953, 1.6298999786376953, 1.6298999786376953, 1.6297999620437622, 1.6297999620437622, 1.6297999620437622, 1.6297999620437622, 1.6297999620437622, 1.6297999620437622, 1.6297999620437622, 1.6297999620437622, 1.6297999620437622, 1.6297999620437622, 1.6297999620437622, 1.6297999620437622, 1.6297999620437622, 1.6297999620437622, 1.6297999620437622, 1.6297999620437622, 1.6297999620437622, 1.5994000434875488, 1.5484999418258667, 1.5924999713897705, 1.600000023841858, 1.6103999614715576, 1.5670000314712524, 1.472499966621399, 1.5153000354766846, 1.5291999578475952, 1.5999000072479248, 1.4783999919891357, 1.5622999668121338, 1.3169000148773193, 1.523300051689148, 1.2079999446868896, 1.1619999408721924, 1.2732000350952148, 1.257099986076355, 1.3617000579833984, 1.3935999870300293, 1.4265999794006348, 1.4266999959945679, 1.080399990081787, 1.201799988746643, 0.8068000078201294, 0.08429999649524689, 1.1708999872207642, 0.5907999873161316, 1.0618000030517578, 0.597599983215332, 0.5313000082969666, 0.4796000123023987, 0.5473999977111816, 0.7713000178337097, 0.9599000215530396, 0.08950000256299973, 0.2574000060558319, 0.25110000371932983, 0.439300000667572, 0.8712000250816345, 0.02290000021457672, -0.018400000408291817, -0.36480000615119934, 1.6705000400543213, 1.6705000400543213, 1.6705000400543213, 1.6705000400543213, 1.6705000400543213, 1.6705000400543213, 1.6704000234603882, 1.6704000234603882, 1.6704000234603882, 1.6704000234603882, 1.6704000234603882, 1.6704000234603882, 1.6704000234603882, 1.670300006866455, 1.670300006866455, 1.670300006866455, 1.670300006866455, 1.670300006866455, 1.670199990272522, 1.670199990272522, 1.670199990272522, 1.670199990272522, 1.670199990272522, 1.670199990272522, 1.670199990272522, 1.670199990272522, 1.670199990272522, 1.670199990272522, 1.6700999736785889, 1.6700999736785889, 1.645300030708313, 1.6303000450134277, 1.6359000205993652, 1.6526000499725342, 1.659000039100647, 1.6461000442504883, 1.6440000534057617, 1.6075999736785889, 1.607100009918213, 1.6339000463485718, 1.4359999895095825, 1.5981999635696411, 1.5640000104904175, 1.3447999954223633, 1.2136000394821167, 1.5928000211715698, 1.5734000205993652, 1.5406999588012695, 1.3889000415802002, 1.187399983406067, 1.0672999620437622, 0.9289000034332275, 1.3142000436782837, 0.8906000256538391, 1.091599941253662, 1.4003000259399414, 1.2577999830245972, 1.1484999656677246, 0.7170000076293945, 0.8299000263214111, -0.03999999910593033, 0.3422999978065491, 0.7961999773979187, 1.1966999769210815, 0.1784999966621399, 0.590399980545044, 0.6297000050544739, 0.9165999889373779, 0.33399999141693115, -0.011099999770522118, 0.2816999852657318, 0.09160000085830688, 0.2159000039100647, 0.0640999972820282, 0.2786000072956085, 1.8044999837875366, 1.8043999671936035, 1.8043999671936035, 1.8043999671936035, 1.8043999671936035, 1.8043999671936035, 1.8043999671936035, 1.8043999671936035, 1.8043999671936035, 1.8043999671936035, 1.8043999671936035, 1.8043999671936035, 1.8043999671936035, 1.8043999671936035, 1.8043999671936035, 1.8042999505996704, 1.8042999505996704, 1.8042999505996704, 1.8042999505996704, 1.8042999505996704, 1.8042999505996704, 1.8042999505996704, 1.8042999505996704, 1.8042999505996704, 1.8042000532150269, 1.8042000532150269, 1.8042000532150269, 1.8042000532150269, 1.8042000532150269, 1.8042000532150269, 1.7345000505447388, 1.7541999816894531, 1.7661000490188599, 1.7903000116348267, 1.7532000541687012, 1.7001999616622925, 1.7599999904632568, 1.7311999797821045, 1.6761000156402588, 1.670300006866455, 1.702299952507019, 1.7229000329971313, 1.5418000221252441, 1.607200026512146, 1.5676000118255615, 0.8059999942779541, 1.4067000150680542, 0.7476000189781189, 0.6528000235557556, 0.8981000185012817, 0.028999999165534973, 0.6269000172615051, 0.6399000287055969, 1.2759000062942505, 0.12929999828338623, 0.24040000140666962, 0.460099995136261, 0.27219998836517334, 0.2290000021457672, 0.40549999475479126, 1.0592999458312988, 0.4756999909877777, 0.4505000114440918, 0.5073999762535095, -0.17820000648498535, 0.21610000729560852, 0.12860000133514404, 0.633400022983551, -0.5212000012397766, -0.0012000000569969416, 0.46480000019073486, 0.049800001084804535, -0.028599999845027924, 0.1876000016927719], \"logprob\": [30.0, 29.0, 28.0, 27.0, 26.0, 25.0, 24.0, 23.0, 22.0, 21.0, 20.0, 19.0, 18.0, 17.0, 16.0, 15.0, 14.0, 13.0, 12.0, 11.0, 10.0, 9.0, 8.0, 7.0, 6.0, 5.0, 4.0, 3.0, 2.0, 1.0, -4.486599922180176, -5.651700019836426, -5.677499771118164, -6.073999881744385, -6.1168999671936035, -6.430099964141846, -6.495800018310547, -6.567800045013428, -6.632999897003174, -6.69290018081665, -6.705900192260742, -6.896900177001953, -6.914999961853027, -6.933199882507324, -7.034200191497803, -7.03879976272583, -7.156099796295166, -7.16480016708374, -7.179800033569336, -7.3495001792907715, -7.355100154876709, -7.388000011444092, -7.388500213623047, -7.393899917602539, -7.441299915313721, -7.541500091552734, -7.562300205230713, -7.537600040435791, -7.657100200653076, -7.674699783325195, -5.379000186920166, -4.530200004577637, -3.591599941253662, -5.934700012207031, -5.776599884033203, -6.228000164031982, -6.879700183868408, -6.21999979019165, -4.875, -4.779300212860107, -4.839900016784668, -4.661499977111816, -5.786300182342529, -6.5278000831604, -5.359899997711182, -5.351500034332275, -5.513199806213379, -5.688000202178955, -5.43310022354126, -5.586400032043457, -5.781300067901611, -5.931600093841553, -5.304599761962891, -5.272799968719482, -5.768799781799316, -4.838099956512451, -4.697000026702881, -5.076300144195557, -5.306399822235107, -5.622700214385986, -5.05019998550415, -5.320499897003174, -4.398799896240234, -4.920199871063232, -5.109499931335449, -5.349899768829346, -4.998600006103516, -5.473599910736084, -5.333700180053711, -5.319799900054932, -5.448500156402588, -5.541999816894531, -5.516200065612793, -6.117300033569336, -6.134500026702881, -6.520999908447266, -6.559000015258789, -6.63070011138916, -6.689199924468994, -6.715400218963623, -6.943600177764893, -6.969399929046631, -7.02810001373291, -7.051700115203857, -7.351799964904785, -7.38700008392334, -7.420300006866455, -7.445700168609619, -7.467700004577637, -7.467100143432617, -7.515399932861328, -7.520199775695801, -7.592199802398682, -7.596099853515625, -7.642099857330322, -7.712900161743164, -7.752699851989746, -7.766300201416016, -7.846099853515625, -7.887400150299072, -7.915299892425537, -7.934199810028076, -7.9832000732421875, -5.912700176239014, -7.0279998779296875, -6.654200077056885, -6.780200004577637, -5.9745001792907715, -6.654399871826172, -6.147299766540527, -5.689199924468994, -5.163099765777588, -6.958000183105469, -7.155399799346924, -6.525100231170654, -5.507800102233887, -5.418300151824951, -6.720300197601318, -6.160200119018555, -6.202899932861328, -6.796899795532227, -5.857100009918213, -6.023399829864502, -5.896599769592285, -6.130300045013428, -6.540200233459473, -5.869100093841553, -5.388199806213379, -5.576900005340576, -5.404699802398682, -5.937900066375732, -5.951000213623047, -5.88539981842041, -6.06790018081665, -4.154799938201904, -5.380300045013428, -5.1321001052856445, -5.4105000495910645, -5.3821001052856445, -4.852099895477295, -5.031400203704834, -5.282400131225586, -5.6757001876831055, -5.676499843597412, -5.417099952697754, -5.4704999923706055, -5.685699939727783, -5.478099822998047, -5.526500225067139, -5.762700080871582, -5.567200183868408, -5.702199935913086, -5.683700084686279, -5.6265997886657715, -5.722899913787842, -5.79040002822876, -5.797599792480469, -5.787799835205078, -5.364099979400635, -5.857100009918213, -6.092700004577637, -6.15910005569458, -6.204100131988525, -6.308599948883057, -6.391900062561035, -6.417600154876709, -6.483699798583984, -6.5366997718811035, -6.547100067138672, -6.590000152587891, -6.683700084686279, -6.722099781036377, -6.765500068664551, -6.766499996185303, -6.785600185394287, -6.8084001541137695, -6.813499927520752, -6.851200103759766, -6.974299907684326, -6.98829984664917, -6.995200157165527, -7.01609992980957, -7.044899940490723, -7.048399925231934, -7.05649995803833, -7.074900150299072, -7.066100120544434, -7.089399814605713, -6.0065999031066895, -5.260799884796143, -6.189599990844727, -6.541399955749512, -6.735099792480469, -6.085599899291992, -4.86299991607666, -5.541500091552734, -5.8018999099731445, -6.671800136566162, -5.725800037384033, -6.4085001945495605, -4.817399978637695, -6.172699928283691, -4.5015997886657715, -4.321899890899658, -5.018499851226807, -4.994699954986572, -5.5524001121521, -5.720699787139893, -5.8566999435424805, -5.977099895477295, -5.014599800109863, -5.6616997718811035, -4.8958001136779785, -4.1585001945495605, -5.8003997802734375, -5.066500186920166, -5.7291998863220215, -5.270599842071533, -5.228300094604492, -5.278500080108643, -5.355000019073486, -5.599899768829346, -5.769599914550781, -5.399700164794922, -5.507800102233887, -5.588500022888184, -5.7256999015808105, -5.776199817657471, -5.715700149536133, -5.747000217437744, -5.766300201416016, -4.706500053405762, -5.185100078582764, -5.566199779510498, -5.876100063323975, -5.9440999031066895, -6.25540018081665, -6.414599895477295, -6.445899963378906, -6.5346999168396, -6.6641998291015625, -6.931000232696533, -6.967899799346924, -6.9766998291015625, -7.192399978637695, -7.207699775695801, -7.2357001304626465, -7.247900009155273, -7.309999942779541, -7.460299968719482, -7.4552001953125, -7.495999813079834, -7.510900020599365, -7.538599967956543, -7.5605998039245605, -7.655300140380859, -7.65339994430542, -7.6707000732421875, -7.685699939727783, -7.723599910736084, -7.7652997970581055, -4.569699764251709, -4.859799861907959, -5.692800045013428, -6.608699798583984, -6.9608001708984375, -6.846499919891357, -6.7769999504089355, -6.138599872589111, -6.508500099182129, -6.999199867248535, -4.924200057983398, -6.6834001541137695, -6.372200012207031, -4.64169979095459, -3.6572999954223633, -6.7382001876831055, -6.64139986038208, -6.486599922180176, -5.787600040435791, -5.063700199127197, -4.607800006866455, -4.836400032043457, -5.944900035858154, -4.829500198364258, -5.441299915313721, -6.208600044250488, -5.939499855041504, -5.749899864196777, -5.01170015335083, -5.386300086975098, -4.282800197601318, -4.878399848937988, -5.444699764251709, -5.952000141143799, -4.860799789428711, -5.408599853515625, -5.460700035095215, -5.720099925994873, -5.3755998611450195, -5.357999801635742, -5.504300117492676, -5.476900100708008, -5.522799968719482, -5.7144999504089355, -5.746099948883057, -4.756700038909912, -5.701900005340576, -5.768700122833252, -5.806600093841553, -6.056700229644775, -6.09660005569458, -6.146500110626221, -6.207200050354004, -6.273200035095215, -6.286200046539307, -6.317599773406982, -6.357800006866455, -6.387199878692627, -6.408400058746338, -6.468800067901611, -6.63040018081665, -6.652200222015381, -6.694900035858154, -6.795000076293945, -6.910299777984619, -6.950300216674805, -6.978799819946289, -7.062300205230713, -7.079400062561035, -7.125199794769287, -7.128300189971924, -7.134500026702881, -7.131999969482422, -7.162700176239014, -7.150899887084961, -4.637499809265137, -5.868299961090088, -6.507900238037109, -6.896599769592285, -6.320000171661377, -5.688499927520752, -6.4857001304626465, -6.39109992980957, -6.060500144958496, -6.12529993057251, -6.354000091552734, -6.504899978637695, -5.924600124359131, -6.225599765777588, -6.173600196838379, -4.716100215911865, -5.893599987030029, -4.867499828338623, -4.748600006103516, -5.195000171661377, -4.213799953460693, -5.093200206756592, -5.156199932098389, -5.8979997634887695, -4.909999847412109, -5.106500148773193, -5.31850004196167, -5.279399871826172, -5.260300159454346, -5.434199810028076, -5.849800109863281, -5.614699840545654, -5.611700057983398, -5.642099857330322, -5.398900032043457, -5.542099952697754, -5.529300212860107, -5.707099914550781, -5.392099857330322, -5.569699764251709, -5.700200080871582, -5.688899993896484, -5.6859002113342285, -5.731200218200684]}, \"token.table\": {\"Topic\": [2, 4, 1, 1, 2, 3, 4, 5, 3, 5, 1, 2, 3, 4, 5, 2, 5, 4, 3, 1, 2, 5, 1, 2, 3, 4, 5, 5, 2, 1, 2, 3, 4, 5, 2, 5, 1, 4, 4, 2, 2, 2, 3, 1, 2, 3, 4, 5, 1, 2, 5, 4, 4, 4, 5, 1, 2, 3, 4, 5, 3, 5, 1, 2, 4, 5, 2, 3, 4, 5, 2, 3, 5, 1, 2, 5, 1, 3, 4, 3, 4, 2, 3, 1, 1, 2, 4, 5, 1, 2, 3, 5, 1, 2, 3, 4, 5, 1, 2, 3, 4, 5, 2, 5, 1, 2, 3, 4, 5, 3, 2, 3, 5, 1, 5, 2, 3, 4, 5, 1, 4, 3, 5, 5, 3, 3, 1, 2, 3, 4, 5, 1, 2, 4, 5, 1, 2, 4, 5, 1, 1, 1, 2, 3, 4, 5, 5, 1, 2, 4, 5, 4, 5, 1, 4, 3, 1, 2, 3, 4, 5, 1, 2, 3, 4, 5, 1, 2, 3, 4, 5, 1, 2, 3, 4, 5, 2, 3, 1, 4, 5, 1, 2, 3, 4, 5, 1, 3, 5, 1, 2, 3, 1, 2, 3, 4, 5, 1, 2, 3, 4, 5, 2, 3, 5, 2, 5, 2, 1, 4, 5, 1, 2, 1, 1, 2, 4, 1, 4, 3, 4, 5, 1, 1, 2, 3, 4, 5, 1, 2, 3, 4, 5, 1, 4, 5, 3, 1, 2, 3, 4, 5, 1, 3, 4, 2, 1, 2, 1, 2, 3, 4, 5, 5, 1, 4, 1, 3, 4, 5, 1, 2, 2, 1, 2, 3, 4, 5, 1, 2, 3, 4, 5, 1, 2, 3, 4, 5, 2, 3, 5, 4, 4, 2, 4, 5, 3, 4, 5, 4, 1, 2, 4, 5, 3, 1, 2, 3, 4, 5, 2, 3, 2, 2, 2, 1, 2, 3, 4, 5, 4, 4, 4, 4, 3, 4, 3, 4, 1, 2, 3, 4, 5, 1, 2, 3, 4, 5, 1, 2, 4, 5, 1, 4, 3, 4, 2, 4, 1, 2, 3, 4, 5, 2, 3, 4, 5, 3, 5, 3, 3, 1, 2, 1, 2, 3, 4, 5, 4, 2, 3, 4, 5, 3, 4, 1, 2, 3, 4, 5, 1, 2, 3, 4, 5, 2, 2, 1, 2, 4, 5, 4, 1, 2, 3, 4, 4, 1, 2, 3, 4, 5, 1, 3, 4, 5, 1, 2, 2, 1, 2, 4, 4, 4, 4, 3, 4, 4, 1, 3, 4, 4, 4, 1, 2, 3, 4, 5, 1, 2, 3, 4, 5, 1, 2, 3, 4, 5, 3, 1, 2, 4, 5, 3, 4, 5, 1, 2, 4, 5, 1, 2, 5, 2, 5, 2, 4, 1, 2, 3, 4, 5, 1, 2, 4, 1, 2, 3, 4, 5, 1, 2, 3, 4, 5, 1, 2, 4, 1, 4, 4, 4, 2, 3, 4, 5, 5, 5, 1, 1, 4, 1, 2, 5, 1, 1, 4, 1, 2, 3, 2, 3, 5, 2, 4, 5, 5, 5, 5, 5, 1, 2, 3, 4, 5, 5, 1, 1, 3, 5, 5, 2, 3, 4, 5, 2, 2, 4, 2, 2, 1, 4, 2, 3, 4, 5, 2, 3, 4, 5, 1, 2, 4, 5, 2, 2, 3, 4, 1, 1, 2, 3, 4, 5, 1, 2, 3, 5, 1, 2, 4, 5, 1, 1, 1, 2, 3, 4, 5, 3, 2, 3, 5, 1, 2, 4, 5, 4, 1, 2, 3, 4, 5, 1, 2, 3, 4, 5, 1, 4, 4, 1, 4, 1, 2, 3, 4, 5, 1, 2, 4, 1, 2, 3, 4, 5, 3, 1, 2, 4, 3, 2, 3, 1, 2, 4, 5, 1, 2, 3, 5, 2, 5, 1, 2, 3, 4, 5, 1, 2, 4, 5, 1, 2, 4, 5, 2, 4, 2, 2, 1, 2, 3, 4, 5, 1, 3, 1, 2, 3, 4, 5, 1, 2, 3, 4, 5, 1, 2, 3, 4, 5, 3, 3, 2, 3, 3, 5, 5, 1, 3, 3, 5, 3, 1, 2, 5, 3, 2, 1, 2, 3, 4, 5, 3, 5, 5, 3, 2, 4, 5, 1, 2, 3, 4, 5, 1, 1, 2, 3, 5, 1, 2, 3, 5, 3, 1, 2, 3, 4, 5, 1, 2, 3, 4, 5, 1, 1, 2, 3, 4, 5, 2, 5, 1, 2, 4, 5, 1, 2, 3, 4, 5, 5, 1, 2, 3, 4, 5, 1, 2, 4, 5, 2, 3, 5, 1, 1, 1, 1, 5, 1, 2, 5, 1, 2, 3, 4, 5, 3, 4, 3, 4, 1, 2, 3, 4, 5, 3, 1, 2, 3, 4, 5, 4, 2, 4, 1, 4, 1, 4, 1, 4, 3, 5, 1, 2, 4, 5, 2, 5, 1, 2, 3, 4, 5, 3, 5, 1, 2, 3, 4, 5, 1], \"Freq\": [0.9937843680381775, 0.006012524478137493, 0.9999243021011353, 0.2739919126033783, 0.27177566289901733, 0.09603670984506607, 0.17104853689670563, 0.18714845180511475, 0.9998261332511902, 0.999932587146759, 0.03271317109465599, 0.4822094142436981, 0.022500410676002502, 0.39218080043792725, 0.07041146606206894, 0.2108478993177414, 0.7890551686286926, 0.9994159936904907, 0.9998279809951782, 0.7707923054695129, 0.16297437250614166, 0.06626924872398376, 0.39923298358917236, 0.0464877150952816, 0.3561309278011322, 0.11048247665166855, 0.08766544610261917, 0.9998326897621155, 0.9998401999473572, 0.03246406093239784, 0.26785749197006226, 0.1086466982960701, 0.28099164366722107, 0.310044527053833, 0.17895105481147766, 0.8209663033485413, 0.2779856324195862, 0.7220003604888916, 0.9999843835830688, 0.9997103810310364, 0.9998645186424255, 0.9843858480453491, 0.015604092739522457, 0.3899320662021637, 0.09719439595937729, 0.0053667533211410046, 0.4704645872116089, 0.03703683987259865, 0.9998786449432373, 0.9998811483383179, 0.9998341798782349, 0.9997454881668091, 0.9998355507850647, 0.9994017481803894, 0.9999037384986877, 0.17579540610313416, 0.1736508011817932, 0.468220055103302, 0.10764078795909882, 0.07471462339162827, 0.3281731903553009, 0.6717976927757263, 0.7950182557106018, 0.08062364161014557, 0.05885041877627373, 0.06548094749450684, 0.6905173659324646, 0.10371075570583344, 0.18620465695858002, 0.01956697553396225, 0.05625557154417038, 0.011303802020847797, 0.9324439167976379, 0.05775027349591255, 0.8871392011642456, 0.05514442175626755, 0.023144908249378204, 0.6887202858924866, 0.2881222665309906, 0.01774185337126255, 0.9821383357048035, 0.9919458031654358, 0.008009194396436214, 0.9998241662979126, 0.20927093923091888, 0.05982906371355057, 0.6331824660301208, 0.09771528840065002, 0.03785375505685806, 0.04212833195924759, 0.8916292786598206, 0.028402188792824745, 0.11454040557146072, 0.06071442738175392, 0.14599229395389557, 0.08933617919683456, 0.5894158482551575, 0.1323029100894928, 0.35705360770225525, 0.13931795954704285, 0.059271059930324554, 0.31206846237182617, 0.12557561695575714, 0.874356210231781, 0.4808448553085327, 0.12502947449684143, 0.010474116541445255, 0.24858683347702026, 0.13506364822387695, 0.9999439120292664, 0.978154718875885, 0.021817578002810478, 0.9998617768287659, 0.999928891658783, 0.9998773336410522, 0.074469193816185, 0.7311726808547974, 0.15822815895080566, 0.03612058237195015, 0.747183620929718, 0.2528175711631775, 0.09902554750442505, 0.900960385799408, 0.9996351003646851, 0.9998294711112976, 0.9999441504478455, 0.6202493906021118, 0.11788400262594223, 0.027167657390236855, 0.10125858336687088, 0.1334463506937027, 0.01260172575712204, 0.8981168866157532, 0.02596719190478325, 0.06330563873052597, 0.037120748311281204, 0.7787436842918396, 0.058611709624528885, 0.12556634843349457, 0.9996903538703918, 0.9998244643211365, 0.24926407635211945, 0.14988766610622406, 0.3165087401866913, 0.08010254055261612, 0.20424851775169373, 0.9998732805252075, 0.14493371546268463, 0.15936240553855896, 0.5604684948921204, 0.13523021340370178, 0.9999195337295532, 0.9996446371078491, 0.9754009246826172, 0.024482954293489456, 0.9999141097068787, 0.1620229035615921, 0.2187345176935196, 0.423709899187088, 0.08444526046514511, 0.111078180372715, 0.2678550183773041, 0.25758400559425354, 0.062384121119976044, 0.2249075174331665, 0.18727870285511017, 0.15271636843681335, 0.23110347986221313, 0.33873414993286133, 0.2068161964416504, 0.07064572721719742, 0.18301048874855042, 0.11671945452690125, 0.25186091661453247, 0.20155903697013855, 0.24684056639671326, 0.9757089018821716, 0.02417651005089283, 0.33100757002830505, 0.6225983500480652, 0.04639417305588722, 0.05636943504214287, 0.12070213258266449, 0.2534535825252533, 0.47630736231803894, 0.09317013621330261, 0.949103057384491, 0.05086575075984001, 0.9999090433120728, 0.9995429515838623, 0.999504804611206, 0.9998987317085266, 0.11741270124912262, 0.39909613132476807, 0.08950711041688919, 0.21789227426052094, 0.17607039213180542, 0.061482984572649, 0.34619423747062683, 0.10459858924150467, 0.1401987224817276, 0.3475198447704315, 0.006885483395308256, 0.9704315662384033, 0.022623730823397636, 0.013820135034620762, 0.9858363270759583, 0.9996997714042664, 0.9168412685394287, 0.044995032250881195, 0.03819722309708595, 0.080875925719738, 0.9190673232078552, 0.9999167323112488, 0.6136748790740967, 0.3766224980354309, 0.009714215993881226, 0.12172016501426697, 0.8782404661178589, 0.03377284109592438, 0.03680550307035446, 0.9293734431266785, 0.9997824430465698, 0.20715755224227905, 0.21165579557418823, 0.1199047714471817, 0.20059539377689362, 0.26069992780685425, 0.27313461899757385, 0.18460819125175476, 0.008551876060664654, 0.12972761690616608, 0.4039674401283264, 0.7320144772529602, 0.24936288595199585, 0.01861991360783577, 0.999901294708252, 0.25565165281295776, 0.10296294093132019, 0.1923585832118988, 0.3853590190410614, 0.06365805864334106, 0.3585464656352997, 0.6318492889404297, 0.009592633694410324, 0.9998970627784729, 0.9998399019241333, 0.9998918175697327, 0.3925893306732178, 0.2102968841791153, 0.03485793247818947, 0.14620088040828705, 0.21604327857494354, 0.9999359846115112, 0.9818565845489502, 0.018137821927666664, 0.7492620348930359, 0.13747340440750122, 0.10604634135961533, 0.00722534628584981, 0.9998816847801208, 0.9999030232429504, 0.9997535347938538, 0.10456953197717667, 0.11743078380823135, 0.6998998522758484, 0.03166697919368744, 0.04640659689903259, 0.18391700088977814, 0.030345136299729347, 0.022833123803138733, 0.6168126463890076, 0.14608106017112732, 0.02696102298796177, 0.03367346525192261, 0.9217925667762756, 0.0031151664443314075, 0.014463272877037525, 0.8741227388381958, 0.09712474793195724, 0.028706442564725876, 0.9996755123138428, 0.9997398853302002, 0.9576895833015442, 0.04220271483063698, 0.9998580813407898, 0.9345536828041077, 0.05164981633424759, 0.013860156759619713, 0.9998776912689209, 0.22418725490570068, 0.2821292579174042, 0.019013505429029465, 0.47464099526405334, 0.9999207258224487, 0.22662301361560822, 0.09516783058643341, 0.033388663083314896, 0.5470300912857056, 0.09779215604066849, 0.9506506323814392, 0.04931508004665375, 0.9997588396072388, 0.9996305108070374, 0.9995436668395996, 0.48569902777671814, 0.04655352234840393, 0.13226984441280365, 0.19328346848487854, 0.142191082239151, 0.999965250492096, 0.9998593330383301, 0.9996927976608276, 0.9994644522666931, 0.02620268054306507, 0.9737733602523804, 0.011335854418575764, 0.9884864687919617, 0.202834352850914, 0.19048982858657837, 0.33331501483917236, 0.1572336107492447, 0.11612415313720703, 0.05807675048708916, 0.43530407547950745, 0.18970893323421478, 0.166119784116745, 0.15076781809329987, 0.10734506696462631, 0.3004760146141052, 0.43145012855529785, 0.16075119376182556, 0.03403639793395996, 0.9659230709075928, 0.03947869688272476, 0.9605045914649963, 0.09254352748394012, 0.9074406623840332, 0.22084340453147888, 0.13615074753761292, 0.30401742458343506, 0.07706058025360107, 0.26192420721054077, 0.724445641040802, 0.03457258641719818, 0.07293394953012466, 0.1680743396282196, 0.07827749103307724, 0.9217135906219482, 0.9999275207519531, 0.9997103214263916, 0.13581116497516632, 0.8641324043273926, 0.47662824392318726, 0.1333003044128418, 0.06171419098973274, 0.1685069054365158, 0.15984699130058289, 0.9999109506607056, 0.09174979478120804, 0.8593218326568604, 0.03698612004518509, 0.011943434365093708, 0.999901294708252, 0.9995714426040649, 0.014178439043462276, 0.058381807059049606, 0.8159751296043396, 0.09233857691287994, 0.019182594493031502, 0.40772292017936707, 0.15638621151447296, 0.10695388168096542, 0.15630465745925903, 0.17262989282608032, 0.9998887777328491, 0.9998405575752258, 0.5149691700935364, 0.23498155176639557, 0.21252372860908508, 0.0375201515853405, 0.9995076656341553, 0.9394804835319519, 0.06051404029130936, 0.06134336069226265, 0.9384986758232117, 0.99953293800354, 0.2407035380601883, 0.27023398876190186, 0.1305275857448578, 0.1600123643875122, 0.19852371513843536, 0.28669556975364685, 0.01049486082047224, 0.6617774963378906, 0.04099555313587189, 0.05869738757610321, 0.9412907361984253, 0.9998767971992493, 0.12331811338663101, 0.7337185144424438, 0.14298103749752045, 0.9999751448631287, 0.9998413324356079, 0.9997046589851379, 0.02395745739340782, 0.9758670926094055, 0.9999018907546997, 0.026996219530701637, 0.0426766574382782, 0.9301571846008301, 0.9996894001960754, 0.9998707175254822, 0.028092358261346817, 0.3840973973274231, 0.31881335377693176, 0.04913153499364853, 0.21985219419002533, 0.016490288078784943, 0.6797090768814087, 0.1761462688446045, 0.013773138634860516, 0.11383920907974243, 0.3014657199382782, 0.2928231954574585, 0.010386481881141663, 0.18605463206768036, 0.20926742255687714, 0.9999053478240967, 0.5116075873374939, 0.41415005922317505, 0.027870364487171173, 0.046367764472961426, 0.08323288708925247, 0.0372111015021801, 0.879475474357605, 0.056420404464006424, 0.8818716406822205, 0.0057897381484508514, 0.055888693779706955, 0.07220558077096939, 0.9168850183486938, 0.0108937444165349, 0.9548435807228088, 0.04514707624912262, 0.9996911883354187, 0.9994686245918274, 0.21089757978916168, 0.3167863190174103, 0.26961132884025574, 0.07967153191566467, 0.12302692234516144, 0.9998666048049927, 0.9996744394302368, 0.9996878504753113, 0.11377467215061188, 0.2793136239051819, 0.20047223567962646, 0.2334732562303543, 0.17296291887760162, 0.7775298953056335, 0.04598252475261688, 0.012662315741181374, 0.15038689970970154, 0.013426832854747772, 0.7207930684089661, 0.04517367109656334, 0.2340095341205597, 0.24546748399734497, 0.7544980049133301, 0.9999328851699829, 0.999494731426239, 0.030870454385876656, 0.8987532258033752, 0.015570229850709438, 0.05472080782055855, 0.9996883869171143, 0.9998716115951538, 0.9999018907546997, 0.10104836523532867, 0.8989070653915405, 0.08900780230760574, 0.6379255056381226, 0.2730587422847748, 0.9998682737350464, 0.9943116307258606, 0.0056391688995063305, 0.9999485611915588, 0.9898651838302612, 0.010007557459175587, 0.9994304180145264, 0.9998511672019958, 0.9999375343322754, 0.009116064757108688, 0.03989323601126671, 0.9509978890419006, 0.9999054074287415, 0.9999668598175049, 0.9999396204948425, 0.9999122619628906, 0.15117889642715454, 0.20425233244895935, 0.02661803737282753, 0.35313624143600464, 0.2647889256477356, 0.9997215867042542, 0.9997990727424622, 0.9996629357337952, 0.9999058246612549, 0.9998428821563721, 0.9998974800109863, 0.007325921673327684, 0.9389246106147766, 0.04542071372270584, 0.0081877950578928, 0.9997920989990234, 0.9828563332557678, 0.017124613747000694, 0.9999356865882874, 0.999712347984314, 0.07473107427358627, 0.9251367449760437, 0.16622939705848694, 0.015014268457889557, 0.7631703019142151, 0.055602289736270905, 0.08087900280952454, 0.6557496786117554, 0.26275181770324707, 0.0006050490192137659, 0.7011972665786743, 0.022867830470204353, 0.09216177463531494, 0.18379880487918854, 0.9999240636825562, 0.9998703598976135, 0.9804864525794983, 0.01929955743253231, 0.999674379825592, 0.09350690990686417, 0.17900186777114868, 0.5116344690322876, 0.1633203774690628, 0.05252273753285408, 0.9172587394714355, 0.08269454538822174, 0.9998544454574585, 0.9997525215148926, 0.16408759355545044, 0.7089418768882751, 0.08029596507549286, 0.046643659472465515, 0.9998425245285034, 0.9999511241912842, 0.02235610969364643, 0.000910265080165118, 0.5665490031242371, 0.2976931035518646, 0.11247235536575317, 0.9997451901435852, 0.8832558393478394, 0.06841040402650833, 0.0482855848968029, 0.7194685339927673, 0.1380666047334671, 0.097712941467762, 0.04475371539592743, 0.9996222257614136, 0.07171481102705002, 0.026136886328458786, 0.8542975187301636, 0.023966509848833084, 0.023874152451753616, 0.14880913496017456, 0.13689066469669342, 0.43900901079177856, 0.12762075662612915, 0.14766879379749298, 0.0609511137008667, 0.9389689564704895, 0.9997824430465698, 0.9475744366645813, 0.052390530705451965, 0.2290220409631729, 0.21598601341247559, 0.21428221464157104, 0.1338174194097519, 0.2068924903869629, 0.9163872003555298, 0.052848897874355316, 0.03076031431555748, 0.1881292313337326, 0.1675502210855484, 0.35375750064849854, 0.13063456118106842, 0.15992097556591034, 0.9997233748435974, 0.7505641579627991, 0.01746179722249508, 0.23198646306991577, 0.9998906850814819, 0.9998705387115479, 0.9998162984848022, 0.47118261456489563, 0.010369272902607918, 0.1500217765569687, 0.36842137575149536, 0.9997957348823547, 0.01219337247312069, 0.02534938044846058, 0.9623138308525085, 0.9995381236076355, 0.9998815655708313, 0.7326207160949707, 0.019893284887075424, 0.037233419716358185, 0.02837718464434147, 0.1818852573633194, 0.5989160537719727, 0.1872265785932541, 0.08220928907394409, 0.1316433697938919, 0.8334870934486389, 0.049820415675640106, 0.09034039080142975, 0.026359017938375473, 0.917986273765564, 0.08195219933986664, 0.9995026588439941, 0.9997679591178894, 0.12226209044456482, 0.0969386175274849, 0.6262581944465637, 0.04099051281809807, 0.11354175209999084, 0.9999002814292908, 0.9998760223388672, 0.022897688671946526, 0.17432190477848053, 0.03632434457540512, 0.4584404230117798, 0.308014452457428, 0.16234856843948364, 0.26639336347579956, 0.15485771000385284, 0.21751555800437927, 0.1988820731639862, 0.0012767184525728226, 0.11503905057907104, 0.816024661064148, 0.05866185203194618, 0.00900422502309084, 0.9998926520347595, 0.9999130368232727, 0.02961106412112713, 0.9704426527023315, 0.9997187256813049, 0.9996384978294373, 0.9998446106910706, 0.9999909996986389, 0.9999169707298279, 0.04335576668381691, 0.9564781188964844, 0.9998267889022827, 0.01814281940460205, 0.9179779887199402, 0.06392604112625122, 0.9998912215232849, 0.9998458027839661, 0.40142956376075745, 0.10873518139123917, 0.08719716221094131, 0.2649388313293457, 0.13770245015621185, 0.049874648451805115, 0.9499807953834534, 0.9999170899391174, 0.9998089671134949, 0.11396654695272446, 0.11704285442829132, 0.7690058946609497, 0.21579115092754364, 0.05343898385763168, 0.008489762432873249, 0.7002309560775757, 0.022038493305444717, 0.9998996257781982, 0.7598245143890381, 0.13210813701152802, 0.04997016116976738, 0.058041077107191086, 0.7661236524581909, 0.08593817055225372, 0.07121496647596359, 0.07671741396188736, 0.9997699856758118, 0.20342712104320526, 0.2332388311624527, 0.21317067742347717, 0.18076714873313904, 0.16939443349838257, 0.03131711855530739, 0.1594824194908142, 0.6516700983047485, 0.03198260813951492, 0.12554249167442322, 0.9999651908874512, 0.05172298103570938, 0.05365847796201706, 0.764684796333313, 0.07342521846294403, 0.05649994686245918, 0.9996786117553711, 0.9999679923057556, 0.474229097366333, 0.44724106788635254, 0.057327695190906525, 0.02118523418903351, 0.258015900850296, 0.1705407351255417, 0.13603517413139343, 0.1192859634757042, 0.3161209523677826, 0.9998217821121216, 0.2081032693386078, 0.3232751488685608, 0.1357429176568985, 0.10600857436656952, 0.22687503695487976, 0.1666521430015564, 0.39584213495254517, 0.3395383059978485, 0.09796276688575745, 0.01814829185605049, 0.9632328748703003, 0.018638785928487778, 0.9998825192451477, 0.999977707862854, 0.9998685121536255, 0.9998450875282288, 0.9997187852859497, 0.22366276383399963, 0.7188796401023865, 0.05742594227194786, 0.003885042853653431, 0.11448168754577637, 0.5771830081939697, 0.18112650513648987, 0.12332288175821304, 0.9040663838386536, 0.09584891051054001, 0.024910451844334602, 0.9750691652297974, 0.3468492925167084, 0.1890946924686432, 0.06241670995950699, 0.14345479011535645, 0.2581869959831238, 0.9998719692230225, 0.3006729185581207, 0.22274371981620789, 0.10604290664196014, 0.20617786049842834, 0.1643611490726471, 0.9999256730079651, 0.966588020324707, 0.03335322067141533, 0.4066809415817261, 0.5932790637016296, 0.03583893924951553, 0.9639755487442017, 0.20903487503528595, 0.7909574508666992, 0.09704877436161041, 0.9028633236885071, 0.3130827248096466, 0.18679089844226837, 0.41714954376220703, 0.08299717307090759, 0.9540895223617554, 0.045764777809381485, 0.1877662092447281, 0.20064949989318848, 0.07312031090259552, 0.2651234269142151, 0.27332887053489685, 0.9698668718338013, 0.03002556413412094, 0.061773281544446945, 0.05131005495786667, 0.7894203066825867, 0.05613923817873001, 0.0413498692214489, 0.9997780323028564], \"Term\": [\"absorption\", \"absorption\", \"actin\", \"activity\", \"activity\", \"activity\", \"activity\", \"activity\", \"adolescent\", \"afferent\", \"agent\", \"agent\", \"agent\", \"agent\", \"agent\", \"agonist\", \"agonist\", \"allograft\", \"american\", \"amino\", \"amino\", \"amino\", \"analysis\", \"analysis\", \"analysis\", \"analysis\", \"analysis\", \"androgen\", \"angiotensin\", \"animal\", \"animal\", \"animal\", \"animal\", \"animal\", \"antagonist\", \"antagonist\", \"antibody\", \"antibody\", \"antigen\", \"antioxidant\", \"arterial\", \"artery\", \"artery\", \"assay\", \"assay\", \"assay\", \"assay\", \"assay\", \"assembly\", \"atherosclerosis\", \"auditory\", \"autoantibody\", \"autoimmune\", \"autologous\", \"axon\", \"base\", \"base\", \"base\", \"base\", \"base\", \"behavioral\", \"behavioral\", \"binding\", \"binding\", \"binding\", \"binding\", \"blood\", \"blood\", \"blood\", \"blood\", \"brain\", \"brain\", \"brain\", \"calcium\", \"calcium\", \"calcium\", \"cancer\", \"cancer\", \"cancer\", \"carcinoma\", \"carcinoma\", \"cardiac\", \"cardiac\", \"cdna\", \"cell\", \"cell\", \"cell\", \"cell\", \"center\", \"center\", \"center\", \"center\", \"central\", \"central\", \"central\", \"central\", \"central\", \"change\", \"change\", \"change\", \"change\", \"change\", \"channels\", \"channels\", \"characterize\", \"characterize\", \"characterize\", \"characterize\", \"characterize\", \"child\", \"cholesterol\", \"cholesterol\", \"cholinergic\", \"chromosome\", \"circadian\", \"clinical\", \"clinical\", \"clinical\", \"clinical\", \"clone\", \"clone\", \"cocaine\", \"cocaine\", \"cochlear\", \"cohort\", \"community\", \"complex\", \"complex\", \"complex\", \"complex\", \"complex\", \"compound\", \"compound\", \"compound\", \"compound\", \"concentration\", \"concentration\", \"concentration\", \"concentration\", \"conformation\", \"conformational\", \"control\", \"control\", \"control\", \"control\", \"control\", \"cortex\", \"culture\", \"culture\", \"culture\", \"culture\", \"cytokine\", \"degeneration\", \"deletion\", \"deletion\", \"department\", \"design\", \"design\", \"design\", \"design\", \"design\", \"determine\", \"determine\", \"determine\", \"determine\", \"determine\", \"develop\", \"develop\", \"develop\", \"develop\", \"develop\", \"development\", \"development\", \"development\", \"development\", \"development\", \"diabetic\", \"diabetic\", \"differentiation\", \"differentiation\", \"differentiation\", \"disease\", \"disease\", \"disease\", \"disease\", \"disease\", \"domain\", \"domain\", \"dopamine\", \"drosophila\", \"edema\", \"education\", \"effect\", \"effect\", \"effect\", \"effect\", \"effect\", \"effects\", \"effects\", \"effects\", \"effects\", \"effects\", \"elderly\", \"elderly\", \"elderly\", \"electrophysiological\", \"electrophysiological\", \"enamel\", \"encode\", \"encode\", \"encode\", \"energy\", \"energy\", \"enhancer\", \"enzyme\", \"enzyme\", \"enzyme\", \"epitope\", \"epitope\", \"estrogen\", \"estrogen\", \"estrogen\", \"eukaryotic\", \"examine\", \"examine\", \"examine\", \"examine\", \"examine\", \"experiment\", \"experiment\", \"experiment\", \"experiment\", \"experiment\", \"expression\", \"expression\", \"expression\", \"facility\", \"factor\", \"factor\", \"factor\", \"factor\", \"factor\", \"family\", \"family\", \"family\", \"fatty\", \"filament\", \"folate\", \"function\", \"function\", \"function\", \"function\", \"function\", \"ganglion\", \"gene\", \"gene\", \"genetic\", \"genetic\", \"genetic\", \"genetic\", \"genomic\", \"glucose\", \"glutathione\", \"group\", \"group\", \"group\", \"group\", \"group\", \"growth\", \"growth\", \"growth\", \"growth\", \"growth\", \"health\", \"health\", \"health\", \"health\", \"health\", \"heart\", \"heart\", \"heart\", \"helper\", \"hematopoietic\", \"hepatic\", \"hepatic\", \"hippocampal\", \"history\", \"history\", \"history\", \"hiv-1\", \"hormone\", \"hormone\", \"hormone\", \"hormone\", \"hospital\", \"human\", \"human\", \"human\", \"human\", \"human\", \"hypertension\", \"hypertension\", \"hypertensive\", \"hypertrophy\", \"hypoxic\", \"identify\", \"identify\", \"identify\", \"identify\", \"identify\", \"immune\", \"immunity\", \"immunization\", \"immunize\", \"immunodeficiency\", \"immunodeficiency\", \"immunologic\", \"immunologic\", \"include\", \"include\", \"include\", \"include\", \"include\", \"increase\", \"increase\", \"increase\", \"increase\", \"increase\", \"induce\", \"induce\", \"induce\", \"induce\", \"infect\", \"infect\", \"infection\", \"infection\", \"inflammatory\", \"inflammatory\", \"information\", \"information\", \"information\", \"information\", \"information\", \"injury\", \"injury\", \"injury\", \"injury\", \"input\", \"input\", \"institute\", \"institution\", \"insulin\", \"insulin\", \"interaction\", \"interaction\", \"interaction\", \"interaction\", \"interaction\", \"interferon\", \"intervention\", \"intervention\", \"intervention\", \"intervention\", \"interview\", \"invasion\", \"investigator\", \"investigator\", \"investigator\", \"investigator\", \"investigator\", \"involve\", \"involve\", \"involve\", \"involve\", \"involve\", \"ischemia\", \"ischemic\", \"isolate\", \"isolate\", \"isolate\", \"isolate\", \"killing\", \"kinase\", \"kinase\", \"leukemia\", \"leukemia\", \"leukemic\", \"level\", \"level\", \"level\", \"level\", \"level\", \"line\", \"line\", \"line\", \"line\", \"lipid\", \"lipid\", \"lipoprotein\", \"liver\", \"liver\", \"liver\", \"lymphocyte\", \"lymphoid\", \"lymphokine\", \"lymphoma\", \"lymphoma\", \"macrophage\", \"malignant\", \"malignant\", \"malignant\", \"mammary\", \"marrow\", \"measure\", \"measure\", \"measure\", \"measure\", \"measure\", \"measurement\", \"measurement\", \"measurement\", \"measurement\", \"measurement\", \"mechanism\", \"mechanism\", \"mechanism\", \"mechanism\", \"mechanism\", \"medical\", \"membrane\", \"membrane\", \"membrane\", \"membrane\", \"memory\", \"memory\", \"memory\", \"metabolic\", \"metabolic\", \"metabolic\", \"metabolic\", \"metabolism\", \"metabolism\", \"metabolism\", \"metabolite\", \"metabolite\", \"metabolize\", \"metastasis\", \"method\", \"method\", \"method\", \"method\", \"method\", \"microtubule\", \"mineral\", \"mitogen\", \"model\", \"model\", \"model\", \"model\", \"model\", \"molecular\", \"molecular\", \"molecular\", \"molecular\", \"molecular\", \"molecule\", \"molecule\", \"molecule\", \"monoclonal\", \"monoclonal\", \"monocyte\", \"mononuclear\", \"month\", \"month\", \"month\", \"month\", \"morphine\", \"motor\", \"mrna\", \"murine\", \"murine\", \"muscle\", \"muscle\", \"muscle\", \"mutagenesis\", \"mutant\", \"mutant\", \"mutation\", \"myocardial\", \"myocardial\", \"myocardium\", \"national\", \"nerve\", \"nervous\", \"nervous\", \"nervous\", \"neural\", \"neuron\", \"neuronal\", \"neurotransmitter\", \"normal\", \"normal\", \"normal\", \"normal\", \"normal\", \"olfactory\", \"oligonucleotide\", \"oligosaccharide\", \"oncology\", \"opiate\", \"opioid\", \"outcome\", \"outcome\", \"outcome\", \"outcome\", \"oxidation\", \"oxidative\", \"oxidative\", \"oxygen\", \"p-450\", \"parasite\", \"parasite\", \"pathogenesis\", \"pathogenesis\", \"pathogenesis\", \"pathogenesis\", \"patient\", \"patient\", \"patient\", \"patient\", \"peptide\", \"peptide\", \"peptide\", \"peptide\", \"perfuse\", \"permeability\", \"person\", \"person\", \"pertussis\", \"phase\", \"phase\", \"phase\", \"phase\", \"phase\", \"phosphorylation\", \"phosphorylation\", \"physician\", \"pituitary\", \"plasma\", \"plasma\", \"plasma\", \"plasma\", \"plasmid\", \"polymerase\", \"population\", \"population\", \"population\", \"population\", \"population\", \"practice\", \"pressure\", \"pressure\", \"pressure\", \"probe\", \"probe\", \"probe\", \"probe\", \"progenitor\", \"program\", \"program\", \"program\", \"program\", \"program\", \"project\", \"project\", \"project\", \"project\", \"project\", \"proliferation\", \"proliferation\", \"proliferative\", \"promoter\", \"promoter\", \"propose\", \"propose\", \"propose\", \"propose\", \"propose\", \"protein\", \"protein\", \"protein\", \"provide\", \"provide\", \"provide\", \"provide\", \"provide\", \"public\", \"purify\", \"purify\", \"purify\", \"quality\", \"radical\", \"randomize\", \"receptor\", \"receptor\", \"receptor\", \"receptor\", \"recombination\", \"recording\", \"recording\", \"recording\", \"redox\", \"reflex\", \"region\", \"region\", \"region\", \"region\", \"region\", \"regulation\", \"regulation\", \"regulation\", \"regulation\", \"regulatory\", \"regulatory\", \"regulatory\", \"regulatory\", \"renal\", \"renal\", \"renin\", \"reperfusion\", \"research\", \"research\", \"research\", \"research\", \"research\", \"residue\", \"resource\", \"response\", \"response\", \"response\", \"response\", \"response\", \"result\", \"result\", \"result\", \"result\", \"result\", \"sample\", \"sample\", \"sample\", \"sample\", \"sample\", \"school\", \"science\", \"scientific\", \"scientific\", \"scientist\", \"seizure\", \"sensory\", \"sequence\", \"services\", \"sleep\", \"sleep\", \"smoking\", \"smooth\", \"smooth\", \"smooth\", \"social\", \"sodium\", \"specific\", \"specific\", \"specific\", \"specific\", \"specific\", \"speech\", \"speech\", \"spinal\", \"statistical\", \"stimulus\", \"stimulus\", \"stimulus\", \"strain\", \"strain\", \"strain\", \"strain\", \"strain\", \"strand\", \"structural\", \"structural\", \"structural\", \"structural\", \"structure\", \"structure\", \"structure\", \"structure\", \"student\", \"study\", \"study\", \"study\", \"study\", \"study\", \"subject\", \"subject\", \"subject\", \"subject\", \"subject\", \"subunit\", \"support\", \"support\", \"support\", \"support\", \"support\", \"surfactant\", \"synaptic\", \"synthesis\", \"synthesis\", \"synthesis\", \"synthesis\", \"system\", \"system\", \"system\", \"system\", \"system\", \"taste\", \"technique\", \"technique\", \"technique\", \"technique\", \"technique\", \"tissue\", \"tissue\", \"tissue\", \"tissue\", \"training\", \"training\", \"training\", \"transcript\", \"transcription\", \"transcriptional\", \"translational\", \"transmitter\", \"transport\", \"transport\", \"transport\", \"treatment\", \"treatment\", \"treatment\", \"treatment\", \"treatment\", \"trial\", \"trial\", \"tumor\", \"tumor\", \"understanding\", \"understanding\", \"understanding\", \"understanding\", \"understanding\", \"university\", \"using\", \"using\", \"using\", \"using\", \"using\", \"vaccine\", \"vascular\", \"vascular\", \"viral\", \"viral\", \"virulence\", \"virulence\", \"virus\", \"virus\", \"visual\", \"visual\", \"vitro\", \"vitro\", \"vitro\", \"vitro\", \"water\", \"water\", \"whether\", \"whether\", \"whether\", \"whether\", \"whether\", \"woman\", \"woman\", \"years\", \"years\", \"years\", \"years\", \"years\", \"yeast\"]}, \"R\": 30, \"lambda.step\": 0.01, \"plot.opts\": {\"xlab\": \"PC1\", \"ylab\": \"PC2\"}, \"topic.order\": [2, 5, 3, 1, 4]};\n",
       "\n",
       "function LDAvis_load_lib(url, callback){\n",
       "  var s = document.createElement('script');\n",
       "  s.src = url;\n",
       "  s.async = true;\n",
       "  s.onreadystatechange = s.onload = callback;\n",
       "  s.onerror = function(){console.warn(\"failed to load library \" + url);};\n",
       "  document.getElementsByTagName(\"head\")[0].appendChild(s);\n",
       "}\n",
       "\n",
       "if(typeof(LDAvis) !== \"undefined\"){\n",
       "   // already loaded: just create the visualization\n",
       "   !function(LDAvis){\n",
       "       new LDAvis(\"#\" + \"ldavis_el8891406428446938725110802904\", ldavis_el8891406428446938725110802904_data);\n",
       "   }(LDAvis);\n",
       "}else if(typeof define === \"function\" && define.amd){\n",
       "   // require.js is available: use it to load d3/LDAvis\n",
       "   require.config({paths: {d3: \"https://cdnjs.cloudflare.com/ajax/libs/d3/3.5.5/d3.min\"}});\n",
       "   require([\"d3\"], function(d3){\n",
       "      window.d3 = d3;\n",
       "      LDAvis_load_lib(\"https://cdn.rawgit.com/bmabey/pyLDAvis/files/ldavis.v1.0.0.js\", function(){\n",
       "        new LDAvis(\"#\" + \"ldavis_el8891406428446938725110802904\", ldavis_el8891406428446938725110802904_data);\n",
       "      });\n",
       "    });\n",
       "}else{\n",
       "    // require.js not available: dynamically load d3 & LDAvis\n",
       "    LDAvis_load_lib(\"https://cdnjs.cloudflare.com/ajax/libs/d3/3.5.5/d3.min.js\", function(){\n",
       "         LDAvis_load_lib(\"https://cdn.rawgit.com/bmabey/pyLDAvis/files/ldavis.v1.0.0.js\", function(){\n",
       "                 new LDAvis(\"#\" + \"ldavis_el8891406428446938725110802904\", ldavis_el8891406428446938725110802904_data);\n",
       "            })\n",
       "         });\n",
       "}\n",
       "</script>"
      ],
      "text/plain": [
       "<IPython.core.display.HTML object>"
      ]
     },
     "execution_count": 4,
     "metadata": {},
     "output_type": "execute_result"
    }
   ],
   "source": [
    "dictionary = gensim.corpora.Dictionary.load('dictionary.gensim')\n",
    "corpus = pickle.load(open('corpus1.pkl', 'rb'))\n",
    "lda = gensim.models.ldamodel.LdaModel.load('model5.gensim')\n",
    "import pyLDAvis.gensim\n",
    "lda_display = pyLDAvis.gensim.prepare(lda, corpus, dictionary, sort_topics=True)\n",
    "pyLDAvis.display(lda_display)"
   ]
  },
  {
   "cell_type": "code",
   "execution_count": 74,
   "metadata": {},
   "outputs": [
    {
     "data": {
      "application/vnd.jupyter.widget-view+json": {
       "model_id": "942cd7beab4847c5afcddc5dcef5509f",
       "version_major": 2,
       "version_minor": 0
      },
      "text/html": [
       "<p>Failed to display Jupyter Widget of type <code>HBox</code>.</p>\n",
       "<p>\n",
       "  If you're reading this message in the Jupyter Notebook or JupyterLab Notebook, it may mean\n",
       "  that the widgets JavaScript is still loading. If this message persists, it\n",
       "  likely means that the widgets JavaScript library is either not installed or\n",
       "  not enabled. See the <a href=\"https://ipywidgets.readthedocs.io/en/stable/user_install.html\">Jupyter\n",
       "  Widgets Documentation</a> for setup instructions.\n",
       "</p>\n",
       "<p>\n",
       "  If you're reading this message in another frontend (for example, a static\n",
       "  rendering on GitHub or <a href=\"https://nbviewer.jupyter.org/\">NBViewer</a>),\n",
       "  it may mean that your frontend doesn't currently support widgets.\n",
       "</p>\n"
      ],
      "text/plain": [
       "HBox(children=(IntProgress(value=0, max=72410), HTML(value='')))"
      ]
     },
     "metadata": {},
     "output_type": "display_data"
    },
    {
     "data": {
      "application/vnd.jupyter.widget-view+json": {
       "model_id": "c32eb2e5a75847fe9df62500b1ff00fa",
       "version_major": 2,
       "version_minor": 0
      },
      "text/html": [
       "<p>Failed to display Jupyter Widget of type <code>HBox</code>.</p>\n",
       "<p>\n",
       "  If you're reading this message in the Jupyter Notebook or JupyterLab Notebook, it may mean\n",
       "  that the widgets JavaScript is still loading. If this message persists, it\n",
       "  likely means that the widgets JavaScript library is either not installed or\n",
       "  not enabled. See the <a href=\"https://ipywidgets.readthedocs.io/en/stable/user_install.html\">Jupyter\n",
       "  Widgets Documentation</a> for setup instructions.\n",
       "</p>\n",
       "<p>\n",
       "  If you're reading this message in another frontend (for example, a static\n",
       "  rendering on GitHub or <a href=\"https://nbviewer.jupyter.org/\">NBViewer</a>),\n",
       "  it may mean that your frontend doesn't currently support widgets.\n",
       "</p>\n"
      ],
      "text/plain": [
       "HBox(children=(IntProgress(value=0, max=72410), HTML(value='')))"
      ]
     },
     "metadata": {},
     "output_type": "display_data"
    }
   ],
   "source": [
    "from gensim import corpora\n",
    "from gensim.models import TfidfModel\n",
    "words_rm = ['program','research','training','health','center','support','investigator',\n",
    "            'community','resource','trainee','science','student','administrative',\n",
    "            'abstract','project','career','faculty','services','university','contract',\n",
    "            'mentor','provide','meeting','school','director','collaboration','facility',\n",
    "            'institute','department','researcher','biology','member']\n",
    "t_2017 = proj_ABS.query('FY == 2017')[['ABSTRACT_TEXT']]\n",
    "#t_2017.drop(t_2017.index([range(29384,29391)]),inplace=True)\n",
    "t_2017[29384:29391] = 'nan' #need to update this and the followin line to pd.drop\n",
    "t_2017 = t_2017[t_2017['ABSTRACT_TEXT'] != 'nan']\n",
    "t_2017 = [prepare_text_for_lda(x) for x in tqdm_notebook(t_2017['ABSTRACT_TEXT'])]\n",
    "#t_2017 = [[word for word in abs if word not in words_rm] for abs in t_2017]\n",
    "dict_2017 = corpora.Dictionary(t_2017)\n",
    "corpus_2017 = [dict_2017.doc2bow(text) for text in tqdm_notebook(t_2017)]\n",
    "model = TfidfModel(corpus_2017)\n",
    "vector_2017 = model[corpus_2017]"
   ]
  },
  {
   "cell_type": "code",
   "execution_count": 75,
   "metadata": {},
   "outputs": [
    {
     "name": "stderr",
     "output_type": "stream",
     "text": [
      "/opt/conda/envs/data3/lib/python3.6/site-packages/pyLDAvis/_prepare.py:257: FutureWarning: Sorting because non-concatenation axis is not aligned. A future version\n",
      "of pandas will change to not sort by default.\n",
      "\n",
      "To accept the future behavior, pass 'sort=False'.\n",
      "\n",
      "To retain the current behavior and silence the warning, pass 'sort=True'.\n",
      "\n",
      "  return pd.concat([default_term_info] + list(topic_dfs))\n"
     ]
    },
    {
     "data": {
      "text/html": [
       "\n",
       "<link rel=\"stylesheet\" type=\"text/css\" href=\"https://cdn.rawgit.com/bmabey/pyLDAvis/files/ldavis.v1.0.0.css\">\n",
       "\n",
       "\n",
       "<div id=\"ldavis_el148061403165522944728743012842\"></div>\n",
       "<script type=\"text/javascript\">\n",
       "\n",
       "var ldavis_el148061403165522944728743012842_data = {\"mdsDat\": {\"x\": [-0.11086446958043907, -0.08271093471090572, -0.05248845257761563, 0.010651922664575998, 0.23541193420438455], \"y\": [-0.13329454980708216, 0.02940289070082718, 0.172247531054993, -0.05689226174269325, -0.011463610206045093], \"topics\": [1, 2, 3, 4, 5], \"cluster\": [1, 1, 1, 1, 1], \"Freq\": [46.37363052368164, 23.28354835510254, 21.689970016479492, 8.474370002746582, 0.1784803867340088]}, \"tinfo\": {\"Category\": [\"Default\", \"Default\", \"Default\", \"Default\", \"Default\", \"Default\", \"Default\", \"Default\", \"Default\", \"Default\", \"Default\", \"Default\", \"Default\", \"Default\", \"Default\", \"Default\", \"Default\", \"Default\", \"Default\", \"Default\", \"Default\", \"Default\", \"Default\", \"Default\", \"Default\", \"Default\", \"Default\", \"Default\", \"Default\", \"Default\", \"Topic1\", \"Topic1\", \"Topic1\", \"Topic1\", \"Topic1\", \"Topic1\", \"Topic1\", \"Topic1\", \"Topic1\", \"Topic1\", \"Topic1\", \"Topic1\", \"Topic1\", \"Topic1\", \"Topic1\", \"Topic1\", \"Topic1\", \"Topic1\", \"Topic1\", \"Topic1\", \"Topic1\", \"Topic1\", \"Topic1\", \"Topic1\", \"Topic1\", \"Topic1\", \"Topic1\", \"Topic1\", \"Topic1\", \"Topic1\", \"Topic1\", \"Topic1\", \"Topic1\", \"Topic1\", \"Topic1\", \"Topic1\", \"Topic1\", \"Topic1\", \"Topic1\", \"Topic1\", \"Topic1\", \"Topic1\", \"Topic1\", \"Topic1\", \"Topic1\", \"Topic1\", \"Topic1\", \"Topic1\", \"Topic1\", \"Topic1\", \"Topic1\", \"Topic1\", \"Topic1\", \"Topic1\", \"Topic1\", \"Topic1\", \"Topic1\", \"Topic1\", \"Topic1\", \"Topic1\", \"Topic1\", \"Topic1\", \"Topic1\", \"Topic1\", \"Topic1\", \"Topic1\", \"Topic1\", \"Topic1\", \"Topic1\", \"Topic1\", \"Topic1\", \"Topic1\", \"Topic1\", \"Topic1\", \"Topic1\", \"Topic1\", \"Topic1\", \"Topic1\", \"Topic1\", \"Topic1\", \"Topic1\", \"Topic1\", \"Topic1\", \"Topic1\", \"Topic2\", \"Topic2\", \"Topic2\", \"Topic2\", \"Topic2\", \"Topic2\", \"Topic2\", \"Topic2\", \"Topic2\", \"Topic2\", \"Topic2\", \"Topic2\", \"Topic2\", \"Topic2\", \"Topic2\", \"Topic2\", \"Topic2\", \"Topic2\", \"Topic2\", \"Topic2\", \"Topic2\", \"Topic2\", \"Topic2\", \"Topic2\", \"Topic2\", \"Topic2\", \"Topic2\", \"Topic2\", \"Topic2\", \"Topic2\", \"Topic2\", \"Topic2\", \"Topic2\", \"Topic2\", \"Topic2\", \"Topic2\", \"Topic2\", \"Topic2\", \"Topic2\", \"Topic2\", \"Topic2\", \"Topic2\", \"Topic2\", \"Topic2\", \"Topic2\", \"Topic2\", \"Topic2\", \"Topic2\", \"Topic2\", \"Topic2\", \"Topic2\", \"Topic2\", \"Topic2\", \"Topic2\", \"Topic2\", \"Topic2\", \"Topic2\", \"Topic2\", \"Topic2\", \"Topic2\", \"Topic2\", \"Topic2\", \"Topic2\", \"Topic2\", \"Topic2\", \"Topic2\", \"Topic2\", \"Topic2\", \"Topic2\", \"Topic2\", \"Topic2\", \"Topic2\", \"Topic2\", \"Topic2\", \"Topic2\", \"Topic2\", \"Topic2\", \"Topic2\", \"Topic2\", \"Topic2\", \"Topic3\", \"Topic3\", \"Topic3\", \"Topic3\", \"Topic3\", \"Topic3\", \"Topic3\", \"Topic3\", \"Topic3\", \"Topic3\", \"Topic3\", \"Topic3\", \"Topic3\", \"Topic3\", \"Topic3\", \"Topic3\", \"Topic3\", \"Topic3\", \"Topic3\", \"Topic3\", \"Topic3\", \"Topic3\", \"Topic3\", \"Topic3\", \"Topic3\", \"Topic3\", \"Topic3\", \"Topic3\", \"Topic3\", \"Topic3\", \"Topic3\", \"Topic3\", \"Topic3\", \"Topic3\", \"Topic3\", \"Topic3\", \"Topic3\", \"Topic3\", \"Topic3\", \"Topic3\", \"Topic3\", \"Topic3\", \"Topic3\", \"Topic3\", \"Topic3\", \"Topic3\", \"Topic3\", \"Topic3\", \"Topic3\", \"Topic3\", \"Topic3\", \"Topic3\", \"Topic3\", \"Topic3\", \"Topic3\", \"Topic3\", \"Topic3\", \"Topic3\", \"Topic3\", \"Topic3\", \"Topic3\", \"Topic3\", \"Topic3\", \"Topic3\", \"Topic3\", \"Topic3\", \"Topic3\", \"Topic3\", \"Topic3\", \"Topic3\", \"Topic4\", \"Topic4\", \"Topic4\", \"Topic4\", \"Topic4\", \"Topic4\", \"Topic4\", \"Topic4\", \"Topic4\", \"Topic4\", \"Topic4\", \"Topic4\", \"Topic4\", \"Topic4\", \"Topic4\", \"Topic4\", \"Topic4\", \"Topic4\", \"Topic4\", \"Topic4\", \"Topic4\", \"Topic4\", \"Topic4\", \"Topic4\", \"Topic4\", \"Topic4\", \"Topic4\", \"Topic4\", \"Topic4\", \"Topic4\", \"Topic4\", \"Topic4\", \"Topic4\", \"Topic4\", \"Topic4\", \"Topic4\", \"Topic4\", \"Topic4\", \"Topic4\", \"Topic4\", \"Topic4\", \"Topic4\", \"Topic4\", \"Topic4\", \"Topic4\", \"Topic4\", \"Topic4\", \"Topic4\", \"Topic4\", \"Topic4\", \"Topic4\", \"Topic4\", \"Topic4\", \"Topic4\", \"Topic4\", \"Topic4\", \"Topic4\", \"Topic4\", \"Topic4\", \"Topic4\", \"Topic4\", \"Topic4\", \"Topic4\", \"Topic4\", \"Topic4\", \"Topic4\", \"Topic5\", \"Topic5\", \"Topic5\", \"Topic5\", \"Topic5\", \"Topic5\", \"Topic5\", \"Topic5\", \"Topic5\", \"Topic5\", \"Topic5\", \"Topic5\", \"Topic5\", \"Topic5\", \"Topic5\", \"Topic5\", \"Topic5\", \"Topic5\", \"Topic5\", \"Topic5\", \"Topic5\", \"Topic5\", \"Topic5\", \"Topic5\", \"Topic5\", \"Topic5\", \"Topic5\", \"Topic5\", \"Topic5\", \"Topic5\", \"Topic5\", \"Topic5\"], \"Freq\": [23394.0, 17199.0, 24176.0, 8198.0, 20847.0, 12102.0, 13028.0, 9565.0, 25125.0, 9449.0, 15024.0, 8641.0, 9055.0, 5914.0, 9917.0, 14459.0, 16046.0, 10168.0, 6352.0, 8399.0, 7476.0, 11176.0, 8418.0, 8393.0, 9110.0, 7958.0, 12380.0, 11859.0, 8769.0, 17354.0, 7309.73974609375, 5601.2216796875, 4136.5830078125, 3990.253662109375, 4750.27978515625, 4504.2568359375, 3673.840576171875, 3298.40966796875, 3298.7216796875, 3362.08935546875, 2818.368408203125, 2746.8818359375, 2751.375244140625, 2647.4033203125, 2899.46044921875, 2818.681884765625, 2598.2705078125, 2094.289306640625, 2320.19873046875, 2039.281982421875, 2024.429931640625, 3726.836181640625, 2330.1572265625, 2008.7581787109375, 2025.9031982421875, 2099.74267578125, 1880.8209228515625, 1953.7003173828125, 6996.904296875, 1814.86279296875, 7564.8828125, 14623.607421875, 6274.73486328125, 5444.57763671875, 5399.49072265625, 3945.64501953125, 3111.835205078125, 10847.7548828125, 2898.975341796875, 24163.7421875, 9458.3427734375, 4710.6279296875, 4152.5048828125, 5794.81884765625, 13856.08984375, 4284.00634765625, 3390.716796875, 11648.5908203125, 11444.2626953125, 6381.2236328125, 9744.9736328125, 17297.509765625, 8339.80859375, 8145.50244140625, 4677.39697265625, 12627.28515625, 18163.845703125, 9408.068359375, 9827.62109375, 6339.95263671875, 7910.14208984375, 5814.76416015625, 7014.92626953125, 11372.90234375, 9353.5478515625, 12694.2861328125, 11673.05078125, 10745.8115234375, 7884.01220703125, 7551.55126953125, 9729.62109375, 10564.865234375, 8359.9873046875, 16973.076171875, 10038.3525390625, 10424.1220703125, 12292.478515625, 10180.947265625, 10539.4501953125, 9262.4775390625, 9396.34375, 9652.626953125, 9263.9228515625, 10394.8291015625, 2920.84228515625, 2746.258544921875, 2602.35888671875, 2190.06640625, 2128.74560546875, 1812.433837890625, 1786.8948974609375, 1404.7325439453125, 1285.1962890625, 1265.051025390625, 1306.5723876953125, 1163.5633544921875, 1081.168212890625, 1064.073974609375, 1051.815185546875, 956.9848022460938, 938.376953125, 921.6658935546875, 1277.79638671875, 885.6544189453125, 1013.5118408203125, 842.1402587890625, 852.6762084960938, 824.4598388671875, 949.3933715820312, 828.5571899414062, 799.799072265625, 1391.6328125, 774.1655883789062, 1589.05712890625, 5293.8427734375, 2529.49462890625, 3149.904296875, 2815.425048828125, 3116.294189453125, 3794.69921875, 1791.940673828125, 4023.782470703125, 3038.81982421875, 2153.5087890625, 7455.2685546875, 7874.43603515625, 6694.73486328125, 3134.55517578125, 3404.591064453125, 11669.6494140625, 4170.60498046875, 4690.81103515625, 2488.5537109375, 9697.9951171875, 7545.97412109375, 2872.34716796875, 4188.19775390625, 5769.8427734375, 3647.191650390625, 4482.97607421875, 3694.17919921875, 3727.32080078125, 6377.890625, 5823.26806640625, 7182.9248046875, 8186.341796875, 5061.8623046875, 8207.13671875, 4886.7294921875, 5506.7861328125, 4134.78125, 4051.57373046875, 5220.92529296875, 6915.283203125, 5657.71484375, 4856.32470703125, 4795.4208984375, 4437.9501953125, 4741.5390625, 4634.904296875, 4472.765625, 4518.52978515625, 4314.3720703125, 4353.78857421875, 9552.9208984375, 7463.96484375, 4698.2822265625, 3941.290283203125, 3917.461669921875, 8610.359375, 3325.535400390625, 2791.795654296875, 2764.854248046875, 2521.505859375, 2149.783935546875, 1889.0855712890625, 2430.939208984375, 1815.58056640625, 1711.78564453125, 1682.0269775390625, 1761.450439453125, 1591.9573974609375, 1514.580322265625, 1491.9786376953125, 1431.526123046875, 3382.62255859375, 5334.84814453125, 1344.1719970703125, 1252.2108154296875, 1243.0263671875, 1098.24072265625, 2007.5167236328125, 1033.2354736328125, 978.712158203125, 3826.039306640625, 3344.2021484375, 2614.298095703125, 8753.263671875, 11624.466796875, 8105.1630859375, 3298.400634765625, 5949.83447265625, 2548.15625, 4180.0966796875, 7939.95458984375, 9234.044921875, 3091.474853515625, 7823.38134765625, 3246.191650390625, 11707.8349609375, 7333.18017578125, 6088.53369140625, 14872.1435546875, 19345.759765625, 7710.39013671875, 12435.5146484375, 5272.6923828125, 9486.880859375, 18425.201171875, 5518.72265625, 7578.9501953125, 11888.2060546875, 5059.47998046875, 7606.35107421875, 8395.80859375, 5483.5810546875, 8088.78759765625, 5969.1962890625, 9670.6826171875, 12147.630859375, 7380.029296875, 6270.47412109375, 7578.4970703125, 5995.09375, 2607.67724609375, 2156.19140625, 842.5524291992188, 885.3604736328125, 787.8392944335938, 764.5848388671875, 1323.3067626953125, 695.0274047851562, 680.5036010742188, 758.7839965820312, 627.77685546875, 607.992431640625, 589.9716186523438, 574.4739990234375, 520.3189697265625, 501.21124267578125, 477.514892578125, 487.0473937988281, 496.83465576171875, 444.9750671386719, 1050.7396240234375, 436.8753662109375, 417.85858154296875, 1812.0419921875, 404.50787353515625, 477.6972961425781, 424.77215576171875, 366.2891845703125, 368.0732116699219, 389.0997314453125, 7462.08935546875, 1188.7537841796875, 729.2316284179688, 536.4573364257812, 4352.4716796875, 1487.943115234375, 1140.6817626953125, 1100.1744384765625, 3451.6484375, 2487.103515625, 894.9877319335938, 4253.05078125, 2851.091796875, 837.8438110351562, 1854.7852783203125, 2034.127197265625, 1586.1378173828125, 1004.1136474609375, 948.8390502929688, 2801.269775390625, 1579.5233154296875, 1470.1402587890625, 2108.28271484375, 2144.841552734375, 1960.21484375, 1450.8406982421875, 2674.35693359375, 1791.526123046875, 1604.522216796875, 1658.9771728515625, 1906.8365478515625, 1449.4632568359375, 1679.26513671875, 1664.401123046875, 1689.294921875, 1499.5751953125, 34.76335144042969, 20.725215911865234, 18.038820266723633, 18.057605743408203, 16.77967643737793, 13.593040466308594, 13.483642578125, 12.54753303527832, 9.867476463317871, 9.737143516540527, 19.34033966064453, 7.892628192901611, 5.903437614440918, 6.440578937530518, 4.840325832366943, 4.91228723526001, 16.34468650817871, 3.760443687438965, 3.5261306762695312, 3.8085501194000244, 3.3487281799316406, 3.247992753982544, 3.736574411392212, 3.2477571964263916, 3.0469961166381836, 3.025818109512329, 2.9266602993011475, 2.767322301864624, 3.0998854637145996, 2.6160178184509277, 2.8520352840423584, 3.533832311630249], \"Term\": [\"program\", \"training\", \"research\", \"vaccine\", \"protein\", \"contract\", \"investigator\", \"trainee\", \"cell\", \"infection\", \"center\", \"standardization\", \"student\", \"virus\", \"science\", \"child\", \"support\", \"infectious\", \"antibody\", \"administrative\", \"faculty\", \"resource\", \"mentor\", \"university\", \"cognitive\", \"career\", \"intervention\", \"product\", \"scientific\", \"health\", \"mitochondrial\", \"chromatin\", \"histone\", \"progenitor\", \"endothelial\", \"homeostasis\", \"phosphorylation\", \"autophagy\", \"astrocyte\", \"enhancer\", \"mitochondrion\", \"microglia\", \"mirnas\", \"fibroblast\", \"adipose\", \"hepatic\", \"drosophila\", \"actin\", \"embryonic\", \"mrna\", \"elegans\", \"remodel\", \"myeloid\", \"prion\", \"splicing\", \"angiogenesis\", \"suppressor\", \"isoforms\", \"differentiation\", \"reprogramming\", \"transcription\", \"signaling\", \"macrophage\", \"transcriptional\", \"kinase\", \"proliferation\", \"knockout\", \"mutation\", \"deletion\", \"cell\", \"regulate\", \"epithelial\", \"intestinal\", \"mutant\", \"expression\", \"regulator\", \"metastatic\", \"gene\", \"receptor\", \"repair\", \"mouse\", \"tumor\", \"inhibitor\", \"inflammatory\", \"defect\", \"pathway\", \"protein\", \"activation\", \"induce\", \"lipid\", \"inflammation\", \"activate\", \"liver\", \"immune\", \"cellular\", \"function\", \"mechanism\", \"tissue\", \"mediate\", \"muscle\", \"molecular\", \"target\", \"therapeutic\", \"cancer\", \"genetic\", \"response\", \"disease\", \"human\", \"model\", \"determine\", \"neuron\", \"identify\", \"therapy\", \"patient\", \"opioid\", \"cocaine\", \"anxiety\", \"nicotine\", \"emotional\", \"speech\", \"emotion\", \"depressive\", \"prefrontal\", \"amygdala\", \"neighborhood\", \"affective\", \"psychosis\", \"acceptability\", \"eating\", \"marijuana\", \"medicaid\", \"toddler\", \"father\", \"delirium\", \"walking\", \"caregiving\", \"mhealth\", \"stigma\", \"prescription\", \"antidepressant\", \"opioids\", \"adolescence\", \"psychopathology\", \"medicare\", \"sleep\", \"drinking\", \"smoking\", \"reward\", \"youth\", \"depression\", \"psychological\", \"adolescent\", \"language\", \"caregiver\", \"social\", \"cognitive\", \"alcohol\", \"adherence\", \"randomize\", \"child\", \"parent\", \"older\", \"mother\", \"intervention\", \"behavior\", \"tobacco\", \"infant\", \"behavioral\", \"mental\", \"symptom\", \"pregnancy\", \"longitudinal\", \"measure\", \"woman\", \"outcome\", \"brain\", \"cohort\", \"health\", \"neural\", \"adult\", \"participant\", \"learning\", \"exposure\", \"patient\", \"treatment\", \"disorder\", \"individual\", \"among\", \"change\", \"population\", \"early\", \"study\", \"family\", \"effects\", \"trainee\", \"faculty\", \"director\", \"graduate\", \"fellow\", \"standardization\", \"scholar\", \"junior\", \"doctoral\", \"oversight\", \"extramural\", \"oversee\", \"seminar\", \"predoctoral\", \"undergraduate\", \"cobre\", \"contractor\", \"informatic\", \"daids\", \"ph.d.\", \"symposium\", \"postdoctoral\", \"committee\", \"summer\", \"preceptor\", \"superfund\", \"biostatistical\", \"campus\", \"lecture\", \"cadre\", \"leadership\", \"conference\", \"funds\", \"student\", \"contract\", \"administrative\", \"advisory\", \"meeting\", \"workshop\", \"institution\", \"mentor\", \"science\", \"outreach\", \"university\", \"institutional\", \"investigator\", \"career\", \"scientist\", \"training\", \"program\", \"scientific\", \"center\", \"facility\", \"resource\", \"research\", \"review\", \"services\", \"support\", \"institute\", \"infectious\", \"community\", \"biomedical\", \"product\", \"grant\", \"clinical\", \"cancer\", \"abstract\", \"translational\", \"health\", \"development\", \"hiv-1\", \"influenza\", \"aureus\", \"microscope\", \"aeruginosa\", \"sveus\", \"vaccination\", \"dengue\", \"mosquito\", \"immunization\", \"biofilm\", \"immunogen\", \"falciparum\", \"biofilms\", \"capsid\", \"tendon\", \"glycan\", \"pfs25\", \"genital\", \"filovirus\", \"reservoir\", \"immunize\", \"epidermidis\", \"malaria\", \"flavivirus\", \"phage\", \"fever\", \"bnabs\", \"latently\", \"simian\", \"vaccine\", \"parasite\", \"ebola\", \"lammp\", \"virus\", \"antibiotic\", \"neutralize\", \"epitope\", \"antibody\", \"pathogen\", \"virulence\", \"infection\", \"viral\", \"immunogenicity\", \"image\", \"infect\", \"vector\", \"formulation\", \"atomic\", \"imaging\", \"niaid\", \"bacterial\", \"technology\", \"infectious\", \"structure\", \"resolution\", \"protein\", \"assay\", \"compound\", \"structural\", \"method\", \"platform\", \"phase\", \"product\", \"immune\", \"develop\", \"hnscc\", \"albicans\", \"trialnet\", \"curli\", \"uveitis\", \"candida\", \"prpsc\", \"neoformans\", \"cryptococcal\", \"apol1\", \"seer*dms\", \"pcsk9\", \"cryptococcus\", \"candidiasis\", \"however,\", \"pacap\", \"manion\", \"rickettsia\", \"finally,\", \"first,\", \"mrgx1\", \"gattii\", \"single?cell\", \"cryptococcosis\", \"capn5\", \"fluconazole\", \"echinocandin\", \"azole\", \"igf::ot::igf\", \"glabrata\", \"plekha7\", \"lacritin\"], \"Total\": [23394.0, 17199.0, 24176.0, 8198.0, 20847.0, 12102.0, 13028.0, 9565.0, 25125.0, 9449.0, 15024.0, 8641.0, 9055.0, 5914.0, 9917.0, 14459.0, 16046.0, 10168.0, 6352.0, 8399.0, 7476.0, 11176.0, 8418.0, 8393.0, 9110.0, 7958.0, 12380.0, 11859.0, 8769.0, 17354.0, 7324.95263671875, 5615.7880859375, 4148.5712890625, 4001.905029296875, 4764.58544921875, 4518.4990234375, 3685.65771484375, 3309.216796875, 3309.615234375, 3373.400390625, 2829.28125, 2757.729736328125, 2762.254150390625, 2658.7080078125, 2912.01416015625, 2831.090087890625, 2611.027587890625, 2105.061767578125, 2332.233154296875, 2050.09228515625, 2035.3828125, 3747.377197265625, 2343.020751953125, 2019.860595703125, 2037.1551513671875, 2111.71728515625, 1891.6339111328125, 1964.9434814453125, 7038.7587890625, 1825.90234375, 7615.94580078125, 14857.919921875, 6321.69140625, 5479.72412109375, 5443.693359375, 3981.669677734375, 3136.323486328125, 11080.271484375, 2922.124267578125, 25125.1796875, 9678.814453125, 4779.8115234375, 4204.2119140625, 5914.8134765625, 14499.6337890625, 4358.58349609375, 3425.208740234375, 12283.509765625, 12062.6787109375, 6604.13720703125, 10272.525390625, 18678.9609375, 8767.6015625, 8594.7880859375, 4787.45556640625, 14025.0302734375, 20847.18359375, 10211.5126953125, 10816.671875, 6684.6904296875, 8567.30078125, 6117.7373046875, 7601.0341796875, 13409.384765625, 10655.125, 15546.443359375, 14198.935546875, 13334.0361328125, 8873.109375, 8467.6201171875, 12514.076171875, 14199.4775390625, 10071.00390625, 31576.810546875, 13534.8828125, 14693.1220703125, 20540.41015625, 14546.759765625, 16185.5244140625, 12227.7919921875, 12766.6142578125, 14347.6396484375, 12770.8427734375, 20221.462890625, 2933.08935546875, 2758.496337890625, 2614.767822265625, 2202.21484375, 2141.023681640625, 1824.904541015625, 1799.1966552734375, 1417.12060546875, 1297.3148193359375, 1277.2320556640625, 1320.2333984375, 1175.8214111328125, 1093.302001953125, 1076.1973876953125, 1064.7681884765625, 969.08251953125, 950.56884765625, 934.0008544921875, 1295.373779296875, 897.9329833984375, 1027.74755859375, 854.2268676757812, 864.9439086914062, 836.556640625, 963.4692993164062, 841.1249389648438, 811.9661865234375, 1413.39892578125, 786.3511352539062, 1614.430908203125, 5383.9150390625, 2589.227783203125, 3240.43603515625, 2897.586669921875, 3220.8076171875, 3942.170166015625, 1841.9837646484375, 4222.0087890625, 3204.218017578125, 2248.26611328125, 8360.4140625, 9110.75, 7709.11669921875, 3421.686279296875, 3745.102783203125, 14459.779296875, 4744.6767578125, 5448.65380859375, 2699.38720703125, 12380.7548828125, 9566.57421875, 3212.7763671875, 4975.83447265625, 7345.33349609375, 4279.3310546875, 5513.15966796875, 4390.27197265625, 4453.9189453125, 8823.5712890625, 8055.45556640625, 11115.994140625, 15829.427734375, 7644.42578125, 17354.1328125, 7564.09521484375, 9484.5517578125, 5956.21875, 5797.41552734375, 10190.48828125, 20221.462890625, 14572.0859375, 10597.62109375, 10606.216796875, 8239.3857421875, 11919.685546875, 11832.98046875, 10544.873046875, 14207.3125, 8981.0341796875, 11526.609375, 9565.244140625, 7476.33447265625, 4711.02587890625, 3953.7490234375, 3929.8974609375, 8641.267578125, 3338.01171875, 2804.17236328125, 2777.35546875, 2533.984375, 2162.601318359375, 1901.60400390625, 2447.23779296875, 1828.0277099609375, 1724.2596435546875, 1694.3487548828125, 1774.6798095703125, 1604.71728515625, 1527.3658447265625, 1504.647705078125, 1443.8841552734375, 3414.1171875, 5384.75341796875, 1356.829345703125, 1264.476806640625, 1256.555908203125, 1110.984619140625, 2031.3074951171875, 1045.5821533203125, 991.5379638671875, 3880.82958984375, 3419.515869140625, 2667.11669921875, 9055.396484375, 12102.255859375, 8399.314453125, 3380.770751953125, 6196.91455078125, 2600.48291015625, 4334.59765625, 8418.2763671875, 9917.0546875, 3178.351806640625, 8393.6572265625, 3354.61083984375, 13028.712890625, 7958.54248046875, 6542.68359375, 17199.361328125, 23394.966796875, 8769.9150390625, 15024.046875, 5768.47216796875, 11176.4326171875, 24176.208984375, 6159.33740234375, 9238.056640625, 16046.4931640625, 5726.4375, 10168.576171875, 11799.32421875, 6436.58740234375, 11859.69140625, 7532.96142578125, 18641.5625, 31576.810546875, 12522.5224609375, 8906.5078125, 17354.1328125, 15407.3798828125, 2622.58056640625, 2170.950439453125, 856.998779296875, 901.2882690429688, 802.2870483398438, 779.2269287109375, 1349.858642578125, 709.3837280273438, 694.7965087890625, 775.2774658203125, 642.4866333007812, 622.2630615234375, 604.190185546875, 588.8579711914062, 534.80224609375, 516.4227905273438, 492.0589904785156, 502.329833984375, 512.6032104492188, 459.23492431640625, 1086.48681640625, 452.01611328125, 432.513916015625, 1875.7581787109375, 418.78973388671875, 495.2129211425781, 441.1627197265625, 380.46844482421875, 382.41766357421875, 404.3887939453125, 8198.861328125, 1266.15966796875, 784.8588256835938, 567.9873046875, 5914.34619140625, 1855.0169677734375, 1445.71533203125, 1409.4017333984375, 6352.03125, 4419.59716796875, 1132.496826171875, 9449.3603515625, 6093.521484375, 1064.8778076171875, 3411.135986328125, 4216.93359375, 2976.445556640625, 1429.2943115234375, 1352.39599609375, 9869.7109375, 3936.606201171875, 3717.794189453125, 8497.1298828125, 10168.576171875, 9086.92578125, 4133.5859375, 20847.18359375, 7694.5263671875, 5874.5732421875, 6770.41796875, 10557.654296875, 4686.35986328125, 9916.7294921875, 11859.69140625, 13409.384765625, 11460.67578125, 52.18939971923828, 37.51828384399414, 35.41149139404297, 35.84707260131836, 33.964515686035156, 30.268991470336914, 30.722625732421875, 29.004619598388672, 26.32326889038086, 26.466060638427734, 56.50883483886719, 24.62139129638672, 22.5791015625, 25.821569442749023, 21.15785789489746, 21.926233291625977, 84.51726531982422, 21.369796752929688, 20.405990600585938, 22.497730255126953, 20.027246475219727, 19.661848068237305, 22.79757308959961, 20.304370880126953, 19.44887924194336, 19.68975257873535, 19.602941513061523, 19.192373275756836, 21.92902183532715, 18.923690795898438, 20.66792869567871, 35.21981430053711], \"loglift\": [30.0, 29.0, 28.0, 27.0, 26.0, 25.0, 24.0, 23.0, 22.0, 21.0, 20.0, 19.0, 18.0, 17.0, 16.0, 15.0, 14.0, 13.0, 12.0, 11.0, 10.0, 9.0, 8.0, 7.0, 6.0, 5.0, 4.0, 3.0, 2.0, 1.0, 0.7663999795913696, 0.7657999992370605, 0.765500009059906, 0.765500009059906, 0.7653999924659729, 0.7652999758720398, 0.7652000188827515, 0.7652000188827515, 0.7651000022888184, 0.7651000022888184, 0.7645999789237976, 0.7645000219345093, 0.7645000219345093, 0.76419997215271, 0.7641000151634216, 0.7639999985694885, 0.7634999752044678, 0.7633000016212463, 0.7633000016212463, 0.7631999850273132, 0.7630000114440918, 0.7628999948501587, 0.7628999948501587, 0.7628999948501587, 0.7628999948501587, 0.7627999782562256, 0.7627000212669373, 0.7627000212669373, 0.762499988079071, 0.7623999714851379, 0.7616999745368958, 0.7524999976158142, 0.7609999775886536, 0.7620000243186951, 0.7602999806404114, 0.7594000101089478, 0.7605999708175659, 0.7472000122070312, 0.7605000138282776, 0.7293999791145325, 0.7454000115394592, 0.7538999915122986, 0.7560999989509583, 0.7479000091552734, 0.7229999899864197, 0.7512000203132629, 0.7583000063896179, 0.715399980545044, 0.7157999873161316, 0.7340999841690063, 0.7156999707221985, 0.6916000247001648, 0.7184000015258789, 0.7146999835968018, 0.745199978351593, 0.6635000109672546, 0.6306999921798706, 0.6865000128746033, 0.6725000143051147, 0.715499997138977, 0.6886000037193298, 0.7175999879837036, 0.6881999969482422, 0.6036999821662903, 0.6381999850273132, 0.5658000111579895, 0.5726000070571899, 0.5526000261306763, 0.6503000259399414, 0.6539000272750854, 0.5167999863624573, 0.47279998660087585, 0.5821999907493591, 0.147599995136261, 0.46959999203681946, 0.4251999855041504, 0.2549999952316284, 0.4115999937057495, 0.3393999934196472, 0.49070000648498535, 0.461899995803833, 0.37209999561309814, 0.4474000036716461, 0.10300000011920929, 1.4531999826431274, 1.4529999494552612, 1.4527000188827515, 1.4519000053405762, 1.45169997215271, 1.450600028038025, 1.450600028038025, 1.4486000537872314, 1.4479999542236328, 1.4478000402450562, 1.4470000267028809, 1.4469000101089478, 1.4463000297546387, 1.4460999965667725, 1.445199966430664, 1.4449000358581543, 1.4444999694824219, 1.444100022315979, 1.4437999725341797, 1.4436999559402466, 1.44350004196167, 1.4431999921798706, 1.4430999755859375, 1.4428999423980713, 1.4427000284194946, 1.4423999786376953, 1.4422999620437622, 1.4419000148773193, 1.4417999982833862, 1.44159996509552, 1.440600037574768, 1.4341000318527222, 1.4291000366210938, 1.4286999702453613, 1.424399971961975, 1.4192999601364136, 1.429900050163269, 1.4092999696731567, 1.4043999910354614, 1.4143999814987183, 1.3428000211715698, 1.3115999698638916, 1.3163000345230103, 1.3697999715805054, 1.3621000051498413, 1.2430000305175781, 1.3285000324249268, 1.3077000379562378, 1.376099944114685, 1.2131999731063843, 1.2201999425888062, 1.3453999757766724, 1.285099983215332, 1.215999960899353, 1.2976000308990479, 1.250599980354309, 1.2848000526428223, 1.2792999744415283, 1.1327999830245972, 1.1328999996185303, 1.0206999778747559, 0.7979999780654907, 1.045199990272522, 0.7085999846458435, 1.0204999446868896, 0.9136999845504761, 1.0923999547958374, 1.0990999937057495, 0.7886000275611877, 0.38440001010894775, 0.5113000273704529, 0.6771000027656555, 0.6636000275611877, 0.838699996471405, 0.5356000065803528, 0.5200999975204468, 0.5997999906539917, 0.31189998984336853, 0.7243000268936157, 0.4837999939918518, 1.5269999504089355, 1.5267000198364258, 1.5255999565124512, 1.5252000093460083, 1.5252000093460083, 1.5247000455856323, 1.5246000289916992, 1.523900032043457, 1.523800015449524, 1.5233999490737915, 1.5224000215530396, 1.5217000246047974, 1.5216000080108643, 1.5214999914169312, 1.5211000442504883, 1.5210000276565552, 1.520799994468689, 1.520300030708313, 1.5198999643325806, 1.5198999643325806, 1.519700050354004, 1.5190999507904053, 1.5190000534057617, 1.5189000368118286, 1.5185999870300293, 1.5175000429153442, 1.516800045967102, 1.5164999961853027, 1.5163999795913696, 1.5153000354766846, 1.5140999555587769, 1.50600004196167, 1.5082999467849731, 1.4944000244140625, 1.4880000352859497, 1.4926999807357788, 1.5037000179290771, 1.4875999689102173, 1.5080000162124634, 1.4919999837875366, 1.4697999954223633, 1.4570000171661377, 1.500599980354309, 1.4579999446868896, 1.4954999685287476, 1.4213999509811401, 1.4464999437332153, 1.4564000368118286, 1.3828999996185303, 1.3382999897003174, 1.3996000289916992, 1.3392000198364258, 1.4385000467300415, 1.364400029182434, 1.256700038909912, 1.4184999465942383, 1.330399990081787, 1.2283999919891357, 1.4045000076293945, 1.2380000352859497, 1.187999963760376, 1.3681000471115112, 1.1456999778747559, 1.2956000566482544, 0.871999979019165, 0.5730000138282776, 0.9995999932289124, 1.17739999294281, 0.6998000144958496, 0.5843999981880188, 2.462399959564209, 2.4612998962402344, 2.4511001110076904, 2.4502999782562256, 2.450000047683716, 2.449199914932251, 2.4482998847961426, 2.447700023651123, 2.4472999572753906, 2.4465999603271484, 2.444999933242798, 2.4449000358581543, 2.4442999362945557, 2.4433999061584473, 2.440700054168701, 2.438199996948242, 2.4381000995635986, 2.4372000694274902, 2.4368999004364014, 2.4365999698638916, 2.4347000122070312, 2.4340999126434326, 2.4337000846862793, 2.4335999488830566, 2.4333999156951904, 2.4321000576019287, 2.430299997329712, 2.4300999641418457, 2.4298999309539795, 2.4296000003814697, 2.374000072479248, 2.4049999713897705, 2.3945999145507812, 2.4110000133514404, 2.1614999771118164, 2.2476000785827637, 2.231100082397461, 2.220400094985962, 1.858199954032898, 1.8932000398635864, 2.232800006866455, 1.669800043106079, 1.7086000442504883, 2.228300094604492, 1.8588000535964966, 1.7390999794006348, 1.8387000560760498, 2.115000009536743, 2.1136999130249023, 1.2086999416351318, 1.554900050163269, 1.5404000282287598, 1.0743000507354736, 0.911899983882904, 0.9343000054359436, 1.4211000204086304, 0.4146000146865845, 1.010699987411499, 1.170300006866455, 1.0618000030517578, 0.7566999793052673, 1.294700026512146, 0.692300021648407, 0.5044000148773193, 0.39649999141693115, 0.4343999922275543, 5.922100067138672, 5.735000133514404, 5.653900146484375, 5.6427998542785645, 5.623300075531006, 5.527900218963623, 5.504899978637695, 5.490499973297119, 5.3471999168396, 5.328499794006348, 5.256199836730957, 5.190800189971924, 4.986999988555908, 4.939899921417236, 4.853400230407715, 4.832499980926514, 4.685400009155273, 4.591000080108643, 4.572800159454346, 4.552299976348877, 4.539899826049805, 4.5278000831604, 4.519999980926514, 4.49560022354126, 4.474800109863281, 4.45550012588501, 4.426599979400635, 4.3917999267578125, 4.372000217437744, 4.349699974060059, 4.347899913787842, 4.029200077056885], \"logprob\": [30.0, 29.0, 28.0, 27.0, 26.0, 25.0, 24.0, 23.0, 22.0, 21.0, 20.0, 19.0, 18.0, 17.0, 16.0, 15.0, 14.0, 13.0, 12.0, 11.0, 10.0, 9.0, 8.0, 7.0, 6.0, 5.0, 4.0, 3.0, 2.0, 1.0, -6.8231000900268555, -7.089300155639648, -7.392399787902832, -7.428400039672852, -7.2540998458862305, -7.307199954986572, -7.511000156402588, -7.618800163269043, -7.61870002746582, -7.599699974060059, -7.776100158691406, -7.801799774169922, -7.80019998550415, -7.838699817657471, -7.747700214385986, -7.776000022888184, -7.857399940490723, -8.073100090026855, -7.970600128173828, -8.099699974060059, -8.107000350952148, -7.496699810028076, -7.966300010681152, -8.114800453186035, -8.106300354003906, -8.070500373840332, -8.1806001663208, -8.142499923706055, -6.866799831390381, -8.216300010681152, -6.78879976272583, -6.1296000480651855, -6.9756999015808105, -7.117599964141846, -7.125999927520752, -7.439700126647949, -7.67710018157959, -6.428299903869629, -7.747900009155273, -5.627399921417236, -6.565400123596191, -7.262400150299072, -7.388599872589111, -7.055300235748291, -6.183499813079834, -7.357399940490723, -7.59119987487793, -6.357100009918213, -6.374800205230713, -6.958899974822998, -6.5355000495910645, -5.961699962615967, -6.691199779510498, -6.714799880981445, -7.269499778747559, -6.276400089263916, -5.912799835205078, -6.570700168609619, -6.527100086212158, -6.965400218963623, -6.744100093841553, -7.0518999099731445, -6.864200115203857, -6.38100004196167, -6.576499938964844, -6.271100044250488, -6.355000019073486, -6.43779993057251, -6.747399806976318, -6.790500164031982, -6.537099838256836, -6.454699993133545, -6.688799858093262, -5.980599880218506, -6.505899906158447, -6.468100070953369, -6.303299903869629, -6.491700172424316, -6.457099914550781, -6.586299896240234, -6.571899890899658, -6.545000076293945, -6.586100101470947, -6.4710001945495605, -7.051400184631348, -7.11299991607666, -7.166900157928467, -7.339399814605713, -7.367800235748291, -7.528600215911865, -7.542799949645996, -7.783400058746338, -7.872399806976318, -7.888199806213379, -7.855899810791016, -7.971799850463867, -8.04520034790039, -8.061200141906738, -8.072799682617188, -8.1673002243042, -8.18690013885498, -8.204899787902832, -7.8780999183654785, -8.24470043182373, -8.10990047454834, -8.295100212097168, -8.282699584960938, -8.316300392150879, -8.175200462341309, -8.311400413513184, -8.346699714660645, -7.792799949645996, -8.379300117492676, -7.660099983215332, -6.456699848175049, -7.195300102233887, -6.975900173187256, -7.088200092315674, -6.986599922180176, -6.789700031280518, -7.539999961853027, -6.731100082397461, -7.0117998123168945, -7.356200218200684, -6.1143999099731445, -6.059700012207031, -6.2220001220703125, -6.980800151824951, -6.898200035095215, -5.666299819946289, -6.695199966430664, -6.577700138092041, -7.211599826812744, -5.851399898529053, -6.10230016708374, -7.06820011138916, -6.690999984741211, -6.37060022354126, -6.8292999267578125, -6.623000144958496, -6.816500186920166, -6.807600021362305, -6.270400047302246, -6.361400127410889, -6.151599884033203, -6.0208001136779785, -6.501500129699707, -6.0183000564575195, -6.536799907684326, -6.417300224304199, -6.703800201416016, -6.7241997718811035, -6.470600128173828, -6.189499855041504, -6.3902997970581055, -6.543000221252441, -6.555600166320801, -6.6331000328063965, -6.56689977645874, -6.589700222015381, -6.62529993057251, -6.615099906921387, -6.661300182342529, -6.652200222015381, -5.795499801635742, -6.042300224304199, -6.505199909210205, -6.6809000968933105, -6.6869001388549805, -5.899400234222412, -6.850800037384033, -7.025700092315674, -7.035399913787842, -7.127500057220459, -7.2870001792907715, -7.416299819946289, -7.164100170135498, -7.455999851226807, -7.514800071716309, -7.532400131225586, -7.486199855804443, -7.587399959564209, -7.637199878692627, -7.652299880981445, -7.693600177764893, -6.833700180053711, -6.3780999183654785, -7.7565999031066895, -7.827499866485596, -7.834799766540527, -7.958700180053711, -7.355500221252441, -8.019700050354004, -8.07390022277832, -6.710599899291992, -6.845200061798096, -7.091400146484375, -5.882999897003174, -5.599299907684326, -5.95989990234375, -6.85890007019043, -6.269000053405762, -7.117000102996826, -6.622099876403809, -5.980500221252441, -5.829500198364258, -6.923699855804443, -5.995299816131592, -6.874899864196777, -5.592100143432617, -6.059999942779541, -6.245999813079834, -5.35290002822876, -5.089900016784668, -6.009799957275391, -5.531799793243408, -6.389800071716309, -5.802499771118164, -5.138700008392334, -6.344200134277344, -6.0269999504089355, -5.5767998695373535, -6.431099891662598, -6.023399829864502, -5.924699783325195, -6.350599765777588, -5.961900234222412, -6.2657999992370605, -5.783299922943115, -5.555300235748291, -6.053599834442139, -6.2164998054504395, -6.027100086212158, -6.26140022277832, -6.154099941253662, -6.344200134277344, -7.283899784088135, -7.234300136566162, -7.35099983215332, -7.38100004196167, -6.832399845123291, -7.476399898529053, -7.497499942779541, -7.388599872589111, -7.578199863433838, -7.610199928283691, -7.6402997970581055, -7.666900157928467, -7.765900135040283, -7.803299903869629, -7.8516998291015625, -7.831999778747559, -7.812099933624268, -7.922299861907959, -7.0630998611450195, -7.940700054168701, -7.985199928283691, -6.518099784851074, -8.0177001953125, -7.851399898529053, -7.968800067901611, -8.116900444030762, -8.112099647521973, -8.056500434875488, -5.102700233459473, -6.939700126647949, -7.428299903869629, -7.735400199890137, -5.6417999267578125, -6.715199947357178, -6.980999946594238, -7.017099857330322, -5.873700141906738, -6.201499938964844, -7.223499774932861, -5.664899826049805, -6.064899921417236, -7.2895002365112305, -6.494800090789795, -6.402500152587891, -6.651299953460693, -7.108500003814697, -7.16510009765625, -6.082499980926514, -6.6554999351501465, -6.727200031280518, -6.366700172424316, -6.3495001792907715, -6.439499855041504, -6.7403998374938965, -6.128900051116943, -6.5295000076293945, -6.639800071716309, -6.606400012969971, -6.467100143432617, -6.741399765014648, -6.594200134277344, -6.603099822998047, -6.5883002281188965, -6.707399845123291, -6.611499786376953, -7.128699779510498, -7.267499923706055, -7.26639986038208, -7.339799880981445, -7.55049991607666, -7.558499813079834, -7.630499839782715, -7.870800018310547, -7.884099960327148, -7.197800159454346, -8.094099998474121, -8.384499549865723, -8.29740047454834, -8.583000183105469, -8.568300247192383, -7.366099834442139, -8.83549976348877, -8.899800300598145, -8.822799682617188, -8.951399803161621, -8.982000350952148, -8.84179973602295, -8.982000350952148, -9.045900344848633, -9.052800178527832, -9.086199760437012, -9.14210033416748, -9.028599739074707, -9.198399543762207, -9.112000465393066, -8.897600173950195]}, \"token.table\": {\"Topic\": [1, 2, 3, 4, 1, 2, 3, 4, 1, 2, 3, 4, 1, 2, 3, 4, 1, 2, 3, 4, 1, 2, 3, 4, 1, 2, 3, 4, 1, 2, 3, 4, 1, 2, 3, 4, 1, 2, 3, 4, 1, 2, 3, 4, 1, 2, 3, 4, 1, 2, 3, 4, 1, 2, 3, 4, 1, 2, 3, 4, 5, 1, 2, 3, 4, 1, 2, 3, 4, 1, 2, 3, 4, 1, 2, 3, 4, 1, 2, 3, 4, 1, 2, 3, 4, 1, 2, 3, 4, 1, 2, 3, 4, 1, 2, 3, 4, 5, 1, 2, 3, 4, 1, 2, 3, 4, 1, 2, 3, 4, 1, 2, 3, 4, 1, 2, 3, 4, 1, 2, 3, 4, 5, 1, 2, 3, 4, 1, 2, 3, 4, 1, 2, 3, 4, 1, 2, 3, 4, 1, 2, 3, 4, 1, 2, 3, 4, 1, 2, 3, 4, 1, 2, 3, 4, 1, 2, 3, 4, 1, 2, 3, 4, 1, 2, 3, 4, 1, 2, 3, 4, 1, 2, 3, 4, 5, 1, 2, 3, 4, 5, 1, 2, 3, 4, 5, 1, 2, 3, 4, 1, 2, 3, 4, 1, 2, 3, 4, 1, 2, 3, 4, 1, 2, 3, 4, 1, 2, 3, 4, 1, 2, 3, 4, 1, 2, 3, 4, 1, 2, 3, 4, 1, 2, 3, 4, 1, 2, 3, 4, 1, 2, 3, 4, 1, 2, 3, 4, 1, 2, 3, 4, 1, 2, 3, 4, 1, 2, 3, 4, 1, 2, 3, 4, 1, 2, 3, 4, 1, 2, 3, 4, 1, 2, 3, 4, 1, 2, 3, 4, 1, 2, 3, 4, 5, 1, 2, 3, 4, 5, 1, 2, 3, 4, 5, 1, 2, 3, 4, 5, 1, 2, 3, 4, 1, 2, 3, 4, 1, 2, 3, 4, 1, 2, 3, 4, 1, 2, 3, 4, 1, 2, 3, 4, 1, 2, 3, 4, 1, 2, 3, 4, 1, 2, 3, 4, 1, 2, 3, 4, 1, 2, 3, 4, 1, 2, 3, 4, 1, 2, 3, 4, 1, 2, 3, 4, 1, 2, 3, 4, 1, 2, 3, 4, 1, 2, 3, 4, 1, 2, 3, 4, 1, 2, 3, 4, 1, 2, 3, 4, 1, 2, 3, 4, 5, 1, 2, 3, 4, 1, 2, 3, 4, 1, 2, 3, 4, 1, 2, 3, 4, 1, 2, 3, 4, 1, 2, 3, 4, 1, 2, 3, 4, 1, 2, 3, 4, 1, 2, 3, 4, 1, 2, 3, 4, 1, 2, 3, 4, 1, 2, 3, 4, 1, 2, 3, 4, 1, 2, 3, 4, 1, 2, 3, 4, 1, 2, 3, 4, 1, 2, 3, 4, 1, 2, 3, 4, 1, 2, 3, 4, 1, 2, 3, 4, 1, 2, 3, 4, 1, 2, 3, 4, 1, 2, 3, 4, 5, 1, 2, 3, 4, 5, 1, 2, 3, 4, 1, 2, 3, 4, 5, 1, 2, 3, 4, 1, 2, 3, 4, 1, 2, 3, 4, 1, 2, 3, 4, 5, 1, 2, 3, 4, 1, 2, 3, 4, 1, 2, 3, 4, 1, 2, 3, 4, 5, 1, 2, 3, 4, 1, 2, 3, 4, 1, 2, 3, 4, 1, 2, 3, 4, 1, 2, 3, 4, 1, 2, 3, 4, 1, 2, 3, 4, 1, 2, 3, 4, 5, 1, 2, 3, 4, 1, 2, 3, 4, 5, 1, 2, 3, 4, 1, 2, 3, 4, 1, 2, 3, 4, 5, 1, 2, 3, 4, 1, 2, 3, 4, 1, 2, 3, 4, 1, 2, 3, 4, 1, 2, 3, 4, 1, 2, 3, 4, 1, 2, 3, 4, 1, 2, 3, 4, 1, 2, 3, 4, 1, 2, 3, 4, 1, 2, 3, 4, 1, 2, 3, 4, 1, 2, 3, 4, 1, 2, 3, 4, 1, 2, 3, 4, 1, 2, 3, 4, 1, 2, 3, 4, 1, 2, 3, 4, 1, 2, 3, 4, 1, 2, 3, 4, 1, 2, 3, 4, 1, 2, 3, 4, 1, 2, 3, 4, 1, 2, 3, 4, 1, 2, 3, 4, 1, 2, 3, 4, 1, 2, 3, 4, 1, 2, 3, 4, 1, 2, 3, 4, 5, 1, 2, 3, 4, 1, 2, 3, 4, 1, 2, 3, 4, 1, 2, 3, 4, 1, 2, 3, 4, 1, 2, 3, 4, 1, 2, 3, 4, 1, 2, 3, 4, 1, 2, 3, 4, 1, 2, 3, 4, 1, 2, 3, 4, 1, 2, 3, 4, 5, 1, 2, 3, 4, 1, 2, 3, 4, 1, 2, 3, 4, 1, 2, 3, 4, 1, 2, 3, 4, 1, 2, 3, 4, 1, 2, 3, 4, 1, 2, 3, 4, 1, 2, 3, 4, 1, 2, 3, 4, 1, 2, 3, 4, 1, 2, 3, 4, 1, 2, 3, 4, 1, 2, 3, 4, 1, 2, 3, 4, 1, 2, 3, 4, 1, 2, 3, 4, 1, 2, 3, 4, 1, 2, 3, 4, 1, 2, 3, 4, 1, 2, 3, 4, 1, 2, 3, 4, 1, 2, 3, 4, 5, 1, 2, 3, 4, 1, 2, 3, 4, 1, 2, 3, 4, 1, 2, 3, 4, 1, 2, 3, 4, 1, 2, 3, 4, 1, 2, 3, 4, 5, 1, 2, 3, 4, 1, 2, 3, 4, 1, 2, 3, 4, 1, 2, 3, 4, 1, 2, 3, 4, 1, 2, 3, 4, 1, 2, 3, 4, 1, 2, 3, 4, 1, 2, 3, 4, 1, 2, 3, 4, 1, 2, 3, 4, 1, 2, 3, 4, 1, 2, 3, 4, 5, 1, 2, 3, 4, 1, 2, 3, 4, 1, 2, 3, 4, 1, 2, 3, 4, 1, 2, 3, 4, 1, 2, 3, 4, 1, 2, 3, 4, 5, 1, 2, 3, 4, 1, 2, 3, 4, 1, 2, 3, 4, 1, 2, 3, 4, 1, 2, 3, 4, 1, 2, 3, 4, 1, 2, 3, 4, 5, 1, 2, 3, 4, 1, 2, 3, 4, 1, 2, 3, 4, 1, 2, 3, 4, 1, 2, 3, 4, 1, 2, 3, 4, 1, 2, 3, 4, 1, 2, 3, 4, 1, 2, 3, 4, 1, 2, 3, 4, 1, 2, 3, 4, 1, 2, 3, 4, 1, 2, 3, 4, 1, 2, 3, 4, 5, 1, 2, 3, 4, 1, 2, 3, 4, 1, 2, 3, 4, 1, 2, 3, 4, 1, 2, 3, 4, 1, 2, 3, 4, 1, 2, 3, 4, 1, 2, 3, 4, 1, 2, 3, 4, 1, 2, 3, 4, 1, 2, 3, 4, 1, 2, 3, 4, 1, 2, 3, 4, 1, 2, 3, 4, 1, 2, 3, 4, 1, 2, 3, 4, 1, 2, 3, 4, 1, 2, 3, 4, 5, 1, 2, 3, 4, 1, 2, 3, 4, 1, 2, 3, 4, 1, 2, 3, 4, 1, 2, 3, 4, 5, 1, 2, 3, 4, 1, 2, 3, 4, 1, 2, 3, 4, 1, 2, 3, 4, 1, 2, 3, 4, 5, 1, 2, 3, 4, 1, 2, 3, 4, 1, 2, 3, 4, 1, 2, 3, 4, 1, 2, 3, 4, 1, 2, 3, 4, 1, 2, 3, 4, 1, 2, 3, 4, 1, 2, 3, 4, 1, 2, 3, 4, 1, 2, 3, 4, 1, 2, 3, 4, 1, 2, 3, 4, 1, 2, 3, 4, 1, 2, 3, 4, 1, 2, 3, 4, 1, 2, 3, 4, 1, 2, 3, 4, 1, 2, 3, 4, 1, 2, 3, 4, 1, 2, 3, 4, 1, 2, 3, 4, 1, 2, 3, 4, 1, 2, 3, 4, 1, 2, 3, 4, 1, 2, 3, 4, 1, 2, 3, 4, 1, 2, 3, 4, 1, 2, 3, 4, 1, 2, 3, 4, 1, 2, 3, 4, 1, 2, 3, 4, 1, 2, 3, 4, 5, 1, 2, 3, 4, 1, 2, 3, 4, 1, 2, 3, 4, 1, 2, 3, 4, 5, 1, 2, 3, 4, 1, 2, 3, 4, 1, 2, 3, 4, 1, 2, 3, 4, 1, 2, 3, 4, 1, 2, 3, 4, 1, 2, 3, 4, 1, 2, 3, 4, 1, 2, 3, 4, 1, 2, 3, 4], \"Freq\": [0.25697699189186096, 0.12098201364278793, 0.5893381237983704, 0.03266115114092827, 0.005575185641646385, 0.9886662364006042, 0.0037167903501540422, 0.0018583951750770211, 0.994745135307312, 0.0019001817563548684, 0.0019001817563548684, 0.0009500908781774342, 0.9505148530006409, 0.032691825181245804, 0.0006538365269079804, 0.01601899415254593, 0.9213130474090576, 0.06766872107982635, 0.004504719283431768, 0.006463292986154556, 0.0017535213846713305, 0.9162149429321289, 0.0596197247505188, 0.022503525018692017, 0.9955308437347412, 0.0017170245992019773, 0.0013736196560785174, 0.0010302147129550576, 0.0007143440307117999, 0.03405039757490158, 0.9649596810340881, 0.0002381146769039333, 0.00424508610740304, 0.9848599433898926, 0.009197686798870564, 0.00141502870246768, 0.022501137107610703, 0.9531008005142212, 0.023922262713313103, 0.00047370814718306065, 0.3561581075191498, 0.5806283950805664, 0.05798903480172157, 0.005271730478852987, 0.0017747431993484497, 0.021888500079512596, 0.975517213344574, 0.0005915811052545905, 0.007478619925677776, 0.004985746927559376, 0.004985746927559376, 0.9821920990943909, 0.005102815572172403, 0.9899462461471558, 0.00340187712572515, 0.001700938562862575, 0.1599220335483551, 0.10661468654870987, 0.10661468654870987, 0.053307343274354935, 0.5597270727157593, 0.11959865689277649, 0.8684523105621338, 0.0116744888946414, 0.00025943308719433844, 0.1889704018831253, 0.5386323928833008, 0.25086820125579834, 0.021482184529304504, 0.004697658587247133, 0.9904230237007141, 0.003131772391498089, 0.0015658861957490444, 0.9944512844085693, 0.0018941930029541254, 0.002367741195484996, 0.0014206446940079331, 0.19299015402793884, 0.002156314440071583, 0.002156314440071583, 0.8021489977836609, 0.4552874267101288, 0.0006297198124229908, 0.0006297198124229908, 0.5434482097625732, 0.007133304141461849, 0.9855848550796509, 0.0047555360943078995, 0.0023777680471539497, 0.0022946589160710573, 0.9951170086860657, 0.0015297725331038237, 0.0007648862665519118, 0.22670544683933258, 0.15113696455955505, 0.15113696455955505, 0.07556848227977753, 0.37784239649772644, 0.6049755215644836, 0.0419778935611248, 0.12021532654762268, 0.23289282619953156, 0.9967926144599915, 0.0012085996568202972, 0.0012085996568202972, 0.0006042998284101486, 0.29207420349121094, 0.00295771355740726, 0.00295771355740726, 0.7017175555229187, 0.007001176942139864, 0.00466745113953948, 0.00466745113953948, 0.9836653470993042, 0.9966104626655579, 0.001208745175972581, 0.001208745175972581, 0.0006043725879862905, 0.3126241862773895, 0.20841611921787262, 0.20841611921787262, 0.10420805960893631, 0.15631209313869476, 0.6022388339042664, 0.001075906795449555, 0.001075906795449555, 0.39539575576782227, 0.18491467833518982, 0.7887881398200989, 0.021324247121810913, 0.0050174701027572155, 0.06630060076713562, 0.7855327725410461, 0.14798511564731598, 0.00027228170074522495, 0.00933871604502201, 0.006225810386240482, 0.006225810386240482, 0.9774522185325623, 0.010189213789999485, 0.006792809348553419, 0.006792809348553419, 0.9747681617736816, 0.027809767052531242, 0.022838188335299492, 0.8520042896270752, 0.09725650399923325, 0.0054006148129701614, 0.00450051249936223, 0.9883124828338623, 0.0018002049764618278, 0.01577003300189972, 0.010513355024158955, 0.010513355024158955, 0.9619719982147217, 0.4482158124446869, 0.5171380639076233, 0.021542156115174294, 0.013076909817755222, 0.006051205564290285, 0.005042671225965023, 0.9873550534248352, 0.0020170684438198805, 0.0029537626542150974, 0.007876699790358543, 0.9885258674621582, 0.000984587473794818, 0.5375146865844727, 0.05880897864699364, 0.38471269607543945, 0.018969617784023285, 0.19822266697883606, 0.13214844465255737, 0.13214844465255737, 0.06607422232627869, 0.4625195264816284, 0.3098185062408447, 0.15490925312042236, 0.15490925312042236, 0.11618193984031677, 0.23236387968063354, 0.30850106477737427, 0.2056673765182495, 0.2056673765182495, 0.10283368825912476, 0.15425053238868713, 0.011219100095331669, 0.007479400373995304, 0.007479400373995304, 0.9723220467567444, 0.017465509474277496, 0.06081515550613403, 0.9213998913764954, 0.00025130229187197983, 0.0026687232311815023, 0.9580716490745544, 0.03869648650288582, 0.0008895744103938341, 0.007023895159363747, 0.9856866002082825, 0.004682596772909164, 0.002341298386454582, 0.9617443680763245, 0.0001990035525523126, 0.002069636946544051, 0.036019641906023026, 0.8778874278068542, 0.012200701981782913, 0.06560223549604416, 0.04439178481698036, 0.05125117301940918, 0.08519675582647324, 0.8277397155761719, 0.03580925986170769, 0.5252655148506165, 0.3978292942047119, 0.05318932235240936, 0.02374223619699478, 0.06825830042362213, 0.8070662617683411, 0.11397130787372589, 0.010788545943796635, 0.9973666667938232, 0.0007122776005417109, 0.0007122776005417109, 0.0010684164008125663, 0.22975541651248932, 0.19166848063468933, 0.5187869668006897, 0.05981258302927017, 0.0035411836579442024, 0.002360789105296135, 0.9927117824554443, 0.0011803945526480675, 0.0021750980522483587, 0.995469868183136, 0.0014500654069706798, 0.0007250327034853399, 0.12545619904994965, 0.8642537593841553, 0.009988200850784779, 0.0002195208944613114, 0.19059640169143677, 0.6621818542480469, 0.13002938032150269, 0.017136670649051666, 0.0011142571456730366, 0.007799800019711256, 0.990760326385498, 0.00037141903885640204, 0.025170933455228806, 0.23535245656967163, 0.711566150188446, 0.027967702597379684, 0.6393656134605408, 0.03642817959189415, 0.05089731514453888, 0.2732113301753998, 0.001754634315147996, 0.019593417644500732, 0.9779161810874939, 0.0005848781438544393, 0.0004957753117196262, 0.0004131461028009653, 0.9604820609092712, 0.038587845861911774, 0.0033808916341513395, 0.0028174095787107944, 0.9922916889190674, 0.0016904458170756698, 0.22793520987033844, 0.15195681154727936, 0.15195681154727936, 0.07597840577363968, 0.3798920214176178, 0.2955028712749481, 0.19700191915035248, 0.19700191915035248, 0.14775143563747406, 0.14775143563747406, 0.26573243737220764, 0.17715497314929962, 0.17715497314929962, 0.08857748657464981, 0.26573243737220764, 0.1952739655971527, 0.11158512532711029, 0.11158512532711029, 0.055792562663555145, 0.5021330714225769, 0.00392833212390542, 0.0026188879273831844, 0.9919037818908691, 0.00196416606195271, 0.9769281148910522, 0.014203786849975586, 0.000835516897495836, 0.007728531491011381, 0.9920864701271057, 0.0017110839253291488, 0.0013688672333955765, 0.004791035316884518, 0.006682013161480427, 0.9867106080055237, 0.00445467559620738, 0.00222733779810369, 0.008458045311272144, 0.005638697184622288, 0.005638697184622288, 0.9797236323356628, 0.035767100751399994, 0.96266770362854, 0.0010146695422008634, 0.0005073347711004317, 0.004233937244862318, 0.9914470314979553, 0.002822624985128641, 0.0014113124925643206, 0.7574548125267029, 0.18629692494869232, 0.0111222043633461, 0.045143064111471176, 0.40058720111846924, 0.21944604814052582, 0.2491999715566635, 0.13088233768939972, 0.3981858193874359, 0.14499545097351074, 0.38909924030303955, 0.06769483536481857, 0.9940673112869263, 0.0005682820337824523, 0.0005682820337824523, 0.004688326735049486, 0.0012736079515889287, 0.0008490719483233988, 0.9972350001335144, 0.0004245359741616994, 0.5984300971031189, 0.1104164868593216, 0.2400146871805191, 0.051118746399879456, 0.4595370888710022, 0.4582160413265228, 0.08143337070941925, 0.0007548864232376218, 0.0021603284403681755, 0.0014402189990505576, 0.995551347732544, 0.0007201094995252788, 0.02046942338347435, 0.9767391085624695, 0.0015448621707037091, 0.0007724310853518546, 0.9950105547904968, 0.0015319639351218939, 0.0015319639351218939, 0.0015319639351218939, 0.3931768536567688, 0.42418718338012695, 0.14594770967960358, 0.0367003008723259, 0.005635029170662165, 0.9880084991455078, 0.00375668634660542, 0.00187834317330271, 0.007644686847925186, 0.005096457898616791, 0.057335153222084045, 0.9288294315338135, 0.3060765266418457, 0.20405100286006927, 0.20405100286006927, 0.10202550143003464, 0.15303826332092285, 0.5898525714874268, 0.3777346611022949, 0.015529285185039043, 0.016917377710342407, 0.9944075345993042, 0.0019652321934700012, 0.0019652321934700012, 0.0009826160967350006, 0.9947547316551208, 0.0017150944331660867, 0.0017150944331660867, 0.0012863207375630736, 0.003334821667522192, 0.9932210445404053, 0.00222321436740458, 0.00111160718370229, 0.002802397822961211, 0.9943841695785522, 0.0018682652153074741, 0.0009341326076537371, 0.9969387650489807, 0.0010494092712178826, 0.0008395274053327739, 0.0010494092712178826, 0.9966204762458801, 0.0014821839286014438, 0.0011857472127303481, 0.0005928736063651741, 0.013872385956346989, 0.009248257614672184, 0.009248257614672184, 0.966442883014679, 0.9856036901473999, 0.0008368530543521047, 0.0027197725139558315, 0.010879090055823326, 0.21356579661369324, 0.002838083542883396, 0.002838083542883396, 0.780472993850708, 0.29360711574554443, 0.5123404860496521, 0.1616213023662567, 0.03248126804828644, 0.9556103348731995, 0.01813839003443718, 0.005448413547128439, 0.02075914479792118, 0.002774436492472887, 0.001849624328315258, 0.9941730499267578, 0.000924812164157629, 0.0010401367908343673, 0.05391375720500946, 0.9141068458557129, 0.031030746176838875, 0.0008025323040783405, 0.000535021536052227, 0.998350203037262, 0.0002675107680261135, 0.009930647909641266, 0.006620431784540415, 0.006620431784540415, 0.976513683795929, 0.44293341040611267, 0.48034557700157166, 0.0625763088464737, 0.014029564335942268, 0.008491757325828075, 0.9865878224372864, 0.003087911754846573, 0.0015439558774232864, 0.001526757376268506, 0.0010178382508456707, 0.9967181086540222, 0.0005089191254228354, 0.015867160633206367, 0.009066949598491192, 0.009066949598491192, 0.9633633494377136, 0.9955963492393494, 0.001504490152001381, 0.001504490152001381, 0.0011283676140010357, 0.013065208680927753, 0.008710138499736786, 0.008710138499736786, 0.9690029621124268, 0.2940312922000885, 0.24502608180046082, 0.19602087140083313, 0.09801043570041656, 0.19602087140083313, 0.2666935622692108, 0.17779570817947388, 0.17779570817947388, 0.22224463522434235, 0.17779570817947388, 0.014326998963952065, 0.009551332332193851, 0.009551332332193851, 0.9670724272727966, 0.30472704768180847, 0.20315136015415192, 0.20315136015415192, 0.10157568007707596, 0.15236352384090424, 0.04547698795795441, 0.06366778165102005, 0.18750512599945068, 0.7024445533752441, 0.816521167755127, 0.1225360631942749, 0.045347992330789566, 0.015566261485219002, 0.0022496203891932964, 0.01687215268611908, 0.9800845980644226, 0.0007498734630644321, 0.3051595091819763, 0.20343968272209167, 0.20343968272209167, 0.10171984136104584, 0.15257975459098816, 0.9483445882797241, 0.025399906560778618, 0.0054544671438634396, 0.020759539678692818, 0.7416391968727112, 0.17451204359531403, 0.06981959193944931, 0.013963918201625347, 0.011704959906637669, 0.00975413341075182, 0.007803306449204683, 0.9695608615875244, 0.3170628845691681, 0.21137525141239166, 0.21137525141239166, 0.10568762570619583, 0.15853144228458405, 0.012193660251796246, 0.00812910683453083, 0.00812910683453083, 0.9714282155036926, 0.0015175470616668463, 0.0010116980411112309, 0.9967754483222961, 0.0005058490205556154, 0.13567040860652924, 0.05402921512722969, 0.7923842668533325, 0.017921239137649536, 0.07738790661096573, 0.47291329503059387, 0.4366683065891266, 0.012965211644768715, 0.9957295060157776, 0.0014128832845017314, 0.0014128832845017314, 0.0014128832845017314, 0.9972108006477356, 0.0009641873766668141, 0.0009641873766668141, 0.0007231405470520258, 0.0022878230083733797, 0.0015252153389155865, 0.0015252153389155865, 0.9944403767585754, 0.13412685692310333, 0.0766439139842987, 0.0766439139842987, 0.03832195699214935, 0.6706342697143555, 0.9967911839485168, 0.001106562209315598, 0.0008852496976032853, 0.001106562209315598, 0.2835825979709625, 0.18905505537986755, 0.18905505537986755, 0.09452752768993378, 0.23631882667541504, 0.6998809576034546, 0.057744819670915604, 0.15893574059009552, 0.08338626474142075, 0.6727935671806335, 0.21913011372089386, 0.06307657808065414, 0.04502482712268829, 0.27361002564430237, 0.18240667879581451, 0.3192116916179657, 0.09120333939790726, 0.13680501282215118, 0.11315878480672836, 0.19582919776439667, 0.14716504514217377, 0.5438070893287659, 0.2546173930168152, 0.2636348605155945, 0.1978781372308731, 0.28379756212234497, 0.8481373190879822, 0.012528538703918457, 0.013423434458673, 0.12595656514167786, 0.010318886488676071, 0.005159443244338036, 0.005159443244338036, 0.9790043234825134, 0.015486173331737518, 0.008849241770803928, 0.008849241770803928, 0.9667797088623047, 0.009642223827540874, 0.006428149528801441, 0.006428149528801441, 0.9770787358283997, 0.20471832156181335, 0.003756299614906311, 0.003756299614906311, 0.7869447469711304, 0.29991844296455383, 0.45209333300590515, 0.20469127595424652, 0.04318222030997276, 0.9085974097251892, 0.0643451139330864, 0.00036979952710680664, 0.0267180148512125, 0.12902358174324036, 0.841667890548706, 0.0008038852829486132, 0.02833695523440838, 0.31966355443000793, 0.18805134296417236, 0.009722704999148846, 0.4823410212993622, 0.44373375177383423, 0.07735973596572876, 0.028679190203547478, 0.4500833749771118, 0.04051697999238968, 0.0004917109035886824, 0.7479906678199768, 0.21094398200511932, 0.9232779741287231, 0.05614370480179787, 0.01727498508989811, 0.003268240485340357, 0.9477837085723877, 0.04235124960541725, 0.004188585095107555, 0.005701129324734211, 0.002763766562566161, 0.0018425110029056668, 0.0018425110029056668, 0.9931133985519409, 0.003738976316526532, 0.0031158137135207653, 0.9920750856399536, 0.0012463254388421774, 0.9512293338775635, 0.000570281408727169, 0.00045622509787790477, 0.04778958112001419, 0.026368925347924232, 0.07683660089969635, 0.8834462761878967, 0.013271776959300041, 0.0013842114713042974, 0.02999124862253666, 0.9643340110778809, 0.004383336286991835, 0.0017885830020532012, 0.029511619359254837, 0.9676234126091003, 0.0008942915010266006, 0.14167149364948273, 0.7833124995231628, 0.06663567572832108, 0.008319363929331303, 0.9878188967704773, 0.0009514268022030592, 0.0009514268022030592, 0.010227838531136513, 0.04758720099925995, 0.04390303045511246, 0.8986306190490723, 0.009977961890399456, 0.994430661201477, 0.0020356818567961454, 0.0020356818567961454, 0.00152676145080477, 0.0021396686788648367, 0.0014264457859098911, 0.9956591725349426, 0.0007132228929549456, 0.9917898774147034, 0.0007347952341660857, 0.0007347952341660857, 0.006613157223910093, 0.9922446012496948, 0.0012753786286339164, 0.001594223314896226, 0.004782669711858034, 0.48268285393714905, 0.11357243359088898, 0.14196553826332092, 0.17035864293575287, 0.11357243359088898, 0.010563616640865803, 0.007042410783469677, 0.03697265684604645, 0.9436830878257751, 0.0018725317204371095, 0.9484373331069946, 0.048997912555933, 0.0006241772789508104, 0.015689652413129807, 0.010459767654538155, 0.010459767654538155, 0.9622986316680908, 0.0015460611321032047, 0.012110812589526176, 0.9858716726303101, 0.0005153537495061755, 0.1091865822672844, 0.6989321112632751, 0.184565007686615, 0.00724460743367672, 0.005738430190831423, 0.003825620049610734, 0.9879663586616516, 0.001912810024805367, 0.9484358429908752, 0.016605107113718987, 0.0005983822629787028, 0.03440697863698006, 0.9229007363319397, 0.00618336908519268, 0.041047047823667526, 0.02973279543220997, 0.0687035396695137, 0.8367911577224731, 0.0702751874923706, 0.024248307570815086, 0.9926140904426575, 0.0006327420705929399, 0.0006327420705929399, 0.0060110497288405895, 0.0031987065449357033, 0.002132470952346921, 0.028788359835743904, 0.9660093784332275, 0.0709914118051529, 0.05915950983762741, 0.6507546305656433, 0.023663803935050964, 0.18931043148040771, 0.006191423162817955, 0.9875320196151733, 0.004127615597099066, 0.002063807798549533, 0.18756577372550964, 0.7228365540504456, 0.03887314721941948, 0.05065976083278656, 0.8221038579940796, 0.11183936893939972, 0.047257062047719955, 0.01880422607064247, 0.8885273337364197, 0.09027275443077087, 0.00045080026029609144, 0.020624112337827682, 0.0063120098784565926, 0.9867775440216064, 0.004208006430417299, 0.0021040032152086496, 0.0037164799869060516, 0.9842477440834045, 0.010530026629567146, 0.0012388266623020172, 0.0009682237869128585, 0.034049201756715775, 0.9601552486419678, 0.004841119050979614, 0.038090065121650696, 0.8522360324859619, 0.10912920534610748, 0.0004673627554439008, 0.011997705325484276, 0.044545937329530716, 0.9431859254837036, 0.00023757832241244614, 0.9900126457214355, 0.0014597650151699781, 0.0011678120354190469, 0.007298825308680534, 0.255075603723526, 0.35348761081695557, 0.21074756979942322, 0.18062724173069, 0.006936865858733654, 0.9861910939216614, 0.004624577239155769, 0.0023122886195778847, 0.9961091876029968, 0.0014504684368148446, 0.0014504684368148446, 0.0007252342184074223, 0.006657137535512447, 0.005547614768147469, 0.005547614768147469, 0.9819278120994568, 0.9959257245063782, 0.0014480926329270005, 0.0014480926329270005, 0.0007240463164635003, 0.9979586601257324, 0.0006825982709415257, 0.0005460786051116884, 0.000819117936771363, 0.9960126876831055, 0.0014137866673991084, 0.0014137866673991084, 0.0007068933336995542, 0.6511374115943909, 0.15192587673664093, 0.1424729824066162, 0.05443135276436806, 0.7775244116783142, 0.01134722214192152, 0.1482330709695816, 0.06296908855438232, 0.008635621517896652, 0.00575708132237196, 0.00575708132237196, 0.9801430702209473, 0.07372043281793594, 0.9220611453056335, 0.001481817802414298, 0.002963635604828596, 0.9486469626426697, 0.00048673522542230785, 0.022389819845557213, 0.028425337746739388, 0.29959186911582947, 0.19972790777683258, 0.19972790777683258, 0.09986395388841629, 0.14979593455791473, 0.9945893883705139, 0.0019511316204443574, 0.0019511316204443574, 0.0009755658102221787, 0.8918680548667908, 0.10510627180337906, 0.0004723877354990691, 0.0025981327053159475, 0.979743480682373, 0.0006762681296095252, 0.0006762681296095252, 0.018766440451145172, 0.9790374040603638, 0.0003610019921325147, 0.0003610019921325147, 0.020216111093759537, 0.9944427609443665, 0.0017071978654712439, 0.0017071978654712439, 0.0017071978654712439, 0.004544651135802269, 0.9899764657020569, 0.0030297674238681793, 0.0022723255679011345, 0.20686359703540802, 0.13790906965732574, 0.13790906965732574, 0.06895453482866287, 0.4482044577598572, 0.34994271397590637, 0.6460785865783691, 0.0006610176060348749, 0.0033050880301743746, 0.7359821200370789, 0.2634214460849762, 0.0003133171994704753, 0.0002349879068788141, 0.2047429382801056, 0.002766796387732029, 0.002766796387732029, 0.7892286777496338, 0.001524155493825674, 0.0010161036625504494, 0.5961988568305969, 0.40136095881462097, 0.0027245297096669674, 0.9944533705711365, 0.0018163531785830855, 0.0009081765892915428, 0.08864574879407883, 0.8609465956687927, 0.04992058873176575, 0.0003670631558634341, 0.0020456246566027403, 0.995878279209137, 0.001363749848678708, 0.000681874924339354, 0.007389470469206572, 0.9852626919746399, 0.004926313646137714, 0.002463156823068857, 0.21689468622207642, 0.6461859941482544, 0.12072694301605225, 0.01628284342586994, 0.0018877708353102207, 0.02485564909875393, 0.972516655921936, 0.0006292569451034069, 0.003155231010168791, 0.0021034872625023127, 0.9933719038963318, 0.0010517436312511563, 0.002367812441661954, 0.0015785417053848505, 0.9952705502510071, 0.0007892708526924253, 0.2736448049545288, 0.22803734242916107, 0.18242987990379333, 0.09121493995189667, 0.22803734242916107, 0.05449549853801727, 0.003159159328788519, 0.003159159328788519, 0.9390600919723511, 0.10074447840452194, 0.879090428352356, 0.01643947698175907, 0.0037937252782285213, 0.006883561611175537, 0.6942324042320251, 0.2966647148132324, 0.002182592870667577, 0.3298943340778351, 0.0009050598600879312, 0.10634453594684601, 0.5627209544181824, 0.9003189206123352, 0.063957080245018, 0.02388586662709713, 0.011835981160402298, 0.5140577554702759, 0.34196338057518005, 0.10681720077991486, 0.03713875636458397, 0.24369053542613983, 0.1624603569507599, 0.1624603569507599, 0.08123017847537994, 0.3249207139015198, 0.011944343335926533, 0.009953618980944157, 0.007962895557284355, 0.9694825410842896, 0.003987644333392382, 0.0033230369444936514, 0.9915942549705505, 0.0013292147777974606, 0.018174000084400177, 0.008077333681285381, 0.008077333681285381, 0.9652413725852966, 0.3077627420425415, 0.282855361700058, 0.2399984747171402, 0.1693098545074463, 0.9968370199203491, 0.0010852880077436566, 0.0010852880077436566, 0.000813965976703912, 0.32071802020072937, 0.11565479636192322, 0.25435519218444824, 0.3091951906681061, 0.33868899941444397, 0.19353656470775604, 0.19353656470775604, 0.09676828235387802, 0.14515241980552673, 0.297304630279541, 0.3917018175125122, 0.27879706025123596, 0.032113634049892426, 0.0017574089579284191, 0.006736734416335821, 0.9908857345581055, 0.0005858029471710324, 0.004745045676827431, 0.0031633637845516205, 0.9901328086853027, 0.0015816818922758102, 0.003282225923612714, 0.0021881505381315947, 0.9934203624725342, 0.0010940752690657973, 0.0046249376609921455, 0.9905074834823608, 0.003083291696384549, 0.0015416458481922746, 0.15511567890644073, 0.8414057493209839, 0.0009111053077504039, 0.0025055394507944584, 0.006227494683116674, 0.9849820733070374, 0.004151663277298212, 0.004151663277298212, 0.9946231245994568, 0.0019803347531706095, 0.0019803347531706095, 0.0009901673765853047, 0.11998625844717026, 0.0576743520796299, 0.6820582151412964, 0.14030718803405762, 0.9970251321792603, 0.000999524025246501, 0.000999524025246501, 0.0007496429607272148, 0.07369106262922287, 0.08412066102027893, 0.8269299864768982, 0.015216948464512825, 0.9910415410995483, 0.0012557546142488718, 0.0010046036913990974, 0.006781074684113264, 0.871292769908905, 0.00023984054860193282, 0.00019187244470231235, 0.12826672196388245, 0.22784510254859924, 0.130197212100029, 0.130197212100029, 0.0650986060500145, 0.42314091324806213, 0.0032573577482253313, 0.9728641510009766, 0.022258611395955086, 0.0010857859160751104, 0.0076301791705191135, 0.9842931032180786, 0.005086786113679409, 0.0025433930568397045, 0.005487962160259485, 0.9887478351593018, 0.0036586413625627756, 0.0018293206812813878, 0.057942334562540054, 0.9091873168945312, 0.027769599109888077, 0.005073292180895805, 0.9487113356590271, 0.036061640828847885, 0.00033160130260512233, 0.01483915839344263, 0.9771857857704163, 0.02014709636569023, 0.00041327375220134854, 0.0021696873009204865, 0.9828881621360779, 0.001147161703556776, 0.014454237185418606, 0.0016060263151302934, 0.9945622682571411, 0.0010674132499843836, 0.0010674132499843836, 0.0032022397499531507, 0.9662125110626221, 0.0006056809215806425, 0.024681497365236282, 0.00832811277359724, 0.9940290451049805, 0.002190697705373168, 0.002190697705373168, 0.001095348852686584, 0.0881858691573143, 0.12483346462249756, 0.7621128559112549, 0.024859149008989334, 0.006442784331738949, 0.0036815910134464502, 0.02300994284451008, 0.9673380255699158, 0.5002920031547546, 0.12289571762084961, 0.02588551491498947, 0.3510269224643707, 0.032210636883974075, 0.10674247145652771, 0.8488397002220154, 0.012257936410605907, 0.7094475626945496, 0.1728019416332245, 0.0333489365875721, 0.0843932256102562, 0.0009741307585500181, 0.09757543355226517, 0.8960379362106323, 0.005357719026505947, 0.012769247405230999, 0.9714981317520142, 0.014839936047792435, 0.0006902295863255858, 0.28077009320259094, 0.1871800720691681, 0.1871800720691681, 0.14038504660129547, 0.1871800720691681, 0.0017974772490561008, 0.001198318088427186, 0.9964015483856201, 0.000599159044213593, 0.01946142315864563, 0.04366215690970421, 0.9311232566833496, 0.005747674033045769, 0.05553075298666954, 0.05461854487657547, 0.8791419267654419, 0.01071846205741167, 0.0328611321747303, 0.030568497255444527, 0.9306578636169434, 0.005960857030004263, 0.10617808997631073, 0.08848173916339874, 0.4247123599052429, 0.03539269417524338, 0.336230605840683, 0.002451743697747588, 0.003268991596996784, 0.9933648705482483, 0.000817247899249196, 0.0006494872504845262, 0.17049039900302887, 0.8204106688499451, 0.008443334139883518, 0.9842562079429626, 0.006259288173168898, 0.006326592061668634, 0.003163296030834317, 0.017310073599219322, 0.009891470894217491, 0.009891470894217491, 0.9619455337524414, 0.26318591833114624, 0.26318591833114624, 0.17545726895332336, 0.08772863447666168, 0.17545726895332336, 0.0011144306045025587, 0.9832993149757385, 0.015230552293360233, 0.00037147689727135, 0.025922438129782677, 0.9720913767814636, 0.0012344018323346972, 0.0006172009161673486, 0.0007176678045652807, 0.8917022347450256, 0.1072913333773613, 0.00023922260152176023, 0.003287843195721507, 0.9929286241531372, 0.0021918953862041235, 0.0010959476931020617, 0.9945241808891296, 0.001963522518053651, 0.001963522518053651, 0.0014726418303325772, 0.0006943425978533924, 0.0006943425978533924, 0.9963815808296204, 0.002198751550167799, 0.0071722581051290035, 0.9849900603294373, 0.0047815050929784775, 0.0023907525464892387, 0.5066156983375549, 0.19097787141799927, 0.05745583400130272, 0.24503657221794128, 0.5083127021789551, 0.1238042488694191, 0.15219669044017792, 0.21569451689720154, 0.0006625883397646248, 0.0324668288230896, 0.9666059613227844, 0.0002208627702202648, 0.4991091787815094, 0.31807562708854675, 0.11754510551691055, 0.06531847268342972, 0.004422074183821678, 0.0029480494558811188, 0.9905446171760559, 0.0014740247279405594, 0.004774956498295069, 0.003979130648076534, 0.9892118573188782, 0.0015916521660983562, 0.09902475029230118, 0.1257595717906952, 0.7408472299575806, 0.03440003842115402, 0.9943784475326538, 0.002114573959261179, 0.002114573959261179, 0.0010572869796305895, 0.007699939422309399, 0.0051332926377654076, 0.006416616030037403, 0.981742262840271, 0.004155457951128483, 0.0027703053783625364, 0.9917693138122559, 0.0013851526891812682, 0.17975173890590668, 0.8131453394889832, 0.0007255367818288505, 0.006348446477204561, 0.7440414428710938, 0.12211716920137405, 0.059016257524490356, 0.07486190646886826, 0.22843007743358612, 0.15475814044475555, 0.36871272325515747, 0.24808377027511597, 0.011618386954069138, 0.0077455914579331875, 0.0077455914579331875, 0.9701353311538696, 0.8301059007644653, 0.047264404594898224, 0.05868332460522652, 0.0638466626405716, 0.7254024147987366, 0.11847299337387085, 0.10148116201162338, 0.05465574935078621, 0.8059075474739075, 0.0058496915735304356, 0.08752038329839706, 0.10071969032287598, 0.012761548161506653, 0.8939308524131775, 0.09244340658187866, 0.0006225145189091563, 0.006423977203667164, 0.9871511459350586, 0.0042826514691114426, 0.0021413257345557213, 0.0006272709579207003, 0.00041818065801635385, 0.9987199306488037, 0.00020909032900817692, 0.00813983753323555, 0.1269814521074295, 0.8646832704544067, 0.00017442507669329643, 0.9933106303215027, 0.0005252138362266123, 0.0006565172807313502, 0.005514745134860277, 0.9936631917953491, 0.0007299637654796243, 0.0007299637654796243, 0.004744764417409897, 0.25486981868743896, 0.03390778973698616, 0.7039796113967896, 0.00718575669452548, 0.46705734729766846, 0.388276606798172, 0.08701568096876144, 0.05764445662498474, 0.1694365292787552, 0.1129576787352562, 0.1411971002817154, 0.0564788393676281, 0.508309543132782, 0.9260686635971069, 0.00021414467482827604, 0.04095516726374626, 0.03276413679122925, 0.0034797543194144964, 0.002319836290553212, 0.9928898811340332, 0.001159918145276606, 0.0007148254662752151, 0.056113798171281815, 0.9320132732391357, 0.011079794727265835, 0.17665494978427887, 0.11776997148990631, 0.11776997148990631, 0.058884985744953156, 0.5005223751068115, 0.004444909747689962, 0.0029632733203470707, 0.011853093281388283, 0.9801025986671448, 0.0007318089483305812, 0.00048787263222038746, 0.08854888379573822, 0.9101263880729675, 0.4061891734600067, 0.025197841227054596, 0.03561294823884964, 0.5328503251075745, 0.4557299017906189, 0.056125182658433914, 0.020185371860861778, 0.4678739607334137, 0.20220807194709778, 0.003532018745318055, 0.003532018745318055, 0.7902891635894775, 0.2436448484659195, 0.0030434471555054188, 0.017246199771761894, 0.7358378767967224, 0.005838009528815746, 0.9866235852241516, 0.004865007940679789, 0.002919004764407873, 0.1499604880809784, 0.7228641510009766, 0.12041528522968292, 0.006703531369566917, 0.002307263668626547, 0.0169199351221323, 0.9798179864883423, 0.0007690879283472896, 0.0018628868274390697, 0.9674592018127441, 0.030116669833660126, 0.0006209622952155769], \"Term\": [\"abstract\", \"abstract\", \"abstract\", \"abstract\", \"acceptability\", \"acceptability\", \"acceptability\", \"acceptability\", \"actin\", \"actin\", \"actin\", \"actin\", \"activate\", \"activate\", \"activate\", \"activate\", \"activation\", \"activation\", \"activation\", \"activation\", \"adherence\", \"adherence\", \"adherence\", \"adherence\", \"adipose\", \"adipose\", \"adipose\", \"adipose\", \"administrative\", \"administrative\", \"administrative\", \"administrative\", \"adolescence\", \"adolescence\", \"adolescence\", \"adolescence\", \"adolescent\", \"adolescent\", \"adolescent\", \"adolescent\", \"adult\", \"adult\", \"adult\", \"adult\", \"advisory\", \"advisory\", \"advisory\", \"advisory\", \"aeruginosa\", \"aeruginosa\", \"aeruginosa\", \"aeruginosa\", \"affective\", \"affective\", \"affective\", \"affective\", \"albicans\", \"albicans\", \"albicans\", \"albicans\", \"albicans\", \"alcohol\", \"alcohol\", \"alcohol\", \"alcohol\", \"among\", \"among\", \"among\", \"among\", \"amygdala\", \"amygdala\", \"amygdala\", \"amygdala\", \"angiogenesis\", \"angiogenesis\", \"angiogenesis\", \"angiogenesis\", \"antibiotic\", \"antibiotic\", \"antibiotic\", \"antibiotic\", \"antibody\", \"antibody\", \"antibody\", \"antibody\", \"antidepressant\", \"antidepressant\", \"antidepressant\", \"antidepressant\", \"anxiety\", \"anxiety\", \"anxiety\", \"anxiety\", \"apol1\", \"apol1\", \"apol1\", \"apol1\", \"apol1\", \"assay\", \"assay\", \"assay\", \"assay\", \"astrocyte\", \"astrocyte\", \"astrocyte\", \"astrocyte\", \"atomic\", \"atomic\", \"atomic\", \"atomic\", \"aureus\", \"aureus\", \"aureus\", \"aureus\", \"autophagy\", \"autophagy\", \"autophagy\", \"autophagy\", \"azole\", \"azole\", \"azole\", \"azole\", \"azole\", \"bacterial\", \"bacterial\", \"bacterial\", \"bacterial\", \"behavior\", \"behavior\", \"behavior\", \"behavior\", \"behavioral\", \"behavioral\", \"behavioral\", \"behavioral\", \"biofilm\", \"biofilm\", \"biofilm\", \"biofilm\", \"biofilms\", \"biofilms\", \"biofilms\", \"biofilms\", \"biomedical\", \"biomedical\", \"biomedical\", \"biomedical\", \"biostatistical\", \"biostatistical\", \"biostatistical\", \"biostatistical\", \"bnabs\", \"bnabs\", \"bnabs\", \"bnabs\", \"brain\", \"brain\", \"brain\", \"brain\", \"cadre\", \"cadre\", \"cadre\", \"cadre\", \"campus\", \"campus\", \"campus\", \"campus\", \"cancer\", \"cancer\", \"cancer\", \"cancer\", \"candida\", \"candida\", \"candida\", \"candida\", \"candida\", \"candidiasis\", \"candidiasis\", \"candidiasis\", \"candidiasis\", \"candidiasis\", \"capn5\", \"capn5\", \"capn5\", \"capn5\", \"capn5\", \"capsid\", \"capsid\", \"capsid\", \"capsid\", \"career\", \"career\", \"career\", \"career\", \"caregiver\", \"caregiver\", \"caregiver\", \"caregiver\", \"caregiving\", \"caregiving\", \"caregiving\", \"caregiving\", \"cell\", \"cell\", \"cell\", \"cell\", \"cellular\", \"cellular\", \"cellular\", \"cellular\", \"center\", \"center\", \"center\", \"center\", \"change\", \"change\", \"change\", \"change\", \"child\", \"child\", \"child\", \"child\", \"chromatin\", \"chromatin\", \"chromatin\", \"chromatin\", \"clinical\", \"clinical\", \"clinical\", \"clinical\", \"cobre\", \"cobre\", \"cobre\", \"cobre\", \"cocaine\", \"cocaine\", \"cocaine\", \"cocaine\", \"cognitive\", \"cognitive\", \"cognitive\", \"cognitive\", \"cohort\", \"cohort\", \"cohort\", \"cohort\", \"committee\", \"committee\", \"committee\", \"committee\", \"community\", \"community\", \"community\", \"community\", \"compound\", \"compound\", \"compound\", \"compound\", \"conference\", \"conference\", \"conference\", \"conference\", \"contract\", \"contract\", \"contract\", \"contract\", \"contractor\", \"contractor\", \"contractor\", \"contractor\", \"cryptococcal\", \"cryptococcal\", \"cryptococcal\", \"cryptococcal\", \"cryptococcal\", \"cryptococcosis\", \"cryptococcosis\", \"cryptococcosis\", \"cryptococcosis\", \"cryptococcosis\", \"cryptococcus\", \"cryptococcus\", \"cryptococcus\", \"cryptococcus\", \"cryptococcus\", \"curli\", \"curli\", \"curli\", \"curli\", \"curli\", \"daids\", \"daids\", \"daids\", \"daids\", \"defect\", \"defect\", \"defect\", \"defect\", \"deletion\", \"deletion\", \"deletion\", \"deletion\", \"delirium\", \"delirium\", \"delirium\", \"delirium\", \"dengue\", \"dengue\", \"dengue\", \"dengue\", \"depression\", \"depression\", \"depression\", \"depression\", \"depressive\", \"depressive\", \"depressive\", \"depressive\", \"determine\", \"determine\", \"determine\", \"determine\", \"develop\", \"develop\", \"develop\", \"develop\", \"development\", \"development\", \"development\", \"development\", \"differentiation\", \"differentiation\", \"differentiation\", \"differentiation\", \"director\", \"director\", \"director\", \"director\", \"disease\", \"disease\", \"disease\", \"disease\", \"disorder\", \"disorder\", \"disorder\", \"disorder\", \"doctoral\", \"doctoral\", \"doctoral\", \"doctoral\", \"drinking\", \"drinking\", \"drinking\", \"drinking\", \"drosophila\", \"drosophila\", \"drosophila\", \"drosophila\", \"early\", \"early\", \"early\", \"early\", \"eating\", \"eating\", \"eating\", \"eating\", \"ebola\", \"ebola\", \"ebola\", \"ebola\", \"echinocandin\", \"echinocandin\", \"echinocandin\", \"echinocandin\", \"echinocandin\", \"effects\", \"effects\", \"effects\", \"effects\", \"elegans\", \"elegans\", \"elegans\", \"elegans\", \"embryonic\", \"embryonic\", \"embryonic\", \"embryonic\", \"emotion\", \"emotion\", \"emotion\", \"emotion\", \"emotional\", \"emotional\", \"emotional\", \"emotional\", \"endothelial\", \"endothelial\", \"endothelial\", \"endothelial\", \"enhancer\", \"enhancer\", \"enhancer\", \"enhancer\", \"epidermidis\", \"epidermidis\", \"epidermidis\", \"epidermidis\", \"epithelial\", \"epithelial\", \"epithelial\", \"epithelial\", \"epitope\", \"epitope\", \"epitope\", \"epitope\", \"exposure\", \"exposure\", \"exposure\", \"exposure\", \"expression\", \"expression\", \"expression\", \"expression\", \"extramural\", \"extramural\", \"extramural\", \"extramural\", \"facility\", \"facility\", \"facility\", \"facility\", \"faculty\", \"faculty\", \"faculty\", \"faculty\", \"falciparum\", \"falciparum\", \"falciparum\", \"falciparum\", \"family\", \"family\", \"family\", \"family\", \"father\", \"father\", \"father\", \"father\", \"fellow\", \"fellow\", \"fellow\", \"fellow\", \"fever\", \"fever\", \"fever\", \"fever\", \"fibroblast\", \"fibroblast\", \"fibroblast\", \"fibroblast\", \"filovirus\", \"filovirus\", \"filovirus\", \"filovirus\", \"finally,\", \"finally,\", \"finally,\", \"finally,\", \"finally,\", \"first,\", \"first,\", \"first,\", \"first,\", \"first,\", \"flavivirus\", \"flavivirus\", \"flavivirus\", \"flavivirus\", \"fluconazole\", \"fluconazole\", \"fluconazole\", \"fluconazole\", \"fluconazole\", \"formulation\", \"formulation\", \"formulation\", \"formulation\", \"function\", \"function\", \"function\", \"function\", \"funds\", \"funds\", \"funds\", \"funds\", \"gattii\", \"gattii\", \"gattii\", \"gattii\", \"gattii\", \"gene\", \"gene\", \"gene\", \"gene\", \"genetic\", \"genetic\", \"genetic\", \"genetic\", \"genital\", \"genital\", \"genital\", \"genital\", \"glabrata\", \"glabrata\", \"glabrata\", \"glabrata\", \"glabrata\", \"glycan\", \"glycan\", \"glycan\", \"glycan\", \"graduate\", \"graduate\", \"graduate\", \"graduate\", \"grant\", \"grant\", \"grant\", \"grant\", \"health\", \"health\", \"health\", \"health\", \"hepatic\", \"hepatic\", \"hepatic\", \"hepatic\", \"histone\", \"histone\", \"histone\", \"histone\", \"hiv-1\", \"hiv-1\", \"hiv-1\", \"hiv-1\", \"hnscc\", \"hnscc\", \"hnscc\", \"hnscc\", \"hnscc\", \"homeostasis\", \"homeostasis\", \"homeostasis\", \"homeostasis\", \"however,\", \"however,\", \"however,\", \"however,\", \"however,\", \"human\", \"human\", \"human\", \"human\", \"identify\", \"identify\", \"identify\", \"identify\", \"igf::ot::igf\", \"igf::ot::igf\", \"igf::ot::igf\", \"igf::ot::igf\", \"igf::ot::igf\", \"image\", \"image\", \"image\", \"image\", \"imaging\", \"imaging\", \"imaging\", \"imaging\", \"immune\", \"immune\", \"immune\", \"immune\", \"immunization\", \"immunization\", \"immunization\", \"immunization\", \"immunize\", \"immunize\", \"immunize\", \"immunize\", \"immunogen\", \"immunogen\", \"immunogen\", \"immunogen\", \"immunogenicity\", \"immunogenicity\", \"immunogenicity\", \"immunogenicity\", \"individual\", \"individual\", \"individual\", \"individual\", \"induce\", \"induce\", \"induce\", \"induce\", \"infant\", \"infant\", \"infant\", \"infant\", \"infect\", \"infect\", \"infect\", \"infect\", \"infection\", \"infection\", \"infection\", \"infection\", \"infectious\", \"infectious\", \"infectious\", \"infectious\", \"inflammation\", \"inflammation\", \"inflammation\", \"inflammation\", \"inflammatory\", \"inflammatory\", \"inflammatory\", \"inflammatory\", \"influenza\", \"influenza\", \"influenza\", \"influenza\", \"informatic\", \"informatic\", \"informatic\", \"informatic\", \"inhibitor\", \"inhibitor\", \"inhibitor\", \"inhibitor\", \"institute\", \"institute\", \"institute\", \"institute\", \"institution\", \"institution\", \"institution\", \"institution\", \"institutional\", \"institutional\", \"institutional\", \"institutional\", \"intervention\", \"intervention\", \"intervention\", \"intervention\", \"intestinal\", \"intestinal\", \"intestinal\", \"intestinal\", \"investigator\", \"investigator\", \"investigator\", \"investigator\", \"isoforms\", \"isoforms\", \"isoforms\", \"isoforms\", \"junior\", \"junior\", \"junior\", \"junior\", \"kinase\", \"kinase\", \"kinase\", \"kinase\", \"knockout\", \"knockout\", \"knockout\", \"knockout\", \"lacritin\", \"lacritin\", \"lacritin\", \"lacritin\", \"lacritin\", \"lammp\", \"lammp\", \"lammp\", \"lammp\", \"language\", \"language\", \"language\", \"language\", \"latently\", \"latently\", \"latently\", \"latently\", \"leadership\", \"leadership\", \"leadership\", \"leadership\", \"learning\", \"learning\", \"learning\", \"learning\", \"lecture\", \"lecture\", \"lecture\", \"lecture\", \"lipid\", \"lipid\", \"lipid\", \"lipid\", \"liver\", \"liver\", \"liver\", \"liver\", \"longitudinal\", \"longitudinal\", \"longitudinal\", \"longitudinal\", \"macrophage\", \"macrophage\", \"macrophage\", \"macrophage\", \"malaria\", \"malaria\", \"malaria\", \"malaria\", \"manion\", \"manion\", \"manion\", \"manion\", \"manion\", \"marijuana\", \"marijuana\", \"marijuana\", \"marijuana\", \"measure\", \"measure\", \"measure\", \"measure\", \"mechanism\", \"mechanism\", \"mechanism\", \"mechanism\", \"mediate\", \"mediate\", \"mediate\", \"mediate\", \"medicaid\", \"medicaid\", \"medicaid\", \"medicaid\", \"medicare\", \"medicare\", \"medicare\", \"medicare\", \"meeting\", \"meeting\", \"meeting\", \"meeting\", \"mental\", \"mental\", \"mental\", \"mental\", \"mentor\", \"mentor\", \"mentor\", \"mentor\", \"metastatic\", \"metastatic\", \"metastatic\", \"metastatic\", \"method\", \"method\", \"method\", \"method\", \"mhealth\", \"mhealth\", \"mhealth\", \"mhealth\", \"microglia\", \"microglia\", \"microglia\", \"microglia\", \"microscope\", \"microscope\", \"microscope\", \"microscope\", \"mirnas\", \"mirnas\", \"mirnas\", \"mirnas\", \"mitochondrial\", \"mitochondrial\", \"mitochondrial\", \"mitochondrial\", \"mitochondrion\", \"mitochondrion\", \"mitochondrion\", \"mitochondrion\", \"model\", \"model\", \"model\", \"model\", \"molecular\", \"molecular\", \"molecular\", \"molecular\", \"mosquito\", \"mosquito\", \"mosquito\", \"mosquito\", \"mother\", \"mother\", \"mother\", \"mother\", \"mouse\", \"mouse\", \"mouse\", \"mouse\", \"mrgx1\", \"mrgx1\", \"mrgx1\", \"mrgx1\", \"mrgx1\", \"mrna\", \"mrna\", \"mrna\", \"mrna\", \"muscle\", \"muscle\", \"muscle\", \"muscle\", \"mutant\", \"mutant\", \"mutant\", \"mutant\", \"mutation\", \"mutation\", \"mutation\", \"mutation\", \"myeloid\", \"myeloid\", \"myeloid\", \"myeloid\", \"neighborhood\", \"neighborhood\", \"neighborhood\", \"neighborhood\", \"neoformans\", \"neoformans\", \"neoformans\", \"neoformans\", \"neoformans\", \"neural\", \"neural\", \"neural\", \"neural\", \"neuron\", \"neuron\", \"neuron\", \"neuron\", \"neutralize\", \"neutralize\", \"neutralize\", \"neutralize\", \"niaid\", \"niaid\", \"niaid\", \"niaid\", \"nicotine\", \"nicotine\", \"nicotine\", \"nicotine\", \"older\", \"older\", \"older\", \"older\", \"opioid\", \"opioid\", \"opioid\", \"opioid\", \"opioids\", \"opioids\", \"opioids\", \"opioids\", \"outcome\", \"outcome\", \"outcome\", \"outcome\", \"outreach\", \"outreach\", \"outreach\", \"outreach\", \"oversee\", \"oversee\", \"oversee\", \"oversee\", \"oversight\", \"oversight\", \"oversight\", \"oversight\", \"pacap\", \"pacap\", \"pacap\", \"pacap\", \"pacap\", \"parasite\", \"parasite\", \"parasite\", \"parasite\", \"parent\", \"parent\", \"parent\", \"parent\", \"participant\", \"participant\", \"participant\", \"participant\", \"pathogen\", \"pathogen\", \"pathogen\", \"pathogen\", \"pathway\", \"pathway\", \"pathway\", \"pathway\", \"patient\", \"patient\", \"patient\", \"patient\", \"pcsk9\", \"pcsk9\", \"pcsk9\", \"pcsk9\", \"pcsk9\", \"pfs25\", \"pfs25\", \"pfs25\", \"pfs25\", \"ph.d.\", \"ph.d.\", \"ph.d.\", \"ph.d.\", \"phage\", \"phage\", \"phage\", \"phage\", \"phase\", \"phase\", \"phase\", \"phase\", \"phosphorylation\", \"phosphorylation\", \"phosphorylation\", \"phosphorylation\", \"platform\", \"platform\", \"platform\", \"platform\", \"plekha7\", \"plekha7\", \"plekha7\", \"plekha7\", \"plekha7\", \"population\", \"population\", \"population\", \"population\", \"postdoctoral\", \"postdoctoral\", \"postdoctoral\", \"postdoctoral\", \"preceptor\", \"preceptor\", \"preceptor\", \"preceptor\", \"predoctoral\", \"predoctoral\", \"predoctoral\", \"predoctoral\", \"prefrontal\", \"prefrontal\", \"prefrontal\", \"prefrontal\", \"pregnancy\", \"pregnancy\", \"pregnancy\", \"pregnancy\", \"prescription\", \"prescription\", \"prescription\", \"prescription\", \"prion\", \"prion\", \"prion\", \"prion\", \"product\", \"product\", \"product\", \"product\", \"progenitor\", \"progenitor\", \"progenitor\", \"progenitor\", \"program\", \"program\", \"program\", \"program\", \"proliferation\", \"proliferation\", \"proliferation\", \"proliferation\", \"protein\", \"protein\", \"protein\", \"protein\", \"prpsc\", \"prpsc\", \"prpsc\", \"prpsc\", \"prpsc\", \"psychological\", \"psychological\", \"psychological\", \"psychological\", \"psychopathology\", \"psychopathology\", \"psychopathology\", \"psychopathology\", \"psychosis\", \"psychosis\", \"psychosis\", \"psychosis\", \"randomize\", \"randomize\", \"randomize\", \"randomize\", \"receptor\", \"receptor\", \"receptor\", \"receptor\", \"regulate\", \"regulate\", \"regulate\", \"regulate\", \"regulator\", \"regulator\", \"regulator\", \"regulator\", \"remodel\", \"remodel\", \"remodel\", \"remodel\", \"repair\", \"repair\", \"repair\", \"repair\", \"reprogramming\", \"reprogramming\", \"reprogramming\", \"reprogramming\", \"research\", \"research\", \"research\", \"research\", \"reservoir\", \"reservoir\", \"reservoir\", \"reservoir\", \"resolution\", \"resolution\", \"resolution\", \"resolution\", \"resource\", \"resource\", \"resource\", \"resource\", \"response\", \"response\", \"response\", \"response\", \"review\", \"review\", \"review\", \"review\", \"reward\", \"reward\", \"reward\", \"reward\", \"rickettsia\", \"rickettsia\", \"rickettsia\", \"rickettsia\", \"rickettsia\", \"scholar\", \"scholar\", \"scholar\", \"scholar\", \"science\", \"science\", \"science\", \"science\", \"scientific\", \"scientific\", \"scientific\", \"scientific\", \"scientist\", \"scientist\", \"scientist\", \"scientist\", \"seer*dms\", \"seer*dms\", \"seer*dms\", \"seer*dms\", \"seer*dms\", \"seminar\", \"seminar\", \"seminar\", \"seminar\", \"services\", \"services\", \"services\", \"services\", \"signaling\", \"signaling\", \"signaling\", \"signaling\", \"simian\", \"simian\", \"simian\", \"simian\", \"single?cell\", \"single?cell\", \"single?cell\", \"single?cell\", \"single?cell\", \"sleep\", \"sleep\", \"sleep\", \"sleep\", \"smoking\", \"smoking\", \"smoking\", \"smoking\", \"social\", \"social\", \"social\", \"social\", \"speech\", \"speech\", \"speech\", \"speech\", \"splicing\", \"splicing\", \"splicing\", \"splicing\", \"standardization\", \"standardization\", \"standardization\", \"standardization\", \"stigma\", \"stigma\", \"stigma\", \"stigma\", \"structural\", \"structural\", \"structural\", \"structural\", \"structure\", \"structure\", \"structure\", \"structure\", \"student\", \"student\", \"student\", \"student\", \"study\", \"study\", \"study\", \"study\", \"summer\", \"summer\", \"summer\", \"summer\", \"superfund\", \"superfund\", \"superfund\", \"superfund\", \"support\", \"support\", \"support\", \"support\", \"suppressor\", \"suppressor\", \"suppressor\", \"suppressor\", \"sveus\", \"sveus\", \"sveus\", \"sveus\", \"symposium\", \"symposium\", \"symposium\", \"symposium\", \"symptom\", \"symptom\", \"symptom\", \"symptom\", \"target\", \"target\", \"target\", \"target\", \"technology\", \"technology\", \"technology\", \"technology\", \"tendon\", \"tendon\", \"tendon\", \"tendon\", \"therapeutic\", \"therapeutic\", \"therapeutic\", \"therapeutic\", \"therapy\", \"therapy\", \"therapy\", \"therapy\", \"tissue\", \"tissue\", \"tissue\", \"tissue\", \"tobacco\", \"tobacco\", \"tobacco\", \"tobacco\", \"toddler\", \"toddler\", \"toddler\", \"toddler\", \"trainee\", \"trainee\", \"trainee\", \"trainee\", \"training\", \"training\", \"training\", \"training\", \"transcription\", \"transcription\", \"transcription\", \"transcription\", \"transcriptional\", \"transcriptional\", \"transcriptional\", \"transcriptional\", \"translational\", \"translational\", \"translational\", \"translational\", \"treatment\", \"treatment\", \"treatment\", \"treatment\", \"trialnet\", \"trialnet\", \"trialnet\", \"trialnet\", \"trialnet\", \"tumor\", \"tumor\", \"tumor\", \"tumor\", \"undergraduate\", \"undergraduate\", \"undergraduate\", \"undergraduate\", \"university\", \"university\", \"university\", \"university\", \"uveitis\", \"uveitis\", \"uveitis\", \"uveitis\", \"uveitis\", \"vaccination\", \"vaccination\", \"vaccination\", \"vaccination\", \"vaccine\", \"vaccine\", \"vaccine\", \"vaccine\", \"vector\", \"vector\", \"vector\", \"vector\", \"viral\", \"viral\", \"viral\", \"viral\", \"virulence\", \"virulence\", \"virulence\", \"virulence\", \"virus\", \"virus\", \"virus\", \"virus\", \"walking\", \"walking\", \"walking\", \"walking\", \"woman\", \"woman\", \"woman\", \"woman\", \"workshop\", \"workshop\", \"workshop\", \"workshop\", \"youth\", \"youth\", \"youth\", \"youth\"]}, \"R\": 30, \"lambda.step\": 0.01, \"plot.opts\": {\"xlab\": \"PC1\", \"ylab\": \"PC2\"}, \"topic.order\": [5, 1, 2, 4, 3]};\n",
       "\n",
       "function LDAvis_load_lib(url, callback){\n",
       "  var s = document.createElement('script');\n",
       "  s.src = url;\n",
       "  s.async = true;\n",
       "  s.onreadystatechange = s.onload = callback;\n",
       "  s.onerror = function(){console.warn(\"failed to load library \" + url);};\n",
       "  document.getElementsByTagName(\"head\")[0].appendChild(s);\n",
       "}\n",
       "\n",
       "if(typeof(LDAvis) !== \"undefined\"){\n",
       "   // already loaded: just create the visualization\n",
       "   !function(LDAvis){\n",
       "       new LDAvis(\"#\" + \"ldavis_el148061403165522944728743012842\", ldavis_el148061403165522944728743012842_data);\n",
       "   }(LDAvis);\n",
       "}else if(typeof define === \"function\" && define.amd){\n",
       "   // require.js is available: use it to load d3/LDAvis\n",
       "   require.config({paths: {d3: \"https://cdnjs.cloudflare.com/ajax/libs/d3/3.5.5/d3.min\"}});\n",
       "   require([\"d3\"], function(d3){\n",
       "      window.d3 = d3;\n",
       "      LDAvis_load_lib(\"https://cdn.rawgit.com/bmabey/pyLDAvis/files/ldavis.v1.0.0.js\", function(){\n",
       "        new LDAvis(\"#\" + \"ldavis_el148061403165522944728743012842\", ldavis_el148061403165522944728743012842_data);\n",
       "      });\n",
       "    });\n",
       "}else{\n",
       "    // require.js not available: dynamically load d3 & LDAvis\n",
       "    LDAvis_load_lib(\"https://cdnjs.cloudflare.com/ajax/libs/d3/3.5.5/d3.min.js\", function(){\n",
       "         LDAvis_load_lib(\"https://cdn.rawgit.com/bmabey/pyLDAvis/files/ldavis.v1.0.0.js\", function(){\n",
       "                 new LDAvis(\"#\" + \"ldavis_el148061403165522944728743012842\", ldavis_el148061403165522944728743012842_data);\n",
       "            })\n",
       "         });\n",
       "}\n",
       "</script>"
      ],
      "text/plain": [
       "<IPython.core.display.HTML object>"
      ]
     },
     "execution_count": 75,
     "metadata": {},
     "output_type": "execute_result"
    }
   ],
   "source": [
    "NUM_TOPICS = 5\n",
    "ldamodel = gensim.models.ldamodel.LdaModel(vector_2017, num_topics = NUM_TOPICS, id2word=dict_2017, passes=5)\n",
    "#ldamodel.save('model10.gensim')\n",
    "\n",
    "lda_display = pyLDAvis.gensim.prepare(ldamodel, corpus_2017, dict_2017, sort_topics=True)\n",
    "pyLDAvis.display(lda_display)"
   ]
  },
  {
   "cell_type": "code",
   "execution_count": 76,
   "metadata": {},
   "outputs": [],
   "source": [
    "pickle.dump(corpus_2017, open('corpus_2017.pkl', 'wb'))\n",
    "dict_2017.save('dict_2017.gensim')\n",
    "ldamodel.save('model5_2017.gensim')"
   ]
  }
 ],
 "metadata": {
  "kernelspec": {
   "display_name": "Python 3",
   "language": "python",
   "name": "python3"
  },
  "language_info": {
   "codemirror_mode": {
    "name": "ipython",
    "version": 3
   },
   "file_extension": ".py",
   "mimetype": "text/x-python",
   "name": "python",
   "nbconvert_exporter": "python",
   "pygments_lexer": "ipython3",
   "version": "3.6.2"
  }
 },
 "nbformat": 4,
 "nbformat_minor": 2
}
